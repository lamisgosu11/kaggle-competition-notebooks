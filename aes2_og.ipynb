{
 "cells": [
  {
   "cell_type": "code",
   "execution_count": 1,
   "id": "0acbd4b6",
   "metadata": {
    "execution": {
     "iopub.execute_input": "2024-06-30T09:47:29.372103Z",
     "iopub.status.busy": "2024-06-30T09:47:29.371748Z",
     "iopub.status.idle": "2024-06-30T09:47:29.376186Z",
     "shell.execute_reply": "2024-06-30T09:47:29.375390Z"
    },
    "papermill": {
     "duration": 0.017858,
     "end_time": "2024-06-30T09:47:29.378182",
     "exception": false,
     "start_time": "2024-06-30T09:47:29.360324",
     "status": "completed"
    },
    "tags": []
   },
   "outputs": [],
   "source": [
    "# import considering_upvote"
   ]
  },
  {
   "cell_type": "markdown",
   "id": "612ae810",
   "metadata": {
    "papermill": {
     "duration": 0.009804,
     "end_time": "2024-06-30T09:47:29.397795",
     "exception": false,
     "start_time": "2024-06-30T09:47:29.387991",
     "status": "completed"
    },
    "tags": []
   },
   "source": []
  },
  {
   "cell_type": "code",
   "execution_count": 2,
   "id": "20990a30",
   "metadata": {
    "execution": {
     "iopub.execute_input": "2024-06-30T09:47:29.418048Z",
     "iopub.status.busy": "2024-06-30T09:47:29.417798Z",
     "iopub.status.idle": "2024-06-30T09:47:57.481500Z",
     "shell.execute_reply": "2024-06-30T09:47:57.480647Z"
    },
    "papermill": {
     "duration": 28.076443,
     "end_time": "2024-06-30T09:47:57.483828",
     "exception": false,
     "start_time": "2024-06-30T09:47:29.407385",
     "status": "completed"
    },
    "tags": []
   },
   "outputs": [
    {
     "name": "stdout",
     "output_type": "stream",
     "text": [
      "CUDA_AVAILABLE = True\n"
     ]
    },
    {
     "name": "stderr",
     "output_type": "stream",
     "text": [
      "2024-06-30 09:47:40.873287: E external/local_xla/xla/stream_executor/cuda/cuda_dnn.cc:9261] Unable to register cuDNN factory: Attempting to register factory for plugin cuDNN when one has already been registered\n",
      "2024-06-30 09:47:40.873433: E external/local_xla/xla/stream_executor/cuda/cuda_fft.cc:607] Unable to register cuFFT factory: Attempting to register factory for plugin cuFFT when one has already been registered\n",
      "2024-06-30 09:47:41.008889: E external/local_xla/xla/stream_executor/cuda/cuda_blas.cc:1515] Unable to register cuBLAS factory: Attempting to register factory for plugin cuBLAS when one has already been registered\n",
      "/opt/conda/lib/python3.10/site-packages/dask/dataframe/_pyarrow_compat.py:23: UserWarning: You are using pyarrow version 11.0.0 which is known to be insecure. See https://www.cve.org/CVERecord?id=CVE-2023-47248 for further details. Please upgrade to pyarrow>=14.0.1 or install pyarrow-hotfix to patch your current version.\n",
      "  warnings.warn(\n"
     ]
    }
   ],
   "source": [
    "def text_prep(x):\n",
    "    return x\n",
    "import aes2_preproces_cache_vectorize\n",
    "TUNE = False"
   ]
  },
  {
   "cell_type": "code",
   "execution_count": 3,
   "id": "d1694e81",
   "metadata": {
    "execution": {
     "iopub.execute_input": "2024-06-30T09:47:57.505410Z",
     "iopub.status.busy": "2024-06-30T09:47:57.505069Z",
     "iopub.status.idle": "2024-06-30T09:47:57.965000Z",
     "shell.execute_reply": "2024-06-30T09:47:57.964124Z"
    },
    "papermill": {
     "duration": 0.472939,
     "end_time": "2024-06-30T09:47:57.967202",
     "exception": false,
     "start_time": "2024-06-30T09:47:57.494263",
     "status": "completed"
    },
    "tags": []
   },
   "outputs": [
    {
     "data": {
      "text/plain": [
       "829"
      ]
     },
     "execution_count": 3,
     "metadata": {},
     "output_type": "execute_result"
    }
   ],
   "source": [
    "import gc\n",
    "\n",
    "gc.collect()"
   ]
  },
  {
   "cell_type": "code",
   "execution_count": 4,
   "id": "be547a2d",
   "metadata": {
    "execution": {
     "iopub.execute_input": "2024-06-30T09:47:57.988721Z",
     "iopub.status.busy": "2024-06-30T09:47:57.988435Z",
     "iopub.status.idle": "2024-06-30T09:47:57.994066Z",
     "shell.execute_reply": "2024-06-30T09:47:57.993100Z"
    },
    "papermill": {
     "duration": 0.018379,
     "end_time": "2024-06-30T09:47:57.995971",
     "exception": false,
     "start_time": "2024-06-30T09:47:57.977592",
     "status": "completed"
    },
    "tags": []
   },
   "outputs": [
    {
     "data": {
      "text/plain": [
       "2.998"
      ]
     },
     "execution_count": 4,
     "metadata": {},
     "output_type": "execute_result"
    }
   ],
   "source": [
    "aes2_preproces_cache_vectorize.a"
   ]
  },
  {
   "cell_type": "code",
   "execution_count": 5,
   "id": "f93aa571",
   "metadata": {
    "_cell_guid": "b1076dfc-b9ad-4769-8c92-a6c4dae69d19",
    "_uuid": "8f2839f25d086af736a60e9eeb907d3b93b6e0e5",
    "execution": {
     "iopub.execute_input": "2024-06-30T09:47:58.019022Z",
     "iopub.status.busy": "2024-06-30T09:47:58.018414Z",
     "iopub.status.idle": "2024-06-30T09:48:24.357693Z",
     "shell.execute_reply": "2024-06-30T09:48:24.356869Z"
    },
    "papermill": {
     "duration": 26.352908,
     "end_time": "2024-06-30T09:48:24.360090",
     "exception": false,
     "start_time": "2024-06-30T09:47:58.007182",
     "status": "completed"
    },
    "tags": []
   },
   "outputs": [],
   "source": [
    "import pickle\n",
    "\n",
    "with open(\"/kaggle/usr/lib/aes2-added-fb-prize-as-features-preprocessing/train_feats.pickle\", \"rb\") as f:\n",
    "    train_feats = pickle.load(f)\n",
    "with open(\"/kaggle/usr/lib/aes2-added-fb-prize-as-features-preprocessing/X.pickle\", \"rb\") as f:\n",
    "    X = pickle.load(f)\n",
    "with open(\"/kaggle/usr/lib/aes2-added-fb-prize-as-features-preprocessing/y.pickle\", \"rb\") as f:\n",
    "    y = pickle.load(f)\n",
    "with open(\"/kaggle/usr/lib/aes2-added-fb-prize-as-features-preprocessing/y_split.pickle\", \"rb\") as f:\n",
    "    y_split = pickle.load(f)\n",
    "with open(\n",
    "    \"/kaggle/input/aes2-eval-added-fb-prize-as-features-8168c5/feature_select.pickle\", \"rb\"\n",
    ") as f:\n",
    "    feature_select = pickle.load(f)\n",
    "    \n",
    "aes2_preproces_cache_vectorize.feature_select = feature_select"
   ]
  },
  {
   "cell_type": "code",
   "execution_count": 6,
   "id": "0d677a89",
   "metadata": {
    "execution": {
     "iopub.execute_input": "2024-06-30T09:48:24.382856Z",
     "iopub.status.busy": "2024-06-30T09:48:24.382537Z",
     "iopub.status.idle": "2024-06-30T09:48:24.386509Z",
     "shell.execute_reply": "2024-06-30T09:48:24.385655Z"
    },
    "papermill": {
     "duration": 0.017541,
     "end_time": "2024-06-30T09:48:24.388505",
     "exception": false,
     "start_time": "2024-06-30T09:48:24.370964",
     "status": "completed"
    },
    "tags": []
   },
   "outputs": [],
   "source": [
    "# train_feats[\"max_repeated_word_count\"] = train_feats[train_feats.columns[train_feats.columns.str.startswith(\"tfid_cnt_\")]].max(axis=1)"
   ]
  },
  {
   "cell_type": "code",
   "execution_count": 7,
   "id": "3e974c66",
   "metadata": {
    "execution": {
     "iopub.execute_input": "2024-06-30T09:48:24.410006Z",
     "iopub.status.busy": "2024-06-30T09:48:24.409740Z",
     "iopub.status.idle": "2024-06-30T09:48:25.611044Z",
     "shell.execute_reply": "2024-06-30T09:48:25.610008Z"
    },
    "papermill": {
     "duration": 1.214745,
     "end_time": "2024-06-30T09:48:25.613506",
     "exception": false,
     "start_time": "2024-06-30T09:48:24.398761",
     "status": "completed"
    },
    "tags": []
   },
   "outputs": [],
   "source": [
    "import numpy as np\n",
    "\n",
    "# X = train_feats[feature_select + [\"max_repeated_word_count\"]].astype(np.float32).values\n",
    "X = train_feats[feature_select].astype(np.float32).values"
   ]
  },
  {
   "cell_type": "code",
   "execution_count": 8,
   "id": "d5faf6cd",
   "metadata": {
    "execution": {
     "iopub.execute_input": "2024-06-30T09:48:25.636807Z",
     "iopub.status.busy": "2024-06-30T09:48:25.636465Z",
     "iopub.status.idle": "2024-06-30T09:54:07.185962Z",
     "shell.execute_reply": "2024-06-30T09:54:07.184949Z"
    },
    "papermill": {
     "duration": 341.563946,
     "end_time": "2024-06-30T09:54:07.188474",
     "exception": false,
     "start_time": "2024-06-30T09:48:25.624528",
     "status": "completed"
    },
    "tags": []
   },
   "outputs": [
    {
     "name": "stdout",
     "output_type": "stream",
     "text": [
      "fold 1\n"
     ]
    },
    {
     "name": "stderr",
     "output_type": "stream",
     "text": [
      "1 warning generated.\n",
      "1 warning generated.\n",
      "1 warning generated.\n",
      "1 warning generated.\n",
      "1 warning generated.\n",
      "1 warning generated.\n",
      "1 warning generated.\n",
      "1 warning generated.\n",
      "1 warning generated.\n",
      "1 warning generated.\n",
      "1 warning generated.\n",
      "1 warning generated.\n",
      "1 warning generated.\n",
      "1 warning generated.\n",
      "1 warning generated.\n",
      "1 warning generated.\n",
      "1 warning generated.\n",
      "1 warning generated.\n",
      "1 warning generated.\n",
      "1 warning generated.\n",
      "1 warning generated.\n",
      "1 warning generated.\n",
      "1 warning generated.\n",
      "1 warning generated.\n",
      "1 warning generated.\n",
      "1 warning generated.\n",
      "1 warning generated.\n",
      "1 warning generated.\n",
      "1 warning generated.\n",
      "1 warning generated.\n",
      "1 warning generated.\n",
      "1 warning generated.\n",
      "1 warning generated.\n"
     ]
    },
    {
     "name": "stdout",
     "output_type": "stream",
     "text": [
      "[LightGBM] [Info] Using self-defined objective function\n",
      "Training until validation scores don't improve for 75 rounds\n",
      "[100]\ttrain's QWK: 0.441957\tvalid's QWK: 0.445645\n",
      "[200]\ttrain's QWK: 0.706039\tvalid's QWK: 0.713271\n",
      "[300]\ttrain's QWK: 0.758577\tvalid's QWK: 0.758278\n",
      "[400]\ttrain's QWK: 0.78155\tvalid's QWK: 0.775783\n",
      "[500]\ttrain's QWK: 0.802852\tvalid's QWK: 0.797138\n",
      "[600]\ttrain's QWK: 0.815967\tvalid's QWK: 0.811266\n",
      "[700]\ttrain's QWK: 0.822301\tvalid's QWK: 0.823453\n",
      "[800]\ttrain's QWK: 0.827479\tvalid's QWK: 0.828467\n",
      "Early stopping, best iteration is:\n",
      "[764]\ttrain's QWK: 0.826213\tvalid's QWK: 0.830316\n",
      "Evaluated only: QWK\n",
      "Light best iter: 764\n"
     ]
    },
    {
     "name": "stderr",
     "output_type": "stream",
     "text": [
      "/opt/conda/lib/python3.10/site-packages/xgboost/sklearn.py:889: UserWarning: `eval_metric` in `fit` method is deprecated for better compatibility with scikit-learn, use `eval_metric` in constructor or`set_params` instead.\n",
      "  warnings.warn(\n",
      "/opt/conda/lib/python3.10/site-packages/xgboost/sklearn.py:889: UserWarning: `callbacks` in `fit` method is deprecated for better compatibility with scikit-learn, use `callbacks` in constructor or`set_params` instead.\n",
      "  warnings.warn(\n"
     ]
    },
    {
     "name": "stdout",
     "output_type": "stream",
     "text": [
      "[0]\tvalidation_0-rmse:1.15105\tvalidation_0-QWK:0.46053\tvalidation_1-rmse:1.15204\tvalidation_1-QWK:0.41681\n",
      "[0]\tvalidation_0-rmse:1.15105\tvalidation_0-QWK:0.46053\tvalidation_1-rmse:1.15204\tvalidation_1-QWK:0.41681\n",
      "[100]\tvalidation_0-rmse:0.36605\tvalidation_0-QWK:0.90970\tvalidation_1-rmse:0.53218\tvalidation_1-QWK:0.84107\n",
      "[100]\tvalidation_0-rmse:0.36605\tvalidation_0-QWK:0.90970\tvalidation_1-rmse:0.53218\tvalidation_1-QWK:0.84107\n",
      "XGBoost best iter: 110\n"
     ]
    },
    {
     "data": {
      "image/png": "[encoded data removed]",
      "text/plain": [
       "<Figure size 640x480 with 2 Axes>"
      ]
     },
     "metadata": {},
     "output_type": "display_data"
    },
    {
     "name": "stdout",
     "output_type": "stream",
     "text": [
      "F1 score across fold: 0.6821041929296936\n",
      "Cohen kappa score across fold: 0.8321029160270271\n"
     ]
    }
   ],
   "source": [
    "from sklearn.model_selection import StratifiedKFold\n",
    "from sklearn.linear_model import LinearRegression\n",
    "from sklearn.metrics import confusion_matrix, ConfusionMatrixDisplay, f1_score, cohen_kappa_score\n",
    "from aes2_preproces_cache_vectorize import *\n",
    "\n",
    "import builtins\n",
    "original_print = builtins.print\n",
    "def patch_print(text, *args, **kwargs):\n",
    "    if not isinstance(text, str):\n",
    "        return original_print(text, *args, **kwargs)\n",
    "    if \"\t\" in text:\n",
    "        n = text.split(\"\t\")[0]\n",
    "        try:\n",
    "            n = int(n.strip(\"[]\"))\n",
    "            if n % 100 == 0:\n",
    "                original_print(text)\n",
    "            return None\n",
    "        except:\n",
    "            pass\n",
    "    original_print(text, *args, **kwargs)\n",
    "\n",
    "builtins.print = patch_print\n",
    "\n",
    "n_splits = 15\n",
    "models = []\n",
    "predictions = []\n",
    "f1_scores = []\n",
    "kappa_scores = []\n",
    "\n",
    "\n",
    "def quadratic_weighted_kappa(y_true, y_pred):\n",
    "    if isinstance(y_pred, xgb.QuantileDMatrix):\n",
    "        # XGB\n",
    "        y_true, y_pred = y_pred, y_true\n",
    "\n",
    "        y_true = (y_true.get_label() + a).round()\n",
    "        y_pred = (y_pred + a).clip(1, 6).round()\n",
    "        qwk = cohen_kappa_score(y_true, y_pred, weights=\"quadratic\")\n",
    "        return 'QWK', qwk\n",
    "\n",
    "    else:\n",
    "        # For lgb\n",
    "        y_true = y_true + a\n",
    "        y_pred = (y_pred + a).clip(1, 6).round()\n",
    "        qwk = cohen_kappa_score(y_true, y_pred, weights=\"quadratic\")\n",
    "        return 'QWK', qwk, True\n",
    "    \n",
    "def qwk_obj(y_true, y_pred):\n",
    "    labels = y_true + a\n",
    "    preds = y_pred + a\n",
    "    preds = preds.clip(1, 6)\n",
    "    f = 1/2*np.sum((preds-labels)**2)\n",
    "    g = 1/2*np.sum((preds-a)**2+b)\n",
    "    df = preds - labels\n",
    "    dg = preds - a\n",
    "    grad = (df/g - f*dg/g**2)*len(labels)\n",
    "    hess = np.ones(len(labels))\n",
    "    return grad, hess\n",
    "\n",
    "class Predictor:\n",
    "    def __init__(self, models: list, n: float = 0.746):\n",
    "        self.models = models\n",
    "        self.n = n\n",
    "#         self.xgb_boost_best_iter = models[1].\n",
    "    def predict(self, X):\n",
    "        n_models = len(self.models)\n",
    "        predicted = None\n",
    "        n = self.n\n",
    "        for i, model in enumerate(self.models):\n",
    "            if i == 0:\n",
    "                predicted = n*model.predict(X)\n",
    "            else:\n",
    "                predicted += (1-n)*model.predict(X)\n",
    "        return predicted\n",
    "\n",
    "skf = StratifiedKFold(n_splits=n_splits, shuffle=True, random_state=0)\n",
    "xgboost_best_iters = []\n",
    "light_best_iters = []\n",
    "\n",
    "_test = pd.read_csv(\"/kaggle/input/learning-agency-lab-automated-essay-scoring-2/test.csv\")\n",
    "ENABLE_DONT_WASTE_YOUR_RUN_TIME = len(_test) < 10\n",
    "# ENABLE_DONT_WASTE_YOUR_RUN_TIME = False\n",
    "oof = np.zeros(len(train), dtype='float32')\n",
    "for i, (train_index, test_index) in enumerate(skf.split(X, y_split), 1):\n",
    "    # Split the data into training and testing sets for this fold\n",
    "    print('fold',i)\n",
    "    X_train_fold, X_test_fold = X[train_index], X[test_index]\n",
    "    y_train_fold, y_test_fold, y_test_fold_int = y[train_index], y[test_index], y_split[test_index]\n",
    "    callbacks = [log_evaluation(period=25), early_stopping(stopping_rounds=75, first_metric_only=True)]\n",
    "    light = lgb.LGBMRegressor(\n",
    "            objective = qwk_obj,\n",
    "            metrics = 'None',\n",
    "            learning_rate = 0.0031,\n",
    "            max_depth = 8,\n",
    "            num_leaves = 10,\n",
    "            colsample_bytree=0.3,\n",
    "            reg_alpha = 0.7,\n",
    "            reg_lambda = 0.1,\n",
    "            n_estimators=2414,\n",
    "            random_state=42,\n",
    "            extra_trees=True,\n",
    "            class_weight='balanced',\n",
    "            device='gpu' if CUDA_AVAILABLE else 'cpu',\n",
    "            verbosity = - 1\n",
    "        )\n",
    "\n",
    "    # Fit the model on the training data for this fold  \n",
    "    light.fit(\n",
    "        X_train_fold,\n",
    "        y_train_fold,\n",
    "        eval_names=['train', 'valid'],\n",
    "        eval_set=[(X_train_fold, y_train_fold), (X_test_fold, y_test_fold)],\n",
    "        eval_metric=quadratic_weighted_kappa,\n",
    "        callbacks=callbacks\n",
    "    )\n",
    "    light_best_iters.append(light.best_iteration_)\n",
    "    print(f\"Light best iter: {light.best_iteration_}\")\n",
    "   \n",
    "    xgb_regressor = xgb.XGBRegressor(\n",
    "        objective = qwk_obj,\n",
    "        verbosity = 0,\n",
    "        metrics = 'None',\n",
    "        learning_rate = 0.028,\n",
    "        max_depth = 8,\n",
    "        num_leaves = 114,\n",
    "        colsample_bytree=0.5,\n",
    "        reg_alpha = 0.1,\n",
    "        reg_lambda = 1.6, # validation_1-QWK:0.84010\n",
    "#         reg_lambda = 0.8, validation_1-QWK:0.83917\n",
    "        \n",
    "        n_estimators=1024,\n",
    "        random_state=42,\n",
    "#         gamma=0.05,\n",
    "        extra_trees=True,\n",
    "        scale_pos_weight=100,\n",
    "        class_weight='balanced',\n",
    "        tree_method=\"hist\",\n",
    "        device=\"gpu\" if CUDA_AVAILABLE else \"cpu\"\n",
    "    #             device='gpu',\n",
    "    #             verbosity = 1\n",
    "    )\n",
    "    \n",
    "    xgb_callbacks = [\n",
    "        xgb.callback.EvaluationMonitor(period=25),\n",
    "        xgb.callback.EarlyStopping(75, metric_name=\"QWK\", maximize=True, save_best=True, data_name=\"validation_1\")\n",
    "    ]\n",
    "    xgb_regressor.fit(\n",
    "        X_train_fold,\n",
    "        y_train_fold,\n",
    "        eval_set=[(X_train_fold, y_train_fold), (X_test_fold, y_test_fold)],\n",
    "        eval_metric=quadratic_weighted_kappa,\n",
    "        callbacks=xgb_callbacks\n",
    "    )\n",
    "    print(f\"XGBoost best iter: {xgb_regressor.get_booster().best_iteration}\")\n",
    "    xgboost_best_iters.append(xgb_regressor.get_booster().best_iteration)\n",
    "    predictor = Predictor([light, xgb_regressor], n=0.709)\n",
    "\n",
    "    models.append(predictor)\n",
    "    # Make predictions on the test data for this fold\n",
    "    predictions_fold = predictor.predict(X_test_fold)\n",
    "    predictions_fold = predictions_fold + a\n",
    "    oof[test_index] = predictions_fold\n",
    "    predictions_fold = predictions_fold.clip(1, 6).round()\n",
    "    predictions.append(predictions_fold)\n",
    "    # Calculate and store the F1 score for this fold\n",
    "    f1_fold = f1_score(y_test_fold_int, predictions_fold, average='weighted')\n",
    "    f1_scores.append(f1_fold)\n",
    "\n",
    "    # Calculate and store the Cohen's kappa score for this fold\n",
    "    kappa_fold = cohen_kappa_score(y_test_fold_int, predictions_fold, weights='quadratic')\n",
    "    kappa_scores.append(kappa_fold)\n",
    "#         predictor.booster_.save_model(f'fold_{i}.txt')\n",
    "    cm = confusion_matrix(y_test_fold_int, predictions_fold, labels=[x for x in range(1,7)])\n",
    "\n",
    "    disp = ConfusionMatrixDisplay(\n",
    "        confusion_matrix=cm,\n",
    "        display_labels=[x for x in range(1,7)]\n",
    "    )\n",
    "    disp.plot()\n",
    "    plt.show()\n",
    "    print(f'F1 score across fold: {f1_fold}')\n",
    "    print(f'Cohen kappa score across fold: {kappa_fold}')\n",
    "\n",
    "    gc.collect()\n",
    "    if ENABLE_DONT_WASTE_YOUR_RUN_TIME:\n",
    "        break\n"
   ]
  },
  {
   "cell_type": "code",
   "execution_count": 9,
   "id": "a043f2f2",
   "metadata": {
    "execution": {
     "iopub.execute_input": "2024-06-30T09:54:07.217523Z",
     "iopub.status.busy": "2024-06-30T09:54:07.217203Z",
     "iopub.status.idle": "2024-06-30T09:54:07.229125Z",
     "shell.execute_reply": "2024-06-30T09:54:07.228404Z"
    },
    "papermill": {
     "duration": 0.029106,
     "end_time": "2024-06-30T09:54:07.231029",
     "exception": false,
     "start_time": "2024-06-30T09:54:07.201923",
     "status": "completed"
    },
    "tags": []
   },
   "outputs": [],
   "source": [
    "def find_thresholds(true, pred, steps=50):\n",
    "\n",
    "    # SAVE TRIALS FOR PLOTTING\n",
    "    xs = [[],[],[],[],[]]\n",
    "    ys = [[],[],[],[],[]]\n",
    "\n",
    "    # COMPUTE BASELINE METRIC\n",
    "    threshold = [1.5, 2.5, 3.5, 4.5, 5.5]\n",
    "    pred2 = pd.cut(pred, [-np.inf] + threshold + [np.inf], \n",
    "                    labels=[1,2,3,4,5,6]).astype('int32')\n",
    "    best = cohen_kappa_score(true, pred2, weights=\"quadratic\")\n",
    "\n",
    "    # FIND FIVE OPTIMAL THRESHOLDS\n",
    "    for k in range(5):\n",
    "        for sign in [1,-1]:\n",
    "            v = threshold[k]\n",
    "            threshold2 = threshold.copy()\n",
    "            stop = 0\n",
    "            while stop<steps:\n",
    "                # TRY NEW THRESHOLD\n",
    "                v += sign * 0.01\n",
    "                threshold2[k] = v\n",
    "                pred2 = pd.cut(pred, [-np.inf] + threshold2 + [np.inf], \n",
    "                                labels=[1,2,3,4,5,6]).astype('int32')\n",
    "                metric = cohen_kappa_score(true, pred2, weights=\"quadratic\")\n",
    "\n",
    "                # SAVE TRIALS FOR PLOTTING\n",
    "                xs[k].append(v)\n",
    "                ys[k].append(metric)\n",
    "\n",
    "                # EARLY STOPPING\n",
    "                if metric<=best:\n",
    "                    stop += 1\n",
    "                else:\n",
    "                    stop = 0\n",
    "                    best = metric\n",
    "                    threshold = threshold2.copy()\n",
    "\n",
    "    # COMPUTE FINAL METRIC\n",
    "    pred2 = pd.cut(pred, [-np.inf] + threshold + [np.inf], \n",
    "                    labels=[1,2,3,4,5,6]).astype('int32')\n",
    "    best = cohen_kappa_score(true, pred2, weights=\"quadratic\")   \n",
    "\n",
    "    # RETURN RESULTS\n",
    "    threshold = [np.round(t,3) for t in threshold]\n",
    "    return best, threshold, xs, ys\n",
    "\n",
    "# best, thresholds, xs, ys = find_thresholds(y_split, oof, steps=500)\n",
    "# print('Best thresholds are:', thresholds )\n",
    "# print('=> achieve Overall CV QWK score =', best )\n",
    "\n",
    "thresholds = [1.51, 2.6, 3.5, 4.59, 5.56]"
   ]
  },
  {
   "cell_type": "code",
   "execution_count": null,
   "id": "123ffb18",
   "metadata": {
    "papermill": {
     "duration": 0.013061,
     "end_time": "2024-06-30T09:54:07.257759",
     "exception": false,
     "start_time": "2024-06-30T09:54:07.244698",
     "status": "completed"
    },
    "tags": []
   },
   "outputs": [],
   "source": []
  },
  {
   "cell_type": "code",
   "execution_count": 10,
   "id": "3e4fb372",
   "metadata": {
    "execution": {
     "iopub.execute_input": "2024-06-30T09:54:07.285588Z",
     "iopub.status.busy": "2024-06-30T09:54:07.285026Z",
     "iopub.status.idle": "2024-06-30T09:54:07.295143Z",
     "shell.execute_reply": "2024-06-30T09:54:07.294315Z"
    },
    "papermill": {
     "duration": 0.026182,
     "end_time": "2024-06-30T09:54:07.297118",
     "exception": false,
     "start_time": "2024-06-30T09:54:07.270936",
     "status": "completed"
    },
    "tags": []
   },
   "outputs": [],
   "source": [
    "if TUNE:\n",
    "    import optuna\n",
    "\n",
    "    def objective(trial):\n",
    "        xgb_regressor = xgb.XGBRegressor(\n",
    "            objective = qwk_obj,\n",
    "            verbosity = 0,\n",
    "            metrics = 'None',\n",
    "            learning_rate = 0.1,\n",
    "            max_depth = 8,\n",
    "            num_leaves = 10,\n",
    "            colsample_bytree=0.5,\n",
    "            reg_alpha = 0.1,\n",
    "            reg_lambda = trial.suggest_float('reg_lambda', 0, 2, step=0.05),\n",
    "    #         reg_lambda = 1.0, # validation_1-QWK:0.84010\n",
    "    #         reg_lambda = 0.8, validation_1-QWK:0.83917\n",
    "\n",
    "            n_estimators=1024,\n",
    "            random_state=42,\n",
    "    #         gamma=0.05,\n",
    "            extra_trees=True,\n",
    "            scale_pos_weight=100,\n",
    "            class_weight='balanced',\n",
    "            tree_method=\"hist\",\n",
    "            device=\"gpu\" if CUDA_AVAILABLE else \"cpu\"\n",
    "        #             device='gpu',\n",
    "        #             verbosity = 1\n",
    "        )\n",
    "\n",
    "        xgb_callbacks = [\n",
    "            xgb.callback.EvaluationMonitor(period=25),\n",
    "            xgb.callback.EarlyStopping(175, metric_name=\"QWK\", maximize=True, save_best=True, data_name=\"validation_1\")\n",
    "        ]\n",
    "        predictor = xgb_regressor.fit(\n",
    "            X_train_fold,\n",
    "            y_train_fold,\n",
    "            eval_set=[(X_train_fold, y_train_fold), (X_test_fold, y_test_fold)],\n",
    "            eval_metric=quadratic_weighted_kappa,\n",
    "            callbacks=xgb_callbacks\n",
    "        )\n",
    "\n",
    "        predictions_fold = predictor.predict(X_test_fold)\n",
    "        predictions_fold = predictions_fold + a\n",
    "        predictions_fold = predictions_fold.clip(1, 6).round()\n",
    "        predictions.append(predictions_fold)\n",
    "        # Calculate and store the F1 score for this fold\n",
    "\n",
    "\n",
    "        # Calculate and store the Cohen's kappa score for this fold\n",
    "        kappa_fold = cohen_kappa_score(y_test_fold_int, predictions_fold, weights='quadratic')\n",
    "        return kappa_fold\n",
    "\n",
    "    study = optuna.create_study(direction='maximize')\n",
    "    study.optimize(objective, n_trials=100)\n",
    "\n",
    "\n",
    "\n",
    "    print(f\"{study.best_params=}\")\n",
    "\n",
    "    with open(\"optuna_study.pickle\", \"wb\") as f:\n",
    "        pickle.dump(study, f)"
   ]
  },
  {
   "cell_type": "code",
   "execution_count": 11,
   "id": "332125ee",
   "metadata": {
    "execution": {
     "iopub.execute_input": "2024-06-30T09:54:07.325120Z",
     "iopub.status.busy": "2024-06-30T09:54:07.324389Z",
     "iopub.status.idle": "2024-06-30T09:54:07.377134Z",
     "shell.execute_reply": "2024-06-30T09:54:07.376268Z"
    },
    "papermill": {
     "duration": 0.068974,
     "end_time": "2024-06-30T09:54:07.379236",
     "exception": false,
     "start_time": "2024-06-30T09:54:07.310262",
     "status": "completed"
    },
    "tags": []
   },
   "outputs": [],
   "source": [
    "with open(\"models.pickle\", \"wb\") as f:\n",
    "    pickle.dump(models, f)"
   ]
  },
  {
   "cell_type": "code",
   "execution_count": 12,
   "id": "7c40d983",
   "metadata": {
    "execution": {
     "iopub.execute_input": "2024-06-30T09:54:07.408177Z",
     "iopub.status.busy": "2024-06-30T09:54:07.407900Z",
     "iopub.status.idle": "2024-06-30T09:54:07.413366Z",
     "shell.execute_reply": "2024-06-30T09:54:07.412516Z"
    },
    "papermill": {
     "duration": 0.021392,
     "end_time": "2024-06-30T09:54:07.415250",
     "exception": false,
     "start_time": "2024-06-30T09:54:07.393858",
     "status": "completed"
    },
    "tags": []
   },
   "outputs": [
    {
     "name": "stdout",
     "output_type": "stream",
     "text": [
      "Mean F1 score across 15 folds: 0.6821041929296936\n",
      "Mean Cohen kappa score across 15 folds: 0.8321029160270271\n",
      "XGBoost mean best iters: 110.0\n",
      "LightBoost mean best iters: 764.0\n"
     ]
    }
   ],
   "source": [
    "mean_f1_score = np.mean(f1_scores)\n",
    "mean_kappa_score = np.mean(kappa_scores)\n",
    "# Print the mean scores\n",
    "print(f'Mean F1 score across {n_splits} folds: {mean_f1_score}')\n",
    "print(f'Mean Cohen kappa score across {n_splits} folds: {mean_kappa_score}')\n",
    "print(f\"XGBoost mean best iters: {sum(xgboost_best_iters)/len(xgboost_best_iters)}\")\n",
    "print(f\"LightBoost mean best iters: {sum(light_best_iters)/len(light_best_iters)}\")"
   ]
  },
  {
   "cell_type": "code",
   "execution_count": 13,
   "id": "ecc5b73d",
   "metadata": {
    "execution": {
     "iopub.execute_input": "2024-06-30T09:54:07.443194Z",
     "iopub.status.busy": "2024-06-30T09:54:07.442931Z",
     "iopub.status.idle": "2024-06-30T09:56:20.904547Z",
     "shell.execute_reply": "2024-06-30T09:56:20.903575Z"
    },
    "papermill": {
     "duration": 133.477805,
     "end_time": "2024-06-30T09:56:20.906467",
     "exception": false,
     "start_time": "2024-06-30T09:54:07.428662",
     "status": "completed"
    },
    "tags": []
   },
   "outputs": [
    {
     "data": {
      "application/vnd.jupyter.widget-view+json": {
       "model_id": "79d86c54aec44498934387156c573f42",
       "version_major": 2,
       "version_minor": 0
      },
      "text/plain": [
       "  0%|          | 0/3 [00:00<?, ?ex/s]"
      ]
     },
     "metadata": {},
     "output_type": "display_data"
    },
    {
     "name": "stderr",
     "output_type": "stream",
     "text": [
      "/opt/conda/lib/python3.10/site-packages/accelerate/accelerator.py:432: FutureWarning: Passing the following arguments to `Accelerator` is deprecated and will be removed in version 1.0 of Accelerate: dict_keys(['dispatch_batches', 'split_batches', 'even_batches', 'use_seedable_sampler']). Please pass an `accelerate.DataLoaderConfiguration` instead: \n",
      "dataloader_config = DataLoaderConfiguration(dispatch_batches=None, split_batches=False, even_batches=True, use_seedable_sampler=True)\n",
      "  warnings.warn(\n"
     ]
    },
    {
     "data": {
      "text/html": [],
      "text/plain": [
       "<IPython.core.display.HTML object>"
      ]
     },
     "metadata": {},
     "output_type": "display_data"
    },
    {
     "data": {
      "text/html": [],
      "text/plain": [
       "<IPython.core.display.HTML object>"
      ]
     },
     "metadata": {},
     "output_type": "display_data"
    },
    {
     "data": {
      "text/html": [],
      "text/plain": [
       "<IPython.core.display.HTML object>"
      ]
     },
     "metadata": {},
     "output_type": "display_data"
    },
    {
     "data": {
      "text/html": [],
      "text/plain": [
       "<IPython.core.display.HTML object>"
      ]
     },
     "metadata": {},
     "output_type": "display_data"
    },
    {
     "data": {
      "text/html": [],
      "text/plain": [
       "<IPython.core.display.HTML object>"
      ]
     },
     "metadata": {},
     "output_type": "display_data"
    },
    {
     "name": "stdout",
     "output_type": "stream",
     "text": [
      "tokenizers.__version__: 0.15.2\n",
      "transformers.__version__: 4.38.2\n"
     ]
    },
    {
     "name": "stderr",
     "output_type": "stream",
     "text": [
      "Model: microsoft/deberta-v3-large Score: 0.4569  Scores: [0.4881251563991662, 0.45350791183634237, 0.4167653497073674, 0.4555629168241569, 0.47309887903749326, 0.4544346186864903]\n"
     ]
    },
    {
     "name": "stdout",
     "output_type": "stream",
     "text": [
      "0    000d118\n",
      "1    000fe60\n",
      "2    001ab80\n",
      "Name: text_id, dtype: object\n",
      "0    000d118\n",
      "1    000fe60\n",
      "2    001ab80\n",
      "Name: text_id, dtype: object\n",
      "CustomModel(\n",
      "  (model): DebertaV2Model(\n",
      "    (embeddings): DebertaV2Embeddings(\n",
      "      (word_embeddings): Embedding(128100, 1024, padding_idx=0)\n",
      "      (LayerNorm): LayerNorm((1024,), eps=1e-07, elementwise_affine=True)\n",
      "      (dropout): StableDropout()\n",
      "    )\n",
      "    (encoder): DebertaV2Encoder(\n",
      "      (layer): ModuleList(\n",
      "        (0-23): 24 x DebertaV2Layer(\n",
      "          (attention): DebertaV2Attention(\n",
      "            (self): DisentangledSelfAttention(\n",
      "              (query_proj): Linear(in_features=1024, out_features=1024, bias=True)\n",
      "              (key_proj): Linear(in_features=1024, out_features=1024, bias=True)\n",
      "              (value_proj): Linear(in_features=1024, out_features=1024, bias=True)\n",
      "              (pos_dropout): StableDropout()\n",
      "              (dropout): StableDropout()\n",
      "            )\n",
      "            (output): DebertaV2SelfOutput(\n",
      "              (dense): Linear(in_features=1024, out_features=1024, bias=True)\n",
      "              (LayerNorm): LayerNorm((1024,), eps=1e-07, elementwise_affine=True)\n",
      "              (dropout): StableDropout()\n",
      "            )\n",
      "          )\n",
      "          (intermediate): DebertaV2Intermediate(\n",
      "            (dense): Linear(in_features=1024, out_features=4096, bias=True)\n",
      "            (intermediate_act_fn): GELUActivation()\n",
      "          )\n",
      "          (output): DebertaV2Output(\n",
      "            (dense): Linear(in_features=4096, out_features=1024, bias=True)\n",
      "            (LayerNorm): LayerNorm((1024,), eps=1e-07, elementwise_affine=True)\n",
      "            (dropout): StableDropout()\n",
      "          )\n",
      "        )\n",
      "      )\n",
      "      (rel_embeddings): Embedding(512, 1024)\n",
      "      (LayerNorm): LayerNorm((1024,), eps=1e-07, elementwise_affine=True)\n",
      "    )\n",
      "  )\n",
      "  (pool): MeanPooling()\n",
      "  (fc): Linear(in_features=1024, out_features=6, bias=True)\n",
      ")\n",
      "/kaggle/input/0927-deberta-v3-large-unscale/microsoft-deberta-v3-large_fold0_best.pth\n"
     ]
    },
    {
     "data": {
      "application/vnd.jupyter.widget-view+json": {
       "model_id": "ca368827740641adac884cadc618a098",
       "version_major": 2,
       "version_minor": 0
      },
      "text/plain": [
       "  0%|          | 0/1 [00:00<?, ?it/s]"
      ]
     },
     "metadata": {},
     "output_type": "display_data"
    },
    {
     "name": "stderr",
     "output_type": "stream",
     "text": [
      "Exception in thread QueueFeederThread:\n",
      "Traceback (most recent call last):\n",
      "  File \"/opt/conda/lib/python3.10/multiprocessing/queues.py\", line 239, in _feed\n",
      "Exception in thread QueueFeederThread:\n",
      "Traceback (most recent call last):\n",
      "  File \"/opt/conda/lib/python3.10/multiprocessing/queues.py\", line 239, in _feed\n",
      "    reader_close()\n",
      "  File \"/opt/conda/lib/python3.10/multiprocessing/connection.py\", line 177, in close\n",
      "    reader_close()\n",
      "  File \"/opt/conda/lib/python3.10/multiprocessing/connection.py\", line 177, in close\n",
      "    self._close()\n",
      "  File \"/opt/conda/lib/python3.10/multiprocessing/connection.py\", line 361, in _close\n",
      "    self._close()\n",
      "  File \"/opt/conda/lib/python3.10/multiprocessing/connection.py\", line 361, in _close\n",
      "    _close(self._handle)\n",
      "OSError: [Errno 9] Bad file descriptor\n",
      "\n",
      "During handling of the above exception, another exception occurred:\n",
      "\n",
      "Traceback (most recent call last):\n",
      "  File \"/opt/conda/lib/python3.10/threading.py\", line 1016, in _bootstrap_inner\n",
      "    _close(self._handle)\n",
      "OSError: [Errno 9] Bad file descriptor\n",
      "\n",
      "During handling of the above exception, another exception occurred:\n",
      "\n",
      "Traceback (most recent call last):\n",
      "  File \"/opt/conda/lib/python3.10/threading.py\", line 1016, in _bootstrap_inner\n",
      "    self.run()\n",
      "  File \"/opt/conda/lib/python3.10/threading.py\", line 953, in run\n",
      "    self.run()\n",
      "  File \"/opt/conda/lib/python3.10/threading.py\", line 953, in run\n",
      "    self._target(*self._args, **self._kwargs)\n",
      "  File \"/opt/conda/lib/python3.10/multiprocessing/queues.py\", line 271, in _feed\n",
      "    self._target(*self._args, **self._kwargs)\n",
      "  File \"/opt/conda/lib/python3.10/multiprocessing/queues.py\", line 271, in _feed\n",
      "    queue_sem.release()\n",
      "ValueError: semaphore or lock released too many times\n",
      "    queue_sem.release()\n",
      "ValueError: semaphore or lock released too many times\n"
     ]
    },
    {
     "name": "stdout",
     "output_type": "stream",
     "text": [
      "Features number:  21911\n",
      "[2 3 4]\n"
     ]
    },
    {
     "data": {
      "text/html": [
       "<div>\n",
       "<style scoped>\n",
       "    .dataframe tbody tr th:only-of-type {\n",
       "        vertical-align: middle;\n",
       "    }\n",
       "\n",
       "    .dataframe tbody tr th {\n",
       "        vertical-align: top;\n",
       "    }\n",
       "\n",
       "    .dataframe thead th {\n",
       "        text-align: right;\n",
       "    }\n",
       "</style>\n",
       "<table border=\"1\" class=\"dataframe\">\n",
       "  <thead>\n",
       "    <tr style=\"text-align: right;\">\n",
       "      <th></th>\n",
       "      <th>essay_id</th>\n",
       "      <th>score</th>\n",
       "    </tr>\n",
       "  </thead>\n",
       "  <tbody>\n",
       "    <tr>\n",
       "      <th>0</th>\n",
       "      <td>000d118</td>\n",
       "      <td>2</td>\n",
       "    </tr>\n",
       "    <tr>\n",
       "      <th>1</th>\n",
       "      <td>000fe60</td>\n",
       "      <td>3</td>\n",
       "    </tr>\n",
       "    <tr>\n",
       "      <th>2</th>\n",
       "      <td>001ab80</td>\n",
       "      <td>4</td>\n",
       "    </tr>\n",
       "  </tbody>\n",
       "</table>\n",
       "</div>"
      ],
      "text/plain": [
       "  essay_id  score\n",
       "0  000d118      2\n",
       "1  000fe60      3\n",
       "2  001ab80      4"
      ]
     },
     "metadata": {},
     "output_type": "display_data"
    }
   ],
   "source": [
    "from aes2_preproces_cache_vectorize import preprocess_test, infer\n",
    "\n",
    "test_feats = preprocess_test()\n",
    "\n",
    "def infer(test_feats, models):\n",
    "    probabilities = []\n",
    "    for model in models:\n",
    "        proba = model.predict(test_feats) + a\n",
    "        probabilities.append(proba)\n",
    "        del model\n",
    "        gc.collect()\n",
    "\n",
    "    # Compute the average probabilities across all models\n",
    "    predictions = np.mean(probabilities, axis=0)\n",
    "    predictions = pd.cut(predictions, [-np.inf] + thresholds + [np.inf], \n",
    "                    labels=[1,2,3,4,5,6]).astype('int32')\n",
    "\n",
    "\n",
    "\n",
    "    # Print the predictions\n",
    "    print(predictions)\n",
    "\n",
    "    submission = pd.read_csv(\"/kaggle/input/learning-agency-lab-automated-essay-scoring-2/sample_submission.csv\")\n",
    "    submission['score'] = predictions\n",
    "    submission['score'] = submission['score'].astype(int)\n",
    "    submission.to_csv(\"submission.csv\", index=None)\n",
    "    return submission\n",
    "\n",
    "\n",
    "submission = infer(\n",
    "    test_feats[feature_select].astype(np.float32),\n",
    "    models\n",
    ")\n",
    "display(submission.head())"
   ]
  },
  {
   "cell_type": "code",
   "execution_count": 14,
   "id": "a3091589",
   "metadata": {
    "execution": {
     "iopub.execute_input": "2024-06-30T09:56:20.938769Z",
     "iopub.status.busy": "2024-06-30T09:56:20.938464Z",
     "iopub.status.idle": "2024-06-30T09:56:20.942484Z",
     "shell.execute_reply": "2024-06-30T09:56:20.941616Z"
    },
    "papermill": {
     "duration": 0.02221,
     "end_time": "2024-06-30T09:56:20.944435",
     "exception": false,
     "start_time": "2024-06-30T09:56:20.922225",
     "status": "completed"
    },
    "tags": []
   },
   "outputs": [],
   "source": [
    "# "
   ]
  }
 ],
 "metadata": {
  "kaggle": {
   "accelerator": "gpu",
   "dataSources": [
    {
     "databundleVersionId": 8059942,
     "sourceId": 71485,
     "sourceType": "competition"
    },
    {
     "datasetId": 2453564,
     "sourceId": 4155787,
     "sourceType": "datasetVersion"
    },
    {
     "datasetId": 2508107,
     "sourceId": 4256323,
     "sourceType": "datasetVersion"
    },
    {
     "datasetId": 4813598,
     "sourceId": 8141507,
     "sourceType": "datasetVersion"
    },
    {
     "datasetId": 4832208,
     "sourceId": 8166166,
     "sourceType": "datasetVersion"
    },
    {
     "datasetId": 4791897,
     "sourceId": 8339744,
     "sourceType": "datasetVersion"
    },
    {
     "sourceId": 175940118,
     "sourceType": "kernelVersion"
    },
    {
     "sourceId": 176861104,
     "sourceType": "kernelVersion"
    },
    {
     "sourceId": 176987758,
     "sourceType": "kernelVersion"
    },
    {
     "sourceId": 176989302,
     "sourceType": "kernelVersion"
    },
    {
     "sourceId": 177525613,
     "sourceType": "kernelVersion"
    },
    {
     "sourceId": 177724159,
     "sourceType": "kernelVersion"
    },
    {
     "sourceId": 178258998,
     "sourceType": "kernelVersion"
    }
   ],
   "dockerImageVersionId": 30674,
   "isGpuEnabled": true,
   "isInternetEnabled": false,
   "language": "python",
   "sourceType": "notebook"
  },
  "kernelspec": {
   "display_name": "Python 3",
   "language": "python",
   "name": "python3"
  },
  "language_info": {
   "codemirror_mode": {
    "name": "ipython",
    "version": 3
   },
   "file_extension": ".py",
   "mimetype": "text/x-python",
   "name": "python",
   "nbconvert_exporter": "python",
   "pygments_lexer": "ipython3",
   "version": "3.10.13"
  },
  "papermill": {
   "default_parameters": {},
   "duration": 537.407641,
   "end_time": "2024-06-30T09:56:23.985715",
   "environment_variables": {},
   "exception": null,
   "input_path": "__notebook__.ipynb",
   "output_path": "__notebook__.ipynb",
   "parameters": {},
   "start_time": "2024-06-30T09:47:26.578074",
   "version": "2.5.0"
  },
  "widgets": {
   "application/vnd.jupyter.widget-state+json": {
    "state": {
     "232e7ca189ea45bca1ec5e726ab6f860": {
      "model_module": "@jupyter-widgets/controls",
      "model_module_version": "1.5.0",
      "model_name": "DescriptionStyleModel",
      "state": {
       "_model_module": "@jupyter-widgets/controls",
       "_model_module_version": "1.5.0",
       "_model_name": "DescriptionStyleModel",
       "_view_count": null,
       "_view_module": "@jupyter-widgets/base",
       "_view_module_version": "1.2.0",
       "_view_name": "StyleView",
       "description_width": ""
      }
     },
     "2852871e47ac4fc4ad39826c5010fd20": {
      "model_module": "@jupyter-widgets/controls",
      "model_module_version": "1.5.0",
      "model_name": "DescriptionStyleModel",
      "state": {
       "_model_module": "@jupyter-widgets/controls",
       "_model_module_version": "1.5.0",
       "_model_name": "DescriptionStyleModel",
       "_view_count": null,
       "_view_module": "@jupyter-widgets/base",
       "_view_module_version": "1.2.0",
       "_view_name": "StyleView",
       "description_width": ""
      }
     },
     "30a637c80abe4a56bef08850cf1465c9": {
      "model_module": "@jupyter-widgets/controls",
      "model_module_version": "1.5.0",
      "model_name": "ProgressStyleModel",
      "state": {
       "_model_module": "@jupyter-widgets/controls",
       "_model_module_version": "1.5.0",
       "_model_name": "ProgressStyleModel",
       "_view_count": null,
       "_view_module": "@jupyter-widgets/base",
       "_view_module_version": "1.2.0",
       "_view_name": "StyleView",
       "bar_color": null,
       "description_width": ""
      }
     },
     "43823ad764044ccebeed12b09bb3556a": {
      "model_module": "@jupyter-widgets/base",
      "model_module_version": "1.2.0",
      "model_name": "LayoutModel",
      "state": {
       "_model_module": "@jupyter-widgets/base",
       "_model_module_version": "1.2.0",
       "_model_name": "LayoutModel",
       "_view_count": null,
       "_view_module": "@jupyter-widgets/base",
       "_view_module_version": "1.2.0",
       "_view_name": "LayoutView",
       "align_content": null,
       "align_items": null,
       "align_self": null,
       "border": null,
       "bottom": null,
       "display": null,
       "flex": null,
       "flex_flow": null,
       "grid_area": null,
       "grid_auto_columns": null,
       "grid_auto_flow": null,
       "grid_auto_rows": null,
       "grid_column": null,
       "grid_gap": null,
       "grid_row": null,
       "grid_template_areas": null,
       "grid_template_columns": null,
       "grid_template_rows": null,
       "height": null,
       "justify_content": null,
       "justify_items": null,
       "left": null,
       "margin": null,
       "max_height": null,
       "max_width": null,
       "min_height": null,
       "min_width": null,
       "object_fit": null,
       "object_position": null,
       "order": null,
       "overflow": null,
       "overflow_x": null,
       "overflow_y": null,
       "padding": null,
       "right": null,
       "top": null,
       "visibility": null,
       "width": null
      }
     },
     "523906a0f9794d50b1d8d046735f0b53": {
      "model_module": "@jupyter-widgets/controls",
      "model_module_version": "1.5.0",
      "model_name": "HTMLModel",
      "state": {
       "_dom_classes": [],
       "_model_module": "@jupyter-widgets/controls",
       "_model_module_version": "1.5.0",
       "_model_name": "HTMLModel",
       "_view_count": null,
       "_view_module": "@jupyter-widgets/controls",
       "_view_module_version": "1.5.0",
       "_view_name": "HTMLView",
       "description": "",
       "description_tooltip": null,
       "layout": "IPY_MODEL_efba68817b404b8083f61716065baa4a",
       "placeholder": "​",
       "style": "IPY_MODEL_879abf4eed514028accb7be7e716d2fb",
       "value": " 1/1 [00:01&lt;00:00,  1.12s/it]"
      }
     },
     "531cc4225dd741e885809a85d2af1200": {
      "model_module": "@jupyter-widgets/controls",
      "model_module_version": "1.5.0",
      "model_name": "HTMLModel",
      "state": {
       "_dom_classes": [],
       "_model_module": "@jupyter-widgets/controls",
       "_model_module_version": "1.5.0",
       "_model_name": "HTMLModel",
       "_view_count": null,
       "_view_module": "@jupyter-widgets/controls",
       "_view_module_version": "1.5.0",
       "_view_name": "HTMLView",
       "description": "",
       "description_tooltip": null,
       "layout": "IPY_MODEL_43823ad764044ccebeed12b09bb3556a",
       "placeholder": "​",
       "style": "IPY_MODEL_e28a2d73d4ac47409c6deee1d7141394",
       "value": "100%"
      }
     },
     "61120b3610c143fcb65c5ab9e4811455": {
      "model_module": "@jupyter-widgets/base",
      "model_module_version": "1.2.0",
      "model_name": "LayoutModel",
      "state": {
       "_model_module": "@jupyter-widgets/base",
       "_model_module_version": "1.2.0",
       "_model_name": "LayoutModel",
       "_view_count": null,
       "_view_module": "@jupyter-widgets/base",
       "_view_module_version": "1.2.0",
       "_view_name": "LayoutView",
       "align_content": null,
       "align_items": null,
       "align_self": null,
       "border": null,
       "bottom": null,
       "display": null,
       "flex": null,
       "flex_flow": null,
       "grid_area": null,
       "grid_auto_columns": null,
       "grid_auto_flow": null,
       "grid_auto_rows": null,
       "grid_column": null,
       "grid_gap": null,
       "grid_row": null,
       "grid_template_areas": null,
       "grid_template_columns": null,
       "grid_template_rows": null,
       "height": null,
       "justify_content": null,
       "justify_items": null,
       "left": null,
       "margin": null,
       "max_height": null,
       "max_width": null,
       "min_height": null,
       "min_width": null,
       "object_fit": null,
       "object_position": null,
       "order": null,
       "overflow": null,
       "overflow_x": null,
       "overflow_y": null,
       "padding": null,
       "right": null,
       "top": null,
       "visibility": null,
       "width": null
      }
     },
     "71d3b6935fd0416da842b3682294b1e3": {
      "model_module": "@jupyter-widgets/controls",
      "model_module_version": "1.5.0",
      "model_name": "FloatProgressModel",
      "state": {
       "_dom_classes": [],
       "_model_module": "@jupyter-widgets/controls",
       "_model_module_version": "1.5.0",
       "_model_name": "FloatProgressModel",
       "_view_count": null,
       "_view_module": "@jupyter-widgets/controls",
       "_view_module_version": "1.5.0",
       "_view_name": "ProgressView",
       "bar_style": "success",
       "description": "",
       "description_tooltip": null,
       "layout": "IPY_MODEL_61120b3610c143fcb65c5ab9e4811455",
       "max": 1.0,
       "min": 0.0,
       "orientation": "horizontal",
       "style": "IPY_MODEL_ebb4578ef4a14902aaec8c836a0034ef",
       "value": 1.0
      }
     },
     "78d55e62e939419ab7bce1e52325fb4b": {
      "model_module": "@jupyter-widgets/base",
      "model_module_version": "1.2.0",
      "model_name": "LayoutModel",
      "state": {
       "_model_module": "@jupyter-widgets/base",
       "_model_module_version": "1.2.0",
       "_model_name": "LayoutModel",
       "_view_count": null,
       "_view_module": "@jupyter-widgets/base",
       "_view_module_version": "1.2.0",
       "_view_name": "LayoutView",
       "align_content": null,
       "align_items": null,
       "align_self": null,
       "border": null,
       "bottom": null,
       "display": null,
       "flex": null,
       "flex_flow": null,
       "grid_area": null,
       "grid_auto_columns": null,
       "grid_auto_flow": null,
       "grid_auto_rows": null,
       "grid_column": null,
       "grid_gap": null,
       "grid_row": null,
       "grid_template_areas": null,
       "grid_template_columns": null,
       "grid_template_rows": null,
       "height": null,
       "justify_content": null,
       "justify_items": null,
       "left": null,
       "margin": null,
       "max_height": null,
       "max_width": null,
       "min_height": null,
       "min_width": null,
       "object_fit": null,
       "object_position": null,
       "order": null,
       "overflow": null,
       "overflow_x": null,
       "overflow_y": null,
       "padding": null,
       "right": null,
       "top": null,
       "visibility": null,
       "width": null
      }
     },
     "79d86c54aec44498934387156c573f42": {
      "model_module": "@jupyter-widgets/controls",
      "model_module_version": "1.5.0",
      "model_name": "HBoxModel",
      "state": {
       "_dom_classes": [],
       "_model_module": "@jupyter-widgets/controls",
       "_model_module_version": "1.5.0",
       "_model_name": "HBoxModel",
       "_view_count": null,
       "_view_module": "@jupyter-widgets/controls",
       "_view_module_version": "1.5.0",
       "_view_name": "HBoxView",
       "box_style": "",
       "children": [
        "IPY_MODEL_531cc4225dd741e885809a85d2af1200",
        "IPY_MODEL_a362aebfbf78495fa6dab4531273f5e5",
        "IPY_MODEL_ae835ef4d9fd4c45a889227fdd7ff11a"
       ],
       "layout": "IPY_MODEL_78d55e62e939419ab7bce1e52325fb4b"
      }
     },
     "80ae189210ea44579f0032f7141fbd0b": {
      "model_module": "@jupyter-widgets/base",
      "model_module_version": "1.2.0",
      "model_name": "LayoutModel",
      "state": {
       "_model_module": "@jupyter-widgets/base",
       "_model_module_version": "1.2.0",
       "_model_name": "LayoutModel",
       "_view_count": null,
       "_view_module": "@jupyter-widgets/base",
       "_view_module_version": "1.2.0",
       "_view_name": "LayoutView",
       "align_content": null,
       "align_items": null,
       "align_self": null,
       "border": null,
       "bottom": null,
       "display": null,
       "flex": null,
       "flex_flow": null,
       "grid_area": null,
       "grid_auto_columns": null,
       "grid_auto_flow": null,
       "grid_auto_rows": null,
       "grid_column": null,
       "grid_gap": null,
       "grid_row": null,
       "grid_template_areas": null,
       "grid_template_columns": null,
       "grid_template_rows": null,
       "height": null,
       "justify_content": null,
       "justify_items": null,
       "left": null,
       "margin": null,
       "max_height": null,
       "max_width": null,
       "min_height": null,
       "min_width": null,
       "object_fit": null,
       "object_position": null,
       "order": null,
       "overflow": null,
       "overflow_x": null,
       "overflow_y": null,
       "padding": null,
       "right": null,
       "top": null,
       "visibility": null,
       "width": null
      }
     },
     "879abf4eed514028accb7be7e716d2fb": {
      "model_module": "@jupyter-widgets/controls",
      "model_module_version": "1.5.0",
      "model_name": "DescriptionStyleModel",
      "state": {
       "_model_module": "@jupyter-widgets/controls",
       "_model_module_version": "1.5.0",
       "_model_name": "DescriptionStyleModel",
       "_view_count": null,
       "_view_module": "@jupyter-widgets/base",
       "_view_module_version": "1.2.0",
       "_view_name": "StyleView",
       "description_width": ""
      }
     },
     "9bac54df7e7d44c5aa595a5a2b30547f": {
      "model_module": "@jupyter-widgets/base",
      "model_module_version": "1.2.0",
      "model_name": "LayoutModel",
      "state": {
       "_model_module": "@jupyter-widgets/base",
       "_model_module_version": "1.2.0",
       "_model_name": "LayoutModel",
       "_view_count": null,
       "_view_module": "@jupyter-widgets/base",
       "_view_module_version": "1.2.0",
       "_view_name": "LayoutView",
       "align_content": null,
       "align_items": null,
       "align_self": null,
       "border": null,
       "bottom": null,
       "display": null,
       "flex": null,
       "flex_flow": null,
       "grid_area": null,
       "grid_auto_columns": null,
       "grid_auto_flow": null,
       "grid_auto_rows": null,
       "grid_column": null,
       "grid_gap": null,
       "grid_row": null,
       "grid_template_areas": null,
       "grid_template_columns": null,
       "grid_template_rows": null,
       "height": null,
       "justify_content": null,
       "justify_items": null,
       "left": null,
       "margin": null,
       "max_height": null,
       "max_width": null,
       "min_height": null,
       "min_width": null,
       "object_fit": null,
       "object_position": null,
       "order": null,
       "overflow": null,
       "overflow_x": null,
       "overflow_y": null,
       "padding": null,
       "right": null,
       "top": null,
       "visibility": null,
       "width": null
      }
     },
     "a362aebfbf78495fa6dab4531273f5e5": {
      "model_module": "@jupyter-widgets/controls",
      "model_module_version": "1.5.0",
      "model_name": "FloatProgressModel",
      "state": {
       "_dom_classes": [],
       "_model_module": "@jupyter-widgets/controls",
       "_model_module_version": "1.5.0",
       "_model_name": "FloatProgressModel",
       "_view_count": null,
       "_view_module": "@jupyter-widgets/controls",
       "_view_module_version": "1.5.0",
       "_view_name": "ProgressView",
       "bar_style": "success",
       "description": "",
       "description_tooltip": null,
       "layout": "IPY_MODEL_ef484d0ae1d64bc5b9b2a7826104a0a7",
       "max": 3.0,
       "min": 0.0,
       "orientation": "horizontal",
       "style": "IPY_MODEL_30a637c80abe4a56bef08850cf1465c9",
       "value": 3.0
      }
     },
     "a9f01719daa44f48a9bac7da4e42d3db": {
      "model_module": "@jupyter-widgets/base",
      "model_module_version": "1.2.0",
      "model_name": "LayoutModel",
      "state": {
       "_model_module": "@jupyter-widgets/base",
       "_model_module_version": "1.2.0",
       "_model_name": "LayoutModel",
       "_view_count": null,
       "_view_module": "@jupyter-widgets/base",
       "_view_module_version": "1.2.0",
       "_view_name": "LayoutView",
       "align_content": null,
       "align_items": null,
       "align_self": null,
       "border": null,
       "bottom": null,
       "display": null,
       "flex": null,
       "flex_flow": null,
       "grid_area": null,
       "grid_auto_columns": null,
       "grid_auto_flow": null,
       "grid_auto_rows": null,
       "grid_column": null,
       "grid_gap": null,
       "grid_row": null,
       "grid_template_areas": null,
       "grid_template_columns": null,
       "grid_template_rows": null,
       "height": null,
       "justify_content": null,
       "justify_items": null,
       "left": null,
       "margin": null,
       "max_height": null,
       "max_width": null,
       "min_height": null,
       "min_width": null,
       "object_fit": null,
       "object_position": null,
       "order": null,
       "overflow": null,
       "overflow_x": null,
       "overflow_y": null,
       "padding": null,
       "right": null,
       "top": null,
       "visibility": null,
       "width": null
      }
     },
     "ae835ef4d9fd4c45a889227fdd7ff11a": {
      "model_module": "@jupyter-widgets/controls",
      "model_module_version": "1.5.0",
      "model_name": "HTMLModel",
      "state": {
       "_dom_classes": [],
       "_model_module": "@jupyter-widgets/controls",
       "_model_module_version": "1.5.0",
       "_model_name": "HTMLModel",
       "_view_count": null,
       "_view_module": "@jupyter-widgets/controls",
       "_view_module_version": "1.5.0",
       "_view_name": "HTMLView",
       "description": "",
       "description_tooltip": null,
       "layout": "IPY_MODEL_a9f01719daa44f48a9bac7da4e42d3db",
       "placeholder": "​",
       "style": "IPY_MODEL_2852871e47ac4fc4ad39826c5010fd20",
       "value": " 3/3 [00:00&lt;00:00, 113.82ex/s]"
      }
     },
     "bb6700ffe6d74ea288d2f0235e9f7bde": {
      "model_module": "@jupyter-widgets/controls",
      "model_module_version": "1.5.0",
      "model_name": "HTMLModel",
      "state": {
       "_dom_classes": [],
       "_model_module": "@jupyter-widgets/controls",
       "_model_module_version": "1.5.0",
       "_model_name": "HTMLModel",
       "_view_count": null,
       "_view_module": "@jupyter-widgets/controls",
       "_view_module_version": "1.5.0",
       "_view_name": "HTMLView",
       "description": "",
       "description_tooltip": null,
       "layout": "IPY_MODEL_9bac54df7e7d44c5aa595a5a2b30547f",
       "placeholder": "​",
       "style": "IPY_MODEL_232e7ca189ea45bca1ec5e726ab6f860",
       "value": "100%"
      }
     },
     "ca368827740641adac884cadc618a098": {
      "model_module": "@jupyter-widgets/controls",
      "model_module_version": "1.5.0",
      "model_name": "HBoxModel",
      "state": {
       "_dom_classes": [],
       "_model_module": "@jupyter-widgets/controls",
       "_model_module_version": "1.5.0",
       "_model_name": "HBoxModel",
       "_view_count": null,
       "_view_module": "@jupyter-widgets/controls",
       "_view_module_version": "1.5.0",
       "_view_name": "HBoxView",
       "box_style": "",
       "children": [
        "IPY_MODEL_bb6700ffe6d74ea288d2f0235e9f7bde",
        "IPY_MODEL_71d3b6935fd0416da842b3682294b1e3",
        "IPY_MODEL_523906a0f9794d50b1d8d046735f0b53"
       ],
       "layout": "IPY_MODEL_80ae189210ea44579f0032f7141fbd0b"
      }
     },
     "e28a2d73d4ac47409c6deee1d7141394": {
      "model_module": "@jupyter-widgets/controls",
      "model_module_version": "1.5.0",
      "model_name": "DescriptionStyleModel",
      "state": {
       "_model_module": "@jupyter-widgets/controls",
       "_model_module_version": "1.5.0",
       "_model_name": "DescriptionStyleModel",
       "_view_count": null,
       "_view_module": "@jupyter-widgets/base",
       "_view_module_version": "1.2.0",
       "_view_name": "StyleView",
       "description_width": ""
      }
     },
     "ebb4578ef4a14902aaec8c836a0034ef": {
      "model_module": "@jupyter-widgets/controls",
      "model_module_version": "1.5.0",
      "model_name": "ProgressStyleModel",
      "state": {
       "_model_module": "@jupyter-widgets/controls",
       "_model_module_version": "1.5.0",
       "_model_name": "ProgressStyleModel",
       "_view_count": null,
       "_view_module": "@jupyter-widgets/base",
       "_view_module_version": "1.2.0",
       "_view_name": "StyleView",
       "bar_color": null,
       "description_width": ""
      }
     },
     "ef484d0ae1d64bc5b9b2a7826104a0a7": {
      "model_module": "@jupyter-widgets/base",
      "model_module_version": "1.2.0",
      "model_name": "LayoutModel",
      "state": {
       "_model_module": "@jupyter-widgets/base",
       "_model_module_version": "1.2.0",
       "_model_name": "LayoutModel",
       "_view_count": null,
       "_view_module": "@jupyter-widgets/base",
       "_view_module_version": "1.2.0",
       "_view_name": "LayoutView",
       "align_content": null,
       "align_items": null,
       "align_self": null,
       "border": null,
       "bottom": null,
       "display": null,
       "flex": null,
       "flex_flow": null,
       "grid_area": null,
       "grid_auto_columns": null,
       "grid_auto_flow": null,
       "grid_auto_rows": null,
       "grid_column": null,
       "grid_gap": null,
       "grid_row": null,
       "grid_template_areas": null,
       "grid_template_columns": null,
       "grid_template_rows": null,
       "height": null,
       "justify_content": null,
       "justify_items": null,
       "left": null,
       "margin": null,
       "max_height": null,
       "max_width": null,
       "min_height": null,
       "min_width": null,
       "object_fit": null,
       "object_position": null,
       "order": null,
       "overflow": null,
       "overflow_x": null,
       "overflow_y": null,
       "padding": null,
       "right": null,
       "top": null,
       "visibility": null,
       "width": null
      }
     },
     "efba68817b404b8083f61716065baa4a": {
      "model_module": "@jupyter-widgets/base",
      "model_module_version": "1.2.0",
      "model_name": "LayoutModel",
      "state": {
       "_model_module": "@jupyter-widgets/base",
       "_model_module_version": "1.2.0",
       "_model_name": "LayoutModel",
       "_view_count": null,
       "_view_module": "@jupyter-widgets/base",
       "_view_module_version": "1.2.0",
       "_view_name": "LayoutView",
       "align_content": null,
       "align_items": null,
       "align_self": null,
       "border": null,
       "bottom": null,
       "display": null,
       "flex": null,
       "flex_flow": null,
       "grid_area": null,
       "grid_auto_columns": null,
       "grid_auto_flow": null,
       "grid_auto_rows": null,
       "grid_column": null,
       "grid_gap": null,
       "grid_row": null,
       "grid_template_areas": null,
       "grid_template_columns": null,
       "grid_template_rows": null,
       "height": null,
       "justify_content": null,
       "justify_items": null,
       "left": null,
       "margin": null,
       "max_height": null,
       "max_width": null,
       "min_height": null,
       "min_width": null,
       "object_fit": null,
       "object_position": null,
       "order": null,
       "overflow": null,
       "overflow_x": null,
       "overflow_y": null,
       "padding": null,
       "right": null,
       "top": null,
       "visibility": null,
       "width": null
      }
     }
    },
    "version_major": 2,
    "version_minor": 0
   }
  }
 },
 "nbformat": 4,
 "nbformat_minor": 5
}
