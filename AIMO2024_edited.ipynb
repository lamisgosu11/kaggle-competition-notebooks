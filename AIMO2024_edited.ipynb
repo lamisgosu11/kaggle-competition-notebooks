{
 "cells": [
  {
   "cell_type": "markdown",
   "id": "db1f3ab0",
   "metadata": {
    "papermill": {
     "duration": 0.009968,
     "end_time": "2024-06-27T01:33:56.019490",
     "exception": false,
     "start_time": "2024-06-27T01:33:56.009522",
     "status": "completed"
    },
    "tags": []
   },
   "source": [
    "## Forked from https://www.kaggle.com/code/abdurrafae/improved-code-interpretation"
   ]
  },
  {
   "cell_type": "markdown",
   "id": "6f634842",
   "metadata": {
    "papermill": {
     "duration": 0.009329,
     "end_time": "2024-06-27T01:33:56.038457",
     "exception": false,
     "start_time": "2024-06-27T01:33:56.029128",
     "status": "completed"
    },
    "tags": []
   },
   "source": [
    "**Lewis:** the only changes in this notebook are those needed to run the original one with the new Kaggle evaluation API"
   ]
  },
  {
   "cell_type": "code",
   "execution_count": 1,
   "id": "36cb7467",
   "metadata": {
    "execution": {
     "iopub.execute_input": "2024-06-27T01:33:56.058495Z",
     "iopub.status.busy": "2024-06-27T01:33:56.058195Z",
     "iopub.status.idle": "2024-06-27T01:33:59.822161Z",
     "shell.execute_reply": "2024-06-27T01:33:59.820852Z"
    },
    "papermill": {
     "duration": 3.776361,
     "end_time": "2024-06-27T01:33:59.824343",
     "exception": false,
     "start_time": "2024-06-27T01:33:56.047982",
     "status": "completed"
    },
    "tags": []
   },
   "outputs": [
    {
     "name": "stdout",
     "output_type": "stream",
     "text": [
      "python版本： 3.10.13 | packaged by conda-forge | (main, Dec 23 2023, 15:36:39) [GCC 12.3.0]\n"
     ]
    },
    {
     "name": "stderr",
     "output_type": "stream",
     "text": [
      "/tmp/ipykernel_25/1834013600.py:4: DeprecationWarning: pkg_resources is deprecated as an API. See https://setuptools.pypa.io/en/latest/pkg_resources.html\n",
      "  import pkg_resources\n"
     ]
    },
    {
     "name": "stdout",
     "output_type": "stream",
     "text": [
      "torch版本：2.1.2\n",
      "CUDA版本： 12.1\n"
     ]
    }
   ],
   "source": [
    "import sys\n",
    "print('python版本：',sys.version)\n",
    "\n",
    "import pkg_resources\n",
    "\n",
    "def get_package_version(package_name):\n",
    "    try:\n",
    "        version = pkg_resources.get_distribution(package_name).version\n",
    "        return version\n",
    "    except pkg_resources.DistributionNotFound:\n",
    "        return \"Package not found\"\n",
    "\n",
    "package_name = \"torch\"\n",
    "version = get_package_version(package_name)\n",
    "print(f\"{package_name}版本：{version}\")\n",
    "\n",
    "import torch\n",
    "\n",
    "cuda_version = torch.version.cuda\n",
    "print(\"CUDA版本：\", cuda_version)"
   ]
  },
  {
   "cell_type": "code",
   "execution_count": 2,
   "id": "8e3342b7",
   "metadata": {
    "execution": {
     "iopub.execute_input": "2024-06-27T01:33:59.845433Z",
     "iopub.status.busy": "2024-06-27T01:33:59.845071Z",
     "iopub.status.idle": "2024-06-27T01:33:59.849098Z",
     "shell.execute_reply": "2024-06-27T01:33:59.848170Z"
    },
    "papermill": {
     "duration": 0.016596,
     "end_time": "2024-06-27T01:33:59.850997",
     "exception": false,
     "start_time": "2024-06-27T01:33:59.834401",
     "status": "completed"
    },
    "tags": []
   },
   "outputs": [],
   "source": [
    "## Forked From  https://kaggle.com/code/xiaoz259/pure-rng/notebook\n",
    "\n",
    "\n",
    "# credits:\n",
    "# https://www.kaggle.com/code/olyatsimboy/aimo-openmath-mistral-baseline\n",
    "# https://www.kaggle.com/code/aatiffraz/prompt-prediction-w-mixtral-mistral7b-gemma-llama\n",
    "# https://www.kaggle.com/code/thedrcat/aimo-mixtral-baseline"
   ]
  },
  {
   "cell_type": "code",
   "execution_count": 3,
   "id": "8c62f5f1",
   "metadata": {
    "execution": {
     "iopub.execute_input": "2024-06-27T01:33:59.872133Z",
     "iopub.status.busy": "2024-06-27T01:33:59.871412Z",
     "iopub.status.idle": "2024-06-27T01:33:59.875746Z",
     "shell.execute_reply": "2024-06-27T01:33:59.874922Z"
    },
    "papermill": {
     "duration": 0.016846,
     "end_time": "2024-06-27T01:33:59.877735",
     "exception": false,
     "start_time": "2024-06-27T01:33:59.860889",
     "status": "completed"
    },
    "tags": []
   },
   "outputs": [],
   "source": [
    "import time\n",
    "\n",
    "NOTEBOOK_START_TIME = time.time()"
   ]
  },
  {
   "cell_type": "code",
   "execution_count": 4,
   "id": "1c928f6a",
   "metadata": {
    "execution": {
     "iopub.execute_input": "2024-06-27T01:33:59.898734Z",
     "iopub.status.busy": "2024-06-27T01:33:59.898103Z",
     "iopub.status.idle": "2024-06-27T01:34:00.645460Z",
     "shell.execute_reply": "2024-06-27T01:34:00.644057Z"
    },
    "papermill": {
     "duration": 0.7604,
     "end_time": "2024-06-27T01:34:00.647813",
     "exception": false,
     "start_time": "2024-06-27T01:33:59.887413",
     "status": "completed"
    },
    "tags": []
   },
   "outputs": [],
   "source": [
    "import aimo\n",
    "\n",
    "env = aimo.make_env()\n",
    "iter_test = env.iter_test()"
   ]
  },
  {
   "cell_type": "markdown",
   "id": "be2ecd60",
   "metadata": {
    "papermill": {
     "duration": 0.009754,
     "end_time": "2024-06-27T01:34:00.668911",
     "exception": false,
     "start_time": "2024-06-27T01:34:00.659157",
     "status": "completed"
    },
    "tags": []
   },
   "source": [
    "TO-DO\n",
    "\n",
    "Change temperature as the question goes longer\n",
    "Change temperature based on question lenght"
   ]
  },
  {
   "cell_type": "markdown",
   "id": "41dede1c",
   "metadata": {
    "papermill": {
     "duration": 0.009465,
     "end_time": "2024-06-27T01:34:00.688123",
     "exception": false,
     "start_time": "2024-06-27T01:34:00.678658",
     "status": "completed"
    },
    "tags": []
   },
   "source": [
    "# Zero-shot MMOS-DeepSeekMath-7B with self-consistency and generated code reasoning evaluation\n",
    "\n",
    "Self-consistency is a modification of the standard greedy decoding in reasoning pipelines via sampling several diverse answers followed by aggregation, e.g., most common answer ([SC-CoT paper](https://arxiv.org/pdf/2203.11171.pdf)).\n",
    "\n",
    "In this kernel, we will consider MMOS-DeepSeekMath-7B RL-tuned backbone; in my experiments, this model produces more consistent code reasoning and the code block execution will allow us to decrease arithmetic hallucinations."
   ]
  },
  {
   "cell_type": "code",
   "execution_count": 5,
   "id": "b3847580",
   "metadata": {
    "execution": {
     "iopub.execute_input": "2024-06-27T01:34:00.709396Z",
     "iopub.status.busy": "2024-06-27T01:34:00.708565Z",
     "iopub.status.idle": "2024-06-27T01:34:00.713684Z",
     "shell.execute_reply": "2024-06-27T01:34:00.712878Z"
    },
    "papermill": {
     "duration": 0.017594,
     "end_time": "2024-06-27T01:34:00.715561",
     "exception": false,
     "start_time": "2024-06-27T01:34:00.697967",
     "status": "completed"
    },
    "tags": []
   },
   "outputs": [],
   "source": [
    "DEBUG = False\n",
    "\n",
    "QUANT = False\n",
    "\n",
    "if QUANT:\n",
    "    from transformers import BitsAndBytesConfig\n",
    "    quantization_config = BitsAndBytesConfig(\n",
    "        load_in_4bit = True,\n",
    "        bnb_4bit_quant_type=\"nf4\",\n",
    "        bnb_4bit_compute_dtype=torch.bfloat16,\n",
    "        bnb_4bit_use_double_quant=True,\n",
    "    )\n",
    "\n",
    "USE_PAST_KEY = True"
   ]
  },
  {
   "cell_type": "code",
   "execution_count": 6,
   "id": "156ca201",
   "metadata": {
    "execution": {
     "iopub.execute_input": "2024-06-27T01:34:00.736130Z",
     "iopub.status.busy": "2024-06-27T01:34:00.735875Z",
     "iopub.status.idle": "2024-06-27T01:34:12.671997Z",
     "shell.execute_reply": "2024-06-27T01:34:12.670859Z"
    },
    "papermill": {
     "duration": 11.949517,
     "end_time": "2024-06-27T01:34:12.674900",
     "exception": false,
     "start_time": "2024-06-27T01:34:00.725383",
     "status": "completed"
    },
    "tags": []
   },
   "outputs": [
    {
     "name": "stdout",
     "output_type": "stream",
     "text": [
      "Transformers Version: 4.39.3\n"
     ]
    },
    {
     "name": "stderr",
     "output_type": "stream",
     "text": [
      "2024-06-27 01:34:04.495237: E external/local_xla/xla/stream_executor/cuda/cuda_dnn.cc:9261] Unable to register cuDNN factory: Attempting to register factory for plugin cuDNN when one has already been registered\n",
      "2024-06-27 01:34:04.495347: E external/local_xla/xla/stream_executor/cuda/cuda_fft.cc:607] Unable to register cuFFT factory: Attempting to register factory for plugin cuFFT when one has already been registered\n",
      "2024-06-27 01:34:04.607347: E external/local_xla/xla/stream_executor/cuda/cuda_blas.cc:1515] Unable to register cuBLAS factory: Attempting to register factory for plugin cuBLAS when one has already been registered\n"
     ]
    },
    {
     "name": "stdout",
     "output_type": "stream",
     "text": [
      "CPU times: user 6.8 s, sys: 1.18 s, total: 7.97 s\n",
      "Wall time: 11.9 s\n"
     ]
    }
   ],
   "source": [
    "%%time\n",
    "if QUANT:\n",
    "    !pip install -U /kaggle/input/accelerate-wheelwhl/accelerate-0.29.1-py3-none-any.whl -qq\n",
    "    !pip install -U /kaggle/input/bitsandbytes-0-42-0-py3-none-any-whl/bitsandbytes-0.42.0-py3-none-any.whl -qq\n",
    "\n",
    "\n",
    "import torch\n",
    "import gc\n",
    "torch.backends.cuda.enable_mem_efficient_sdp(False)\n",
    "\n",
    "from transformers import (\n",
    "    AutoModelForCausalLM, \n",
    "    AutoTokenizer, \n",
    "    AutoConfig,\n",
    "    StoppingCriteria,\n",
    "    set_seed\n",
    ")\n",
    "\n",
    "import transformers\n",
    "print(f\"Transformers Version: {transformers.__version__}\")\n",
    "set_seed(42)"
   ]
  },
  {
   "cell_type": "code",
   "execution_count": 7,
   "id": "f4849c60",
   "metadata": {
    "execution": {
     "iopub.execute_input": "2024-06-27T01:34:12.697314Z",
     "iopub.status.busy": "2024-06-27T01:34:12.696667Z",
     "iopub.status.idle": "2024-06-27T01:34:12.701208Z",
     "shell.execute_reply": "2024-06-27T01:34:12.700350Z"
    },
    "papermill": {
     "duration": 0.017924,
     "end_time": "2024-06-27T01:34:12.703082",
     "exception": false,
     "start_time": "2024-06-27T01:34:12.685158",
     "status": "completed"
    },
    "tags": []
   },
   "outputs": [],
   "source": [
    "import pandas as pd\n",
    "from tqdm import tqdm\n",
    "PRIVATE = True\n",
    "\n",
    "# df = pd.read_csv('/kaggle/input/ai-mathematical-olympiad-prize/test.csv')\n",
    "# df.head()"
   ]
  },
  {
   "cell_type": "code",
   "execution_count": 8,
   "id": "f66494ca",
   "metadata": {
    "execution": {
     "iopub.execute_input": "2024-06-27T01:34:12.723919Z",
     "iopub.status.busy": "2024-06-27T01:34:12.723623Z",
     "iopub.status.idle": "2024-06-27T01:34:12.727151Z",
     "shell.execute_reply": "2024-06-27T01:34:12.726412Z"
    },
    "papermill": {
     "duration": 0.015986,
     "end_time": "2024-06-27T01:34:12.728927",
     "exception": false,
     "start_time": "2024-06-27T01:34:12.712941",
     "status": "completed"
    },
    "tags": []
   },
   "outputs": [],
   "source": [
    "# if len(df) < 5:\n",
    "#     df = pd.read_csv('/kaggle/input/ai-mathematical-olympiad-prize/train.csv')\n",
    "#     PRIVATE = False\n",
    "# df.head()"
   ]
  },
  {
   "cell_type": "code",
   "execution_count": 9,
   "id": "0e98b886",
   "metadata": {
    "execution": {
     "iopub.execute_input": "2024-06-27T01:34:12.749965Z",
     "iopub.status.busy": "2024-06-27T01:34:12.749705Z",
     "iopub.status.idle": "2024-06-27T01:34:12.754867Z",
     "shell.execute_reply": "2024-06-27T01:34:12.754031Z"
    },
    "papermill": {
     "duration": 0.01789,
     "end_time": "2024-06-27T01:34:12.756763",
     "exception": false,
     "start_time": "2024-06-27T01:34:12.738873",
     "status": "completed"
    },
    "tags": []
   },
   "outputs": [],
   "source": [
    "def naive_parse(answer):\n",
    "    out = []\n",
    "    start = False\n",
    "    end = False\n",
    "    for l in reversed(list(answer)):\n",
    "        if l in '0123456789' and not end:\n",
    "            start = True\n",
    "            out.append(l)\n",
    "        else:\n",
    "            if start:\n",
    "                end = True\n",
    "        \n",
    "    out = reversed(out)\n",
    "    return ''.join(out)"
   ]
  },
  {
   "cell_type": "code",
   "execution_count": 10,
   "id": "d29b2020",
   "metadata": {
    "execution": {
     "iopub.execute_input": "2024-06-27T01:34:12.777937Z",
     "iopub.status.busy": "2024-06-27T01:34:12.777674Z",
     "iopub.status.idle": "2024-06-27T01:34:12.791327Z",
     "shell.execute_reply": "2024-06-27T01:34:12.790518Z"
    },
    "papermill": {
     "duration": 0.026359,
     "end_time": "2024-06-27T01:34:12.793105",
     "exception": false,
     "start_time": "2024-06-27T01:34:12.766746",
     "status": "completed"
    },
    "tags": []
   },
   "outputs": [],
   "source": [
    "import re\n",
    "import sys\n",
    "import subprocess\n",
    "\n",
    "def return_last_print(output, n):\n",
    "    lines = output.strip().split('\\n')\n",
    "    if lines:\n",
    "        return lines[n]\n",
    "    else:\n",
    "        return \"\"\n",
    "\n",
    "def process_code(code, return_shell_output=False):\n",
    "    \n",
    "    def repl(match):\n",
    "        if \"real\" not in match.group():\n",
    "            return \"{}{}\".format(match.group()[:-1], ', real=True)')\n",
    "        else:\n",
    "            return \"{}{}\".format(match.group()[:-1], ')')\n",
    "    code = re.sub(r\"symbols\\([^)]+\\)\", repl, code)\n",
    "\n",
    "    if return_shell_output:\n",
    "        code = code.replace('\\n', '\\n    ')\n",
    "            # Add a try...except block\n",
    "        code = \"\\ntry:\\n    from sympy import *\\n{}\\nexcept Exception as e:\\n    print(e)\\n    print('FAIL')\\n\".format(code)\n",
    "    \n",
    "    if not return_shell_output:\n",
    "        print(code)\n",
    "    with open('code.py', 'w') as fout:\n",
    "        fout.write(code)\n",
    "    \n",
    "    batcmd = 'timeout 7 ' + sys.executable + ' code.py'\n",
    "    try:\n",
    "        shell_output = subprocess.check_output(batcmd, shell=True).decode('utf8')\n",
    "        return_value = return_last_print(shell_output, -1)\n",
    "        print(shell_output)\n",
    "        if return_shell_output:\n",
    "            if return_value=='FAIL':\n",
    "                CODE_STATUS = False\n",
    "                return_value = return_last_print(shell_output, -2)\n",
    "                if \"not defined\" in return_value:\n",
    "                    return_value+='\\nTry checking the formatting and imports'\n",
    "            else:\n",
    "                CODE_STATUS = True\n",
    "            return return_value, CODE_STATUS  \n",
    "        code_output = round(float(eval(return_value))) % 1000\n",
    "    except Exception as e:\n",
    "        print(e,'shell_output')\n",
    "        code_output = -1\n",
    "    \n",
    "    if return_shell_output:\n",
    "        if code_output==-1:\n",
    "            CODE_STATUS = False\n",
    "        else:\n",
    "            CODE_STATUS = True\n",
    "        return code_output, CODE_STATUS  \n",
    "    \n",
    "    \n",
    "    return code_output\n",
    "\n",
    "\n",
    "def process_text_output(output):\n",
    "    result = output    \n",
    "    try:\n",
    "        result_output = re.findall(r'\\\\boxed\\{(\\d+)\\}', result)\n",
    "\n",
    "        print('BOXED', result_output)\n",
    "        if not len(result_output):\n",
    "            result_output = naive_parse(result)\n",
    "        else:\n",
    "            result_output = result_output[-1]\n",
    "\n",
    "        print('BOXED FINAL', result_output)\n",
    "        if not len(result_output):\n",
    "            result_output = -1\n",
    "        \n",
    "        else:\n",
    "            result_output = round(float(eval(result_output))) % 1000\n",
    "    \n",
    "    except Exception as e:\n",
    "        print(e)\n",
    "        print('ERROR PARSING TEXT')\n",
    "        result_output = -1\n",
    "    \n",
    "    return result_output\n"
   ]
  },
  {
   "cell_type": "code",
   "execution_count": 11,
   "id": "52a81a48",
   "metadata": {
    "execution": {
     "iopub.execute_input": "2024-06-27T01:34:12.814015Z",
     "iopub.status.busy": "2024-06-27T01:34:12.813759Z",
     "iopub.status.idle": "2024-06-27T01:34:13.035553Z",
     "shell.execute_reply": "2024-06-27T01:34:13.034675Z"
    },
    "papermill": {
     "duration": 0.234563,
     "end_time": "2024-06-27T01:34:13.037539",
     "exception": false,
     "start_time": "2024-06-27T01:34:12.802976",
     "status": "completed"
    },
    "tags": []
   },
   "outputs": [
    {
     "data": {
      "text/plain": [
       "0"
      ]
     },
     "execution_count": 11,
     "metadata": {},
     "output_type": "execute_result"
    }
   ],
   "source": [
    "torch.cuda.empty_cache()\n",
    "gc.collect()"
   ]
  },
  {
   "cell_type": "code",
   "execution_count": 12,
   "id": "fbc129df",
   "metadata": {
    "execution": {
     "iopub.execute_input": "2024-06-27T01:34:13.060292Z",
     "iopub.status.busy": "2024-06-27T01:34:13.059994Z",
     "iopub.status.idle": "2024-06-27T01:34:13.064779Z",
     "shell.execute_reply": "2024-06-27T01:34:13.063966Z"
    },
    "papermill": {
     "duration": 0.018236,
     "end_time": "2024-06-27T01:34:13.066508",
     "exception": false,
     "start_time": "2024-06-27T01:34:13.048272",
     "status": "completed"
    },
    "tags": []
   },
   "outputs": [],
   "source": [
    "import re\n",
    "import math\n",
    "import random\n",
    "\n",
    "from collections import defaultdict\n",
    "\n",
    "n_repetitions = 17 if PRIVATE else 4 # Original notebook had 22 but times out :(\n",
    "TOTAL_TOKENS = 2048 # if PRIVATE else 512\n",
    "\n",
    "if PRIVATE:\n",
    "    TIME_LIMIT = 31500\n",
    "else:\n",
    "    TIME_LIMIT = 1"
   ]
  },
  {
   "cell_type": "code",
   "execution_count": 13,
   "id": "8a923ae6",
   "metadata": {
    "execution": {
     "iopub.execute_input": "2024-06-27T01:34:13.088015Z",
     "iopub.status.busy": "2024-06-27T01:34:13.087775Z",
     "iopub.status.idle": "2024-06-27T01:36:41.197001Z",
     "shell.execute_reply": "2024-06-27T01:36:41.196003Z"
    },
    "papermill": {
     "duration": 148.122826,
     "end_time": "2024-06-27T01:36:41.199447",
     "exception": false,
     "start_time": "2024-06-27T01:34:13.076621",
     "status": "completed"
    },
    "tags": []
   },
   "outputs": [
    {
     "name": "stderr",
     "output_type": "stream",
     "text": [
      "Special tokens have been added in the vocabulary, make sure the associated word embeddings are fine-tuned or trained.\n"
     ]
    },
    {
     "data": {
      "application/vnd.jupyter.widget-view+json": {
       "model_id": "869480f6f3244ee7a4e2b5c250484cc5",
       "version_major": 2,
       "version_minor": 0
      },
      "text/plain": [
       "Loading checkpoint shards:   0%|          | 0/3 [00:00<?, ?it/s]"
      ]
     },
     "metadata": {},
     "output_type": "display_data"
    }
   ],
   "source": [
    "if PRIVATE:\n",
    "\n",
    "    MODEL_PATH = \"/kaggle/input/deepseek-math\"#\"/kaggle/input/gemma/transformers/7b-it/1\"\n",
    "    DEEP = True\n",
    "\n",
    "    config = AutoConfig.from_pretrained(MODEL_PATH)\n",
    "    config.gradient_checkpointing = True\n",
    "\n",
    "    tokenizer = AutoTokenizer.from_pretrained(MODEL_PATH)\n",
    "\n",
    "    device_map = [('model.embed_tokens', 0),\n",
    "                 ('model.layers.0', 0),\n",
    "                 ('model.layers.1', 0),\n",
    "                 ('model.layers.2', 0),\n",
    "                 ('model.layers.3', 0),\n",
    "                 ('model.layers.4', 0),\n",
    "                 ('model.layers.5', 0),\n",
    "                 ('model.layers.6', 0),\n",
    "                 ('model.layers.7', 0),\n",
    "                 ('model.layers.8', 0),\n",
    "                 ('model.layers.9', 0),\n",
    "                 ('model.layers.10', 0),\n",
    "                 ('model.layers.11', 0),\n",
    "                 ('model.layers.12', 0),\n",
    "                 ('model.layers.13', 0),\n",
    "                 ('model.layers.14', 0),\n",
    "                 ('model.layers.15', 0),\n",
    "                 ('model.layers.16', 0),\n",
    "                 ('model.layers.17', 0),\n",
    "                 ('model.layers.18', 0),\n",
    "                 ('model.layers.19', 0),\n",
    "                 ('model.layers.20', 0),\n",
    "                 ('model.layers.21', 0),\n",
    "                 ('model.layers.22', 1),\n",
    "                 ('model.layers.23', 1),\n",
    "                 ('model.layers.24', 1),\n",
    "                 ('model.layers.25', 1),\n",
    "                 ('model.layers.26', 1),\n",
    "                 ('model.layers.27', 1),\n",
    "                 ('model.layers.28', 1),\n",
    "                 ('model.layers.29', 1),\n",
    "                 ('model.norm', 1),\n",
    "                 ('lm_head', 1)]\n",
    "\n",
    "    device_map = {ii:jj for (ii,jj) in device_map}\n",
    "\n",
    "    if QUANT:\n",
    "        from transformers import BitsAndBytesConfig\n",
    "        quantization_config = BitsAndBytesConfig(\n",
    "            load_in_4bit = True,\n",
    "            bnb_4bit_quant_type=\"nf4\",\n",
    "            bnb_4bit_compute_dtype=torch.bfloat16,\n",
    "            bnb_4bit_use_double_quant=True,\n",
    "        )\n",
    "        model = AutoModelForCausalLM.from_pretrained(\n",
    "            MODEL_PATH,\n",
    "            device_map=\"sequential\",\n",
    "            torch_dtype=\"auto\",\n",
    "            trust_remote_code=True, \n",
    "            quantization_config=quantization_config,\n",
    "            config=config\n",
    "        )\n",
    "    else:  \n",
    "        model = AutoModelForCausalLM.from_pretrained(\n",
    "            MODEL_PATH,\n",
    "            device_map=device_map,\n",
    "            torch_dtype=\"auto\",\n",
    "            trust_remote_code=True,\n",
    "            #quantization_config=quantization_config,\n",
    "            config=config\n",
    "        )\n",
    "    \n",
    "    pipeline = transformers.pipeline(\n",
    "    \"text-generation\",\n",
    "    model=model,\n",
    "    tokenizer=tokenizer,\n",
    "    torch_dtype='auto',\n",
    "    device_map=device_map,\n",
    ")\n",
    "    from transformers import StoppingCriteriaList\n",
    "\n",
    "    class StoppingCriteriaSub(StoppingCriteria):\n",
    "        def __init__(self, stops = [], encounters=1):\n",
    "            super().__init__()\n",
    "            self.stops = [stop.to(\"cuda\") for stop in stops]\n",
    "\n",
    "        def __call__(self, input_ids: torch.LongTensor, scores: torch.FloatTensor):\n",
    "            for stop in self.stops:\n",
    "                last_token = input_ids[0][-len(stop):]\n",
    "                if torch.all(torch.eq(stop,last_token)):\n",
    "                    return True\n",
    "            return False\n",
    "\n",
    "\n",
    "    stop_words = [\"```output\", \"```python\", \"```\\nOutput\" , \")\\n```\" , \"``````output\"] #,  \n",
    "    stop_words_ids = [tokenizer(stop_word, return_tensors='pt', add_special_tokens=False)['input_ids'].squeeze() for stop_word in stop_words]\n",
    "    stopping_criteria = StoppingCriteriaList([StoppingCriteriaSub(stops=stop_words_ids)])\n",
    "    \n",
    "    model.dtype, model.hf_device_map"
   ]
  },
  {
   "cell_type": "code",
   "execution_count": 14,
   "id": "b3693ebf",
   "metadata": {
    "execution": {
     "iopub.execute_input": "2024-06-27T01:36:41.221796Z",
     "iopub.status.busy": "2024-06-27T01:36:41.221488Z",
     "iopub.status.idle": "2024-06-27T01:36:41.226584Z",
     "shell.execute_reply": "2024-06-27T01:36:41.225797Z"
    },
    "papermill": {
     "duration": 0.018269,
     "end_time": "2024-06-27T01:36:41.228496",
     "exception": false,
     "start_time": "2024-06-27T01:36:41.210227",
     "status": "completed"
    },
    "tags": []
   },
   "outputs": [],
   "source": [
    "code = \"\"\"Below is a math problem you are to solve (positive numerical answer):\n",
    "\\\"{}\\\"\n",
    "To accomplish this, first determine a sympy-based approach for solving the problem by listing each step to take and what functions need to be called in each step. Be clear so even an idiot can follow your instructions, and remember, your final answer should be positive integer, not an algebraic expression!\n",
    "Write the entire script covering all the steps (use comments and document it well) and print the result. After solving the problem, output the final numerical answer within \\\\boxed{}.\n",
    "\n",
    "Approach:\"\"\"\n",
    "\n",
    "\n",
    "cot = \"\"\"Below is a math problem you are to solve (positive numerical answer!):\n",
    "\\\"{}\\\"\n",
    "Analyze this problem and think step by step to come to a solution with programs. After solving the problem, output the final numerical answer within \\\\boxed{}.\\n\\n\"\"\"\n",
    "\n",
    "promplt_options = [code,cot]"
   ]
  },
  {
   "cell_type": "code",
   "execution_count": 15,
   "id": "9aa3a2ee",
   "metadata": {
    "_kg_hide-output": true,
    "execution": {
     "iopub.execute_input": "2024-06-27T01:36:41.250696Z",
     "iopub.status.busy": "2024-06-27T01:36:41.250416Z",
     "iopub.status.idle": "2024-06-27T01:40:45.561603Z",
     "shell.execute_reply": "2024-06-27T01:40:45.560616Z"
    },
    "papermill": {
     "duration": 244.325063,
     "end_time": "2024-06-27T01:40:45.563974",
     "exception": false,
     "start_time": "2024-06-27T01:36:41.238911",
     "status": "completed"
    },
    "tags": []
   },
   "outputs": [
    {
     "name": "stderr",
     "output_type": "stream",
     "text": [
      "0it [00:00, ?it/s]"
     ]
    },
    {
     "name": "stdout",
     "output_type": "stream",
     "text": [
      "This version of the API is not optimized and should not be used to estimate the runtime of your code on the hidden test set.\n",
      "Solving problem 0 ...\n"
     ]
    },
    {
     "name": "stderr",
     "output_type": "stream",
     "text": [
      "\n",
      "  0%|          | 0/17 [00:00<?, ?it/s]\u001b[A"
     ]
    },
    {
     "name": "stdout",
     "output_type": "stream",
     "text": [
      "\n",
      "\n",
      "\n",
      "QUESTION 0 - 0 - TIME_SPENT : 161 secs\n"
     ]
    },
    {
     "name": "stderr",
     "output_type": "stream",
     "text": [
      "Setting `pad_token_id` to `eos_token_id`:100001 for open-end generation.\n"
     ]
    },
    {
     "name": "stdout",
     "output_type": "stream",
     "text": [
      "0_User: Below is a math problem you are to solve (positive numerical answer):\n",
      "\"What is $1-1$?\"\n",
      "To accomplish this, first determine a sympy-based approach for solving the problem by listing each step to take and what functions need to be called in each step. Be clear so even an idiot can follow your instructions, and remember, your final answer should be positive integer, not an algebraic expression!\n",
      "Write the entire script covering all the steps (use comments and document it well) and print the result. After solving the problem, output the final numerical answer within \\boxed{}.\n",
      "\n",
      "Approach:\n",
      "\n"
     ]
    },
    {
     "name": "stderr",
     "output_type": "stream",
     "text": [
      "Setting `pad_token_id` to `eos_token_id`:100001 for open-end generation.\n"
     ]
    },
    {
     "name": "stdout",
     "output_type": "stream",
     "text": [
      "\n",
      "```python\n",
      "\n",
      "\n",
      "INTERMEDIATE OUT :\n",
      "\n",
      "from sympy import symbols\n",
      "\n",
      "def solve_math_problem():\n",
      "    # Define the variables\n",
      "    a, b = symbols('a b')\n",
      "\n",
      "    # Define the equations\n",
      "    eq1 = a - b\n",
      "\n",
      "    # Solve the equation with the given values\n",
      "    solution = eq1.subs({a: 1, b: 1})\n",
      "\n",
      "    return solution\n",
      "\n",
      "result = solve_math_problem()\n",
      "print(result)\n",
      "```\n",
      "\n"
     ]
    },
    {
     "name": "stderr",
     "output_type": "stream",
     "text": [
      "Setting `pad_token_id` to `eos_token_id`:100001 for open-end generation.\n"
     ]
    },
    {
     "name": "stdout",
     "output_type": "stream",
     "text": [
      "0\n",
      "\n",
      "CODE RESULTS 0\n"
     ]
    },
    {
     "name": "stderr",
     "output_type": "stream",
     "text": [
      "Setting `pad_token_id` to `eos_token_id`:100001 for open-end generation.\n"
     ]
    },
    {
     "name": "stdout",
     "output_type": "stream",
     "text": [
      "\n",
      "INTERMEDIATE OUT :\n",
      "```output\n",
      "0\n",
      "```\n",
      "The answer to the problem \"$1-1$\" is $\\boxed{0}$. However, this does not match the requirements of the problem, which asks for a positive numerical answer. Let's re-evaluate the problem and consider the fact that the subtraction of any number with itself results in zero, not a positive number. Therefore, the problem \"$1-1$\" is mathematically incorrect, as it represents subtracting the same value from itself. To correct this, we should re-state the problem as \"$1 + (-1)$\". Let's solve this new problem.\n",
      "\n",
      "```python\n",
      "\n",
      "\n",
      "INTERMEDIATE OUT :\n",
      "\n",
      "from sympy import symbols\n",
      "\n",
      "def solve_corrected_problem():\n",
      "    a, b = symbols('a b')\n",
      "    eq2 = a + (-b)\n",
      "    solution = eq2.subs({a: 1, b: 1})\n",
      "    return solution\n",
      "\n",
      "result = solve_corrected_problem()\n",
      "print(result)\n",
      "```\n",
      "\n"
     ]
    },
    {
     "name": "stderr",
     "output_type": "stream",
     "text": [
      "Setting `pad_token_id` to `eos_token_id`:100001 for open-end generation.\n"
     ]
    },
    {
     "name": "stdout",
     "output_type": "stream",
     "text": [
      "0\n",
      "0\n",
      "\n",
      "CODE RESULTS 0\n"
     ]
    },
    {
     "name": "stderr",
     "output_type": "stream",
     "text": [
      "Setting `pad_token_id` to `eos_token_id`:100001 for open-end generation.\n"
     ]
    },
    {
     "name": "stdout",
     "output_type": "stream",
     "text": [
      "\n",
      "INTERMEDIATE OUT :\n",
      "```output\n",
      "0\n",
      "```\n",
      "The solution to the corrected problem \"$1 + (-1)$\" is also 0, which still does not match the requirements of the problem, which asks for a positive numerical answer. This is because the problem \"$1 + (-1)$\" is equivalent to \"$1 - 1$\", which we already determined to be mathematically incorrect and results in zero. The correct interpretation of the original problem \"$1 - 1$\" would be to consider it as a simple arithmetic operation and not as a symbolic equation. In this case, the result is indeed 0, but this does not meet the requirements of the problem, which asks for a positive numerical answer.\n",
      "To solve the problem correctly, we should simply compute the value of the expression \"$1 - 1$\":\n",
      "\n",
      "```python\n",
      "\n",
      "\n",
      "INTERMEDIATE OUT :\n",
      "\n",
      "def calculate_expression():\n",
      "    result = 1 - 1\n",
      "    return result\n",
      "\n",
      "result = calculate_expression()\n",
      "print(result)\n",
      "``````output\n",
      "\n"
     ]
    },
    {
     "name": "stderr",
     "output_type": "stream",
     "text": [
      "Setting `pad_token_id` to `eos_token_id`:100001 for open-end generation.\n"
     ]
    },
    {
     "name": "stdout",
     "output_type": "stream",
     "text": [
      "0\n",
      "0\n",
      "0\n",
      "\n",
      "CODE RESULTS 0\n"
     ]
    },
    {
     "name": "stderr",
     "output_type": "stream",
     "text": [
      "Setting `pad_token_id` to `eos_token_id`:100001 for open-end generation.\n"
     ]
    },
    {
     "name": "stdout",
     "output_type": "stream",
     "text": [
      "\n",
      "INTERMEDIATE OUT :\n",
      "\n",
      "0\n",
      "```\n",
      "The value of the expression \"$1 - 1$\" is indeed 0. However, this does not meet the requirements of the problem, which asks for a positive numerical answer. This is because the problem \"$1 - 1$\" is mathematically incorrect and results in zero.\n",
      "To correct this, we should re-state the problem as \"$1 + (-1)$\". Let's solve this new problem:\n",
      "\n",
      "```python\n",
      "\n",
      "\n",
      "INTERMEDIATE OUT :\n",
      "\n",
      "def calculate_corrected_expression():\n",
      "    result = 1 + (-1)\n",
      "    return result\n",
      "\n",
      "result = calculate_corrected_expression()\n",
      "print(result)\n",
      "``````output\n",
      "\n"
     ]
    },
    {
     "name": "stderr",
     "output_type": "stream",
     "text": [
      "Setting `pad_token_id` to `eos_token_id`:100001 for open-end generation.\n"
     ]
    },
    {
     "name": "stdout",
     "output_type": "stream",
     "text": [
      "0\n",
      "0\n",
      "0\n",
      "0\n",
      "\n",
      "CODE RESULTS 0\n"
     ]
    },
    {
     "name": "stderr",
     "output_type": "stream",
     "text": [
      "Setting `pad_token_id` to `eos_token_id`:100001 for open-end generation.\n"
     ]
    },
    {
     "name": "stdout",
     "output_type": "stream",
     "text": [
      "\n",
      "INTERMEDIATE OUT :\n",
      "\n",
      "0\n",
      "```\n",
      "The value of the corrected expression \"$1 + (-1)$\" is also 0, which still does not meet the requirements of the problem, which asks for a positive numerical answer.\n",
      "This is because the problem \"$1 + (-1)$\" is equivalent to \"$1 - 1$\", which we already determined to be mathematically incorrect and results in zero. The correct interpretation of the original problem \"$1 - 1$\" would be to consider it as a simple arithmetic operation and not as a symbolic equation. In this case, the result is indeed 0, but this does not meet the requirements of the problem, which asks for a positive numerical answer.\n",
      "To solve the problem correctly, we should simply compute the value of the expression \"$1 - 1$\":\n",
      "\n",
      "```python\n",
      "\n",
      "\n",
      "INTERMEDIATE OUT :\n",
      "\n",
      "def calculate_expression():\n",
      "    result = 1 - 1\n",
      "    return result\n",
      "\n",
      "result = calculate_expression()\n",
      "print(result)\n",
      "``````output\n",
      "\n"
     ]
    },
    {
     "name": "stderr",
     "output_type": "stream",
     "text": [
      "Setting `pad_token_id` to `eos_token_id`:100001 for open-end generation.\n"
     ]
    },
    {
     "name": "stdout",
     "output_type": "stream",
     "text": [
      "0\n",
      "0\n",
      "0\n",
      "0\n",
      "0\n",
      "\n",
      "CODE RESULTS 0\n"
     ]
    },
    {
     "name": "stderr",
     "output_type": "stream",
     "text": [
      "Setting `pad_token_id` to `eos_token_id`:100001 for open-end generation.\n"
     ]
    },
    {
     "name": "stdout",
     "output_type": "stream",
     "text": [
      "\n",
      "INTERMEDIATE OUT :\n",
      "\n",
      "0\n",
      "```\n",
      "The value of the expression \"$1 - 1$\" is indeed 0. However, this does not meet the requirements of the problem, which asks for a positive numerical answer. This is because the problem \"$1 - 1$\" is mathematically incorrect and results in zero.\n",
      "To correct this, we should re-state the problem as \"$1 + (-1)$\". Let's solve this new problem:\n",
      "\n",
      "```python\n",
      "\n",
      "\n",
      "INTERMEDIATE OUT :\n",
      "\n",
      "def calculate_corrected_expression():\n",
      "    result = 1 + (-1)\n",
      "    return result\n",
      "\n",
      "result = calculate_corrected_expression()\n",
      "print(result)\n",
      "``````output\n",
      "\n"
     ]
    },
    {
     "name": "stderr",
     "output_type": "stream",
     "text": [
      "Setting `pad_token_id` to `eos_token_id`:100001 for open-end generation.\n"
     ]
    },
    {
     "name": "stdout",
     "output_type": "stream",
     "text": [
      "0\n",
      "0\n",
      "0\n",
      "0\n",
      "0\n",
      "0\n",
      "\n",
      "CODE RESULTS 0\n"
     ]
    },
    {
     "name": "stderr",
     "output_type": "stream",
     "text": [
      "Setting `pad_token_id` to `eos_token_id`:100001 for open-end generation.\n"
     ]
    },
    {
     "name": "stdout",
     "output_type": "stream",
     "text": [
      "\n",
      "INTERMEDIATE OUT :\n",
      "\n",
      "0\n",
      "```\n",
      "The value of the corrected expression \"$1 + (-1)$\" is also 0, which still does not meet the requirements of the problem, which asks for a positive numerical answer.\n",
      "This is because the problem \"$1 + (-1)$\" is equivalent to \"$1 - 1$\", which we already determined to be mathematically incorrect and results in zero. The correct interpretation of the original problem \"$1 - 1$\" would be to consider it as a simple arithmetic operation and not as a symbolic equation. In this case, the result is indeed 0, but this does not meet the requirements of the problem, which asks for a positive numerical answer.\n",
      "To solve the problem correctly, we should simply compute the value of the expression \"$1 - 1$\":\n",
      "\n",
      "```python\n",
      "\n",
      "\n",
      "INTERMEDIATE OUT :\n",
      "\n",
      "def calculate_expression():\n",
      "    result = 1 - 1\n",
      "    return result\n",
      "\n",
      "result = calculate_expression()\n",
      "print(result)\n",
      "``````output\n",
      "\n"
     ]
    },
    {
     "name": "stderr",
     "output_type": "stream",
     "text": [
      "Setting `pad_token_id` to `eos_token_id`:100001 for open-end generation.\n"
     ]
    },
    {
     "name": "stdout",
     "output_type": "stream",
     "text": [
      "0\n",
      "0\n",
      "0\n",
      "0\n",
      "0\n",
      "0\n",
      "0\n",
      "\n",
      "CODE RESULTS 0\n"
     ]
    },
    {
     "name": "stderr",
     "output_type": "stream",
     "text": [
      "Setting `pad_token_id` to `eos_token_id`:100001 for open-end generation.\n"
     ]
    },
    {
     "name": "stdout",
     "output_type": "stream",
     "text": [
      "\n",
      "INTERMEDIATE OUT :\n",
      "\n",
      "0\n",
      "```\n",
      "The value of the expression \"$1 - 1$\" is indeed 0. However, this does not meet the requirements of the problem, which asks for a positive numerical answer. This is because the problem \"$1 - 1$\" is mathematically incorrect and results in zero.\n",
      "To correct this, we should re-state the problem as \"$1 + (-1)$\". Let's solve this new problem:\n",
      "\n",
      "```python\n",
      "\n",
      "\n",
      "INTERMEDIATE OUT :\n",
      "\n",
      "def calculate_corrected_expression():\n",
      "    result = 1 + (-1)\n",
      "    return result\n",
      "\n",
      "result = calculate_corrected_expression()\n",
      "print(result)\n",
      "``````output\n",
      "\n"
     ]
    },
    {
     "name": "stderr",
     "output_type": "stream",
     "text": [
      "Setting `pad_token_id` to `eos_token_id`:100001 for open-end generation.\n"
     ]
    },
    {
     "name": "stdout",
     "output_type": "stream",
     "text": [
      "0\n",
      "0\n",
      "0\n",
      "0\n",
      "0\n",
      "0\n",
      "0\n",
      "0\n",
      "\n",
      "CODE RESULTS 0\n"
     ]
    },
    {
     "name": "stderr",
     "output_type": "stream",
     "text": [
      "Setting `pad_token_id` to `eos_token_id`:100001 for open-end generation.\n"
     ]
    },
    {
     "name": "stdout",
     "output_type": "stream",
     "text": [
      "\n",
      "INTERMEDIATE OUT :\n",
      "\n",
      "0\n",
      "```\n",
      "The value of the corrected expression \"$1 + (-1)$\" is also 0, which still does not meet the requirements of the problem, which asks for a positive numerical answer.\n",
      "This is because the problem \"$1 + (-1)$\" is equivalent to \"$1 - 1$\", which we already determined to be mathematically incorrect and results in zero. The correct interpretation of the original problem \"$1 - 1$\" would be to consider it as a simple arithmetic operation and not as a symbolic equation. In this case, the result is indeed 0, but this does not meet the requirements of the problem, which asks for a positive numerical answer.\n",
      "To solve the problem correctly, we should simply compute the value of the expression \"$1 - 1$\":\n",
      "\n",
      "```python\n",
      "\n",
      "\n",
      "INTERMEDIATE OUT :\n",
      "\n",
      "def calculate_expression():\n",
      "    result = 1 - 1\n",
      "    return result\n",
      "\n",
      "result = calculate_expression()\n",
      "print(result)\n",
      "``````output\n",
      "\n"
     ]
    },
    {
     "name": "stderr",
     "output_type": "stream",
     "text": [
      "Setting `pad_token_id` to `eos_token_id`:100001 for open-end generation.\n"
     ]
    },
    {
     "name": "stdout",
     "output_type": "stream",
     "text": [
      "0\n",
      "0\n",
      "0\n",
      "0\n",
      "0\n",
      "0\n",
      "0\n",
      "0\n",
      "0\n",
      "\n",
      "CODE RESULTS 0\n"
     ]
    },
    {
     "name": "stderr",
     "output_type": "stream",
     "text": [
      "Setting `pad_token_id` to `eos_token_id`:100001 for open-end generation.\n"
     ]
    },
    {
     "name": "stdout",
     "output_type": "stream",
     "text": [
      "\n",
      "INTERMEDIATE OUT :\n",
      "\n",
      "0\n",
      "```\n",
      "The value of the expression \"$1 - 1$\" is indeed 0. However, this does not meet the requirements of the problem, which asks for a positive numerical answer. This is because the problem \"$1 - 1$\" is mathematically incorrect and results in zero.\n",
      "To correct this, we should re-state the problem as \"$1 + (-1)$\". Let's solve this new problem:\n",
      "\n",
      "```python\n",
      "\n",
      "\n",
      "INTERMEDIATE OUT :\n",
      "\n",
      "def calculate_corrected_expression():\n",
      "    result = 1 + (-1)\n",
      "    return result\n",
      "\n",
      "result = calculate_corrected_expression()\n",
      "print(result)\n",
      "``````output\n",
      "\n"
     ]
    },
    {
     "name": "stderr",
     "output_type": "stream",
     "text": [
      "Setting `pad_token_id` to `eos_token_id`:100001 for open-end generation.\n"
     ]
    },
    {
     "name": "stdout",
     "output_type": "stream",
     "text": [
      "0\n",
      "0\n",
      "0\n",
      "0\n",
      "0\n",
      "0\n",
      "0\n",
      "0\n",
      "0\n",
      "0\n",
      "\n",
      "CODE RESULTS 0\n"
     ]
    },
    {
     "name": "stderr",
     "output_type": "stream",
     "text": [
      "Setting `pad_token_id` to `eos_token_id`:100001 for open-end generation.\n"
     ]
    },
    {
     "name": "stdout",
     "output_type": "stream",
     "text": [
      "\n",
      "INTERMEDIATE OUT :\n",
      "\n",
      "0\n",
      "```\n",
      "The value of the corrected expression \"$1 + (-1)$\" is also 0, which still does not meet the requirements of the problem, which asks for a positive numerical answer.\n",
      "This is because the problem \"$1 + (-1)$\" is equivalent to \"$1 - 1$\", which we already determined to be mathematically incorrect and results in zero. The correct interpretation of the original problem \"$1 - 1$\" would be to consider it as a simple arithmetic operation and not as a symbolic equation. In this case, the result is indeed 0, but this does not meet the requirements of the problem, which asks for a positive numerical answer.\n",
      "To solve the problem correctly, we should simply compute the value of the expression \"$1 - 1$\":\n",
      "\n",
      "```python\n",
      "\n",
      "\n",
      "INTERMEDIATE OUT :\n",
      "\n",
      "def calculate_expression():\n",
      "    result = 1 - 1\n",
      "    return result\n",
      "\n",
      "result = calculate_expression()\n",
      "print(result)\n",
      "``````output\n",
      "\n"
     ]
    },
    {
     "name": "stderr",
     "output_type": "stream",
     "text": [
      "Setting `pad_token_id` to `eos_token_id`:100001 for open-end generation.\n"
     ]
    },
    {
     "name": "stdout",
     "output_type": "stream",
     "text": [
      "0\n",
      "0\n",
      "0\n",
      "0\n",
      "0\n",
      "0\n",
      "0\n",
      "0\n",
      "0\n",
      "0\n",
      "0\n",
      "\n",
      "CODE RESULTS 0\n"
     ]
    },
    {
     "name": "stderr",
     "output_type": "stream",
     "text": [
      "Setting `pad_token_id` to `eos_token_id`:100001 for open-end generation.\n"
     ]
    },
    {
     "name": "stdout",
     "output_type": "stream",
     "text": [
      "\n",
      "INTERMEDIATE OUT :\n",
      "\n",
      "0\n",
      "```\n",
      "The value of the expression \"$1 - 1$\" is indeed 0. However, this does not meet the requirements of the problem, which asks for a positive numerical answer. This is because the problem \"$1 - 1$\" is mathematically incorrect and results in zero.\n",
      "To correct this, we should re-state the problem as \"$1 + (-1)$\". Let's solve this new problem:\n",
      "\n",
      "```python\n",
      "\n",
      "\n",
      "INTERMEDIATE OUT :\n",
      "\n",
      "def calculate_corrected_expression():\n",
      "    result = 1 + (-1)\n",
      "    return result\n",
      "\n",
      "result = calculate_corrected_expression()\n",
      "print(result)\n",
      "``````output\n",
      "\n"
     ]
    },
    {
     "name": "stderr",
     "output_type": "stream",
     "text": [
      "Setting `pad_token_id` to `eos_token_id`:100001 for open-end generation.\n"
     ]
    },
    {
     "name": "stdout",
     "output_type": "stream",
     "text": [
      "0\n",
      "0\n",
      "0\n",
      "0\n",
      "0\n",
      "0\n",
      "0\n",
      "0\n",
      "0\n",
      "0\n",
      "0\n",
      "0\n",
      "\n",
      "CODE RESULTS 0\n"
     ]
    },
    {
     "name": "stderr",
     "output_type": "stream",
     "text": [
      "\n",
      "  6%|▌         | 1/17 [02:35<41:33, 155.82s/it]\u001b[A"
     ]
    },
    {
     "name": "stdout",
     "output_type": "stream",
     "text": [
      "\n",
      "INTERMEDIATE OUT :\n",
      "\n",
      "0\n",
      "```\n",
      "The value of the corrected expression \"$1 + (-1)$\" is also 0, which still does not meet the requirements of the problem, which asks for a positive numerical answer.\n",
      "This is because the problem \"$1 + (-1)$\" is equivalent to \"$1\n",
      "\n",
      "BOXED ['0']\n",
      "BOXED FINAL 0\n",
      "[(0, 2)]\n",
      "GOOD ANSWER UPDATED!\n",
      "code_answers 1 text_answers 1\n",
      "\n",
      "\n",
      "\n",
      "QUESTION 0 - 1 - TIME_SPENT : 161 secs\n",
      "SKIPPING CAUSE ALREADY FOUND BEST\n",
      "\n",
      "\n",
      "\n",
      "QUESTION 0 - 2 - TIME_SPENT : 161 secs\n",
      "SKIPPING CAUSE ALREADY FOUND BEST\n",
      "\n",
      "\n",
      "\n",
      "QUESTION 0 - 3 - TIME_SPENT : 161 secs\n",
      "SKIPPING CAUSE ALREADY FOUND BEST\n",
      "\n",
      "\n",
      "\n",
      "QUESTION 0 - 4 - TIME_SPENT : 161 secs\n"
     ]
    },
    {
     "name": "stderr",
     "output_type": "stream",
     "text": [
      "Setting `pad_token_id` to `eos_token_id`:100001 for open-end generation.\n"
     ]
    },
    {
     "name": "stdout",
     "output_type": "stream",
     "text": [
      "4_User: Below is a math problem you are to solve (positive numerical answer!):\n",
      "\"What is $1-1$?\"\n",
      "Analyze this problem and think step by step to come to a solution with programs. After solving the problem, output the final numerical answer within \\boxed{}.\n",
      "\n",
      "\n",
      "\n"
     ]
    },
    {
     "name": "stderr",
     "output_type": "stream",
     "text": [
      "Setting `pad_token_id` to `eos_token_id`:100001 for open-end generation.\n"
     ]
    },
    {
     "name": "stdout",
     "output_type": "stream",
     "text": [
      "```python\n",
      "\n",
      "\n",
      "INTERMEDIATE OUT :\n",
      "\n",
      "def subtraction_operation():\n",
      "    \"\"\"Solve the subtraction operation $1 - 1$.\"\"\"\n",
      "    result = 1 - 1\n",
      "    return result\n",
      "\n",
      "result = subtraction_operation()\n",
      "print(result)\n",
      "```\n",
      "\n"
     ]
    },
    {
     "name": "stderr",
     "output_type": "stream",
     "text": [
      "Setting `pad_token_id` to `eos_token_id`:100001 for open-end generation.\n"
     ]
    },
    {
     "name": "stdout",
     "output_type": "stream",
     "text": [
      "0\n",
      "\n",
      "CODE RESULTS 0\n"
     ]
    },
    {
     "name": "stderr",
     "output_type": "stream",
     "text": [
      "\n",
      " 29%|██▉       | 5/17 [02:43<04:58, 24.90s/it] \u001b[A"
     ]
    },
    {
     "name": "stdout",
     "output_type": "stream",
     "text": [
      "\n",
      "INTERMEDIATE OUT :\n",
      "```output\n",
      "0\n",
      "```\n",
      "The result of $1 - 1$ is $0$. The answer is: $0$.\n",
      "\n",
      "BOXED []\n",
      "BOXED FINAL 0\n",
      "[(0, 4)]\n",
      "GOOD ANSWER UPDATED!\n",
      "code_answers 2 text_answers 2\n",
      "\n",
      "\n",
      "\n",
      "QUESTION 0 - 5 - TIME_SPENT : 161 secs\n",
      "SKIPPING CAUSE ALREADY FOUND BEST\n",
      "\n",
      "\n",
      "\n",
      "QUESTION 0 - 6 - TIME_SPENT : 161 secs\n",
      "SKIPPING CAUSE ALREADY FOUND BEST\n",
      "\n",
      "\n",
      "\n",
      "QUESTION 0 - 7 - TIME_SPENT : 161 secs\n",
      "SKIPPING CAUSE ALREADY FOUND BEST\n",
      "\n",
      "\n",
      "\n",
      "QUESTION 0 - 8 - TIME_SPENT : 161 secs\n",
      "SKIPPING CAUSE ALREADY FOUND BEST\n",
      "\n",
      "\n",
      "\n",
      "QUESTION 0 - 9 - TIME_SPENT : 161 secs\n",
      "SKIPPING CAUSE ALREADY FOUND BEST\n",
      "\n",
      "\n",
      "\n",
      "QUESTION 0 - 10 - TIME_SPENT : 161 secs\n",
      "SKIPPING CAUSE ALREADY FOUND BEST\n",
      "\n",
      "\n",
      "\n",
      "QUESTION 0 - 11 - TIME_SPENT : 161 secs\n",
      "SKIPPING CAUSE ALREADY FOUND BEST\n",
      "\n",
      "\n",
      "\n",
      "QUESTION 0 - 12 - TIME_SPENT : 161 secs\n",
      "SKIPPING CAUSE ALREADY FOUND BEST\n",
      "\n",
      "\n",
      "\n",
      "QUESTION 0 - 13 - TIME_SPENT : 161 secs\n",
      "SKIPPING CAUSE ALREADY FOUND BEST\n",
      "\n",
      "\n",
      "\n",
      "QUESTION 0 - 14 - TIME_SPENT : 161 secs\n",
      "SKIPPING CAUSE ALREADY FOUND BEST\n",
      "\n",
      "\n",
      "\n",
      "QUESTION 0 - 15 - TIME_SPENT : 161 secs\n",
      "SKIPPING CAUSE ALREADY FOUND BEST\n",
      "\n",
      "\n",
      "\n",
      "QUESTION 0 - 16 - TIME_SPENT : 161 secs\n"
     ]
    },
    {
     "name": "stderr",
     "output_type": "stream",
     "text": [
      "Setting `pad_token_id` to `eos_token_id`:100001 for open-end generation.\n"
     ]
    },
    {
     "name": "stdout",
     "output_type": "stream",
     "text": [
      "16_User: Below is a math problem you are to solve (positive numerical answer!):\n",
      "\"What is $1-1$?\"\n",
      "Analyze this problem and think step by step to come to a solution with programs. After solving the problem, output the final numerical answer within \\boxed{}.\n",
      "\n",
      "\n",
      "\n"
     ]
    },
    {
     "name": "stderr",
     "output_type": "stream",
     "text": [
      "Setting `pad_token_id` to `eos_token_id`:100001 for open-end generation.\n"
     ]
    },
    {
     "name": "stdout",
     "output_type": "stream",
     "text": [
      "```python\n",
      "\n",
      "\n",
      "INTERMEDIATE OUT :\n",
      "\n",
      "def calculate_expression():\n",
      "    \"\"\"What is $1-1$?\"\"\"\n",
      "    result = 1 - 1\n",
      "    return result\n",
      "\n",
      "result = calculate_expression()\n",
      "print(result)\n",
      "```\n",
      "\n"
     ]
    },
    {
     "name": "stderr",
     "output_type": "stream",
     "text": [
      "Setting `pad_token_id` to `eos_token_id`:100001 for open-end generation.\n"
     ]
    },
    {
     "name": "stdout",
     "output_type": "stream",
     "text": [
      "0\n",
      "\n",
      "CODE RESULTS 0\n"
     ]
    },
    {
     "name": "stderr",
     "output_type": "stream",
     "text": [
      " 94%|█████████▍| 16/17 [02:51<00:10, 10.71s/it]\n",
      "1it [02:51, 171.39s/it]"
     ]
    },
    {
     "name": "stdout",
     "output_type": "stream",
     "text": [
      "\n",
      "INTERMEDIATE OUT :\n",
      "```output\n",
      "0\n",
      "```\n",
      "The result of $1-1$ is $0$. The answer is: $0$.\n",
      "\n",
      "BOXED []\n",
      "BOXED FINAL 0\n",
      "[(0, 6)]\n",
      "GOOD ANSWER UPDATED!\n",
      "ANSWER FOUND!\n",
      "Predicted best answer: {0: (0, 4)}\n",
      "Solving problem 1 ...\n"
     ]
    },
    {
     "name": "stderr",
     "output_type": "stream",
     "text": [
      "\n",
      "  0%|          | 0/17 [00:00<?, ?it/s]\u001b[A"
     ]
    },
    {
     "name": "stdout",
     "output_type": "stream",
     "text": [
      "\n",
      "\n",
      "\n",
      "QUESTION 1 - 0 - TIME_SPENT : 333 secs\n"
     ]
    },
    {
     "name": "stderr",
     "output_type": "stream",
     "text": [
      "Setting `pad_token_id` to `eos_token_id`:100001 for open-end generation.\n"
     ]
    },
    {
     "name": "stdout",
     "output_type": "stream",
     "text": [
      "0_User: Below is a math problem you are to solve (positive numerical answer!):\n",
      "\"What is $0\\times10$?\"\n",
      "Analyze this problem and think step by step to come to a solution with programs. After solving the problem, output the final numerical answer within \\boxed{}.\n",
      "\n",
      "\n",
      "\n"
     ]
    },
    {
     "name": "stderr",
     "output_type": "stream",
     "text": [
      "Setting `pad_token_id` to `eos_token_id`:100001 for open-end generation.\n"
     ]
    },
    {
     "name": "stdout",
     "output_type": "stream",
     "text": [
      "The operation $0 \\times 10$ multiplies 0 by 10.\n",
      "\n",
      "In mathematics, any number multiplied by 0 equals 0. So, $0 \\times 10 = 0$.\n",
      "\n",
      "The solution is:\n",
      "\n",
      "```python\n",
      "\n",
      "\n",
      "INTERMEDIATE OUT :\n",
      "\n",
      "def multiplication():\n",
      "    \"\"\"What is $0\\times10$?\"\"\"\n",
      "    result = 0 * 10\n",
      "    return result\n",
      "\n",
      "result = multiplication()\n",
      "print(result)\n",
      "```\n",
      "\n"
     ]
    },
    {
     "name": "stderr",
     "output_type": "stream",
     "text": [
      "Setting `pad_token_id` to `eos_token_id`:100001 for open-end generation.\n"
     ]
    },
    {
     "name": "stdout",
     "output_type": "stream",
     "text": [
      "0\n",
      "\n",
      "CODE RESULTS 0\n"
     ]
    },
    {
     "name": "stderr",
     "output_type": "stream",
     "text": [
      "\n",
      "  6%|▌         | 1/17 [00:11<03:03, 11.50s/it]\u001b[A"
     ]
    },
    {
     "name": "stdout",
     "output_type": "stream",
     "text": [
      "\n",
      "INTERMEDIATE OUT :\n",
      "```output\n",
      "0\n",
      "```\n",
      "The result of $0 \\times 10$ is 0. So, the answer is $\\boxed{0}$.\n",
      "\n",
      "BOXED ['0']\n",
      "BOXED FINAL 0\n",
      "[(0, 2)]\n",
      "GOOD ANSWER UPDATED!\n",
      "code_answers 1 text_answers 1\n",
      "\n",
      "\n",
      "\n",
      "QUESTION 1 - 1 - TIME_SPENT : 333 secs\n",
      "SKIPPING CAUSE ALREADY FOUND BEST\n",
      "\n",
      "\n",
      "\n",
      "QUESTION 1 - 2 - TIME_SPENT : 333 secs\n",
      "SKIPPING CAUSE ALREADY FOUND BEST\n",
      "\n",
      "\n",
      "\n",
      "QUESTION 1 - 3 - TIME_SPENT : 333 secs\n",
      "SKIPPING CAUSE ALREADY FOUND BEST\n",
      "\n",
      "\n",
      "\n",
      "QUESTION 1 - 4 - TIME_SPENT : 333 secs\n"
     ]
    },
    {
     "name": "stderr",
     "output_type": "stream",
     "text": [
      "Setting `pad_token_id` to `eos_token_id`:100001 for open-end generation.\n"
     ]
    },
    {
     "name": "stdout",
     "output_type": "stream",
     "text": [
      "4_User: Below is a math problem you are to solve (positive numerical answer):\n",
      "\"What is $0\\times10$?\"\n",
      "To accomplish this, first determine a sympy-based approach for solving the problem by listing each step to take and what functions need to be called in each step. Be clear so even an idiot can follow your instructions, and remember, your final answer should be positive integer, not an algebraic expression!\n",
      "Write the entire script covering all the steps (use comments and document it well) and print the result. After solving the problem, output the final numerical answer within \\boxed{}.\n",
      "\n",
      "Approach:\n",
      "\n"
     ]
    },
    {
     "name": "stderr",
     "output_type": "stream",
     "text": [
      "Setting `pad_token_id` to `eos_token_id`:100001 for open-end generation.\n"
     ]
    },
    {
     "name": "stdout",
     "output_type": "stream",
     "text": [
      "\n",
      "1. Import the `sympy` library.\n",
      "2. Define the mathematical operation `0*10`.\n",
      "3. Print the result of the operation.\n",
      "\n",
      "```python\n",
      "\n",
      "\n",
      "INTERMEDIATE OUT :\n",
      "\n",
      "from sympy import *\n",
      "\n",
      "# Define the operation\n",
      "result = 0 * 10\n",
      "\n",
      "# Print the result\n",
      "print(result)\n",
      "```\n",
      "\n"
     ]
    },
    {
     "name": "stderr",
     "output_type": "stream",
     "text": [
      "Setting `pad_token_id` to `eos_token_id`:100001 for open-end generation.\n"
     ]
    },
    {
     "name": "stdout",
     "output_type": "stream",
     "text": [
      "0\n",
      "\n",
      "CODE RESULTS 0\n"
     ]
    },
    {
     "name": "stderr",
     "output_type": "stream",
     "text": [
      "\n",
      " 29%|██▉       | 5/17 [00:23<00:51,  4.27s/it]\u001b[A"
     ]
    },
    {
     "name": "stdout",
     "output_type": "stream",
     "text": [
      "\n",
      "INTERMEDIATE OUT :\n",
      "```output\n",
      "0\n",
      "```\n",
      "The result of $0\\times10$ is 0. Since 0 is a positive integer, the answer is $\\boxed{0}$. The correct answer of the question \"What is $0\\times10$?\" is 0. So, the answer is $0$.\n",
      "\n",
      "BOXED ['0']\n",
      "BOXED FINAL 0\n",
      "[(0, 4)]\n",
      "GOOD ANSWER UPDATED!\n",
      "code_answers 2 text_answers 2\n",
      "\n",
      "\n",
      "\n",
      "QUESTION 1 - 5 - TIME_SPENT : 333 secs\n",
      "SKIPPING CAUSE ALREADY FOUND BEST\n",
      "\n",
      "\n",
      "\n",
      "QUESTION 1 - 6 - TIME_SPENT : 333 secs\n",
      "SKIPPING CAUSE ALREADY FOUND BEST\n",
      "\n",
      "\n",
      "\n",
      "QUESTION 1 - 7 - TIME_SPENT : 333 secs\n",
      "SKIPPING CAUSE ALREADY FOUND BEST\n",
      "\n",
      "\n",
      "\n",
      "QUESTION 1 - 8 - TIME_SPENT : 333 secs\n",
      "SKIPPING CAUSE ALREADY FOUND BEST\n",
      "\n",
      "\n",
      "\n",
      "QUESTION 1 - 9 - TIME_SPENT : 333 secs\n",
      "SKIPPING CAUSE ALREADY FOUND BEST\n",
      "\n",
      "\n",
      "\n",
      "QUESTION 1 - 10 - TIME_SPENT : 333 secs\n",
      "SKIPPING CAUSE ALREADY FOUND BEST\n",
      "\n",
      "\n",
      "\n",
      "QUESTION 1 - 11 - TIME_SPENT : 333 secs\n",
      "SKIPPING CAUSE ALREADY FOUND BEST\n",
      "\n",
      "\n",
      "\n",
      "QUESTION 1 - 12 - TIME_SPENT : 333 secs\n",
      "SKIPPING CAUSE ALREADY FOUND BEST\n",
      "\n",
      "\n",
      "\n",
      "QUESTION 1 - 13 - TIME_SPENT : 333 secs\n",
      "SKIPPING CAUSE ALREADY FOUND BEST\n",
      "\n",
      "\n",
      "\n",
      "QUESTION 1 - 14 - TIME_SPENT : 333 secs\n",
      "SKIPPING CAUSE ALREADY FOUND BEST\n",
      "\n",
      "\n",
      "\n",
      "QUESTION 1 - 15 - TIME_SPENT : 333 secs\n",
      "SKIPPING CAUSE ALREADY FOUND BEST\n",
      "\n",
      "\n",
      "\n",
      "QUESTION 1 - 16 - TIME_SPENT : 333 secs\n"
     ]
    },
    {
     "name": "stderr",
     "output_type": "stream",
     "text": [
      "Setting `pad_token_id` to `eos_token_id`:100001 for open-end generation.\n"
     ]
    },
    {
     "name": "stdout",
     "output_type": "stream",
     "text": [
      "16_User: Below is a math problem you are to solve (positive numerical answer):\n",
      "\"What is $0\\times10$?\"\n",
      "To accomplish this, first determine a sympy-based approach for solving the problem by listing each step to take and what functions need to be called in each step. Be clear so even an idiot can follow your instructions, and remember, your final answer should be positive integer, not an algebraic expression!\n",
      "Write the entire script covering all the steps (use comments and document it well) and print the result. After solving the problem, output the final numerical answer within \\boxed{}.\n",
      "\n",
      "Approach:\n",
      "\n"
     ]
    },
    {
     "name": "stderr",
     "output_type": "stream",
     "text": [
      "Setting `pad_token_id` to `eos_token_id`:100001 for open-end generation.\n"
     ]
    },
    {
     "name": "stdout",
     "output_type": "stream",
     "text": [
      "\n",
      "To solve this problem using Python's sympy library, we can perform the multiplication directly.\n",
      "\n",
      "```python\n",
      "\n",
      "\n",
      "INTERMEDIATE OUT :\n",
      "\n",
      "from sympy import symbols\n",
      "\n",
      "def calculate_expression():\n",
      "    # Define the variables\n",
      "    x, y = symbols('x y')\n",
      "\n",
      "    # Define the expression\n",
      "    expression = x * y\n",
      "\n",
      "    # Substitute the values of x and y\n",
      "    result = expression.subs({x: 0, y: 10})\n",
      "\n",
      "    return result\n",
      "\n",
      "result = calculate_expression()\n",
      "print(result)\n",
      "```\n",
      "\n"
     ]
    },
    {
     "name": "stderr",
     "output_type": "stream",
     "text": [
      "Setting `pad_token_id` to `eos_token_id`:100001 for open-end generation.\n"
     ]
    },
    {
     "name": "stdout",
     "output_type": "stream",
     "text": [
      "0\n",
      "\n",
      "CODE RESULTS 0\n"
     ]
    },
    {
     "name": "stderr",
     "output_type": "stream",
     "text": [
      " 94%|█████████▍| 16/17 [00:37<00:02,  2.34s/it]\n",
      "2it [03:28, 92.63s/it] "
     ]
    },
    {
     "name": "stdout",
     "output_type": "stream",
     "text": [
      "\n",
      "INTERMEDIATE OUT :\n",
      "```output\n",
      "0\n",
      "```\n",
      "The value of $0 \\times 10$ is 0. Since 0 is a non-negative integer, the final answer is $\\boxed{0}$.\n",
      "The answer is: $0$\n",
      "\n",
      "BOXED ['0']\n",
      "BOXED FINAL 0\n",
      "[(0, 6)]\n",
      "GOOD ANSWER UPDATED!\n",
      "ANSWER FOUND!\n",
      "Predicted best answer: {0: (0, 4), 1: (0, 4)}\n",
      "Solving problem 2 ...\n"
     ]
    },
    {
     "name": "stderr",
     "output_type": "stream",
     "text": [
      "\n",
      "  0%|          | 0/17 [00:00<?, ?it/s]\u001b[A"
     ]
    },
    {
     "name": "stdout",
     "output_type": "stream",
     "text": [
      "\n",
      "\n",
      "\n",
      "QUESTION 2 - 0 - TIME_SPENT : 370 secs\n"
     ]
    },
    {
     "name": "stderr",
     "output_type": "stream",
     "text": [
      "Setting `pad_token_id` to `eos_token_id`:100001 for open-end generation.\n"
     ]
    },
    {
     "name": "stdout",
     "output_type": "stream",
     "text": [
      "0_User: Below is a math problem you are to solve (positive numerical answer):\n",
      "\"Solve $4+x=4$ for $x$.\"\n",
      "To accomplish this, first determine a sympy-based approach for solving the problem by listing each step to take and what functions need to be called in each step. Be clear so even an idiot can follow your instructions, and remember, your final answer should be positive integer, not an algebraic expression!\n",
      "Write the entire script covering all the steps (use comments and document it well) and print the result. After solving the problem, output the final numerical answer within \\boxed{}.\n",
      "\n",
      "Approach:\n",
      "\n"
     ]
    },
    {
     "name": "stderr",
     "output_type": "stream",
     "text": [
      "Setting `pad_token_id` to `eos_token_id`:100001 for open-end generation.\n"
     ]
    },
    {
     "name": "stdout",
     "output_type": "stream",
     "text": [
      "\n",
      "To solve $4+x=4$ for $x$, we need to isolate $x$ on one side of the equation. We can start by subtracting $4$ from both sides of the equation:\n",
      "\n",
      "```python\n",
      "\n",
      "\n",
      "INTERMEDIATE OUT :\n",
      "\n",
      "from sympy import symbols, Eq, solve\n",
      "\n",
      "def solve_equation():\n",
      "    x = symbols('x')\n",
      "    equation = Eq(4 + x, 4)\n",
      "    solution = solve(equation, x)[0]  # Take the first (and only) solution\n",
      "\n",
      "    return solution\n",
      "\n",
      "result = solve_equation()\n",
      "print(result)\n",
      "```\n",
      "\n"
     ]
    },
    {
     "name": "stderr",
     "output_type": "stream",
     "text": [
      "Setting `pad_token_id` to `eos_token_id`:100001 for open-end generation.\n"
     ]
    },
    {
     "name": "stdout",
     "output_type": "stream",
     "text": [
      "0\n",
      "\n",
      "CODE RESULTS 0\n"
     ]
    },
    {
     "name": "stderr",
     "output_type": "stream",
     "text": [
      "\n",
      "  6%|▌         | 1/17 [00:13<03:38, 13.66s/it]\u001b[A"
     ]
    },
    {
     "name": "stdout",
     "output_type": "stream",
     "text": [
      "\n",
      "INTERMEDIATE OUT :\n",
      "```output\n",
      "0\n",
      "```\n",
      "The solution to the equation $4+x=4$ is $x=0$. The answer is: $\\boxed{0}$.\n",
      "\n",
      "BOXED ['0']\n",
      "BOXED FINAL 0\n",
      "[(0, 2)]\n",
      "GOOD ANSWER UPDATED!\n",
      "code_answers 1 text_answers 1\n",
      "\n",
      "\n",
      "\n",
      "QUESTION 2 - 1 - TIME_SPENT : 370 secs\n",
      "SKIPPING CAUSE ALREADY FOUND BEST\n",
      "\n",
      "\n",
      "\n",
      "QUESTION 2 - 2 - TIME_SPENT : 370 secs\n",
      "SKIPPING CAUSE ALREADY FOUND BEST\n",
      "\n",
      "\n",
      "\n",
      "QUESTION 2 - 3 - TIME_SPENT : 370 secs\n",
      "SKIPPING CAUSE ALREADY FOUND BEST\n",
      "\n",
      "\n",
      "\n",
      "QUESTION 2 - 4 - TIME_SPENT : 370 secs\n"
     ]
    },
    {
     "name": "stderr",
     "output_type": "stream",
     "text": [
      "Setting `pad_token_id` to `eos_token_id`:100001 for open-end generation.\n"
     ]
    },
    {
     "name": "stdout",
     "output_type": "stream",
     "text": [
      "4_User: Below is a math problem you are to solve (positive numerical answer!):\n",
      "\"Solve $4+x=4$ for $x$.\"\n",
      "Analyze this problem and think step by step to come to a solution with programs. After solving the problem, output the final numerical answer within \\boxed{}.\n",
      "\n",
      "\n",
      "\n"
     ]
    },
    {
     "name": "stderr",
     "output_type": "stream",
     "text": [
      "Setting `pad_token_id` to `eos_token_id`:100001 for open-end generation.\n"
     ]
    },
    {
     "name": "stdout",
     "output_type": "stream",
     "text": [
      "```python\n",
      "\n",
      "\n",
      "INTERMEDIATE OUT :\n",
      "\n",
      "from sympy import symbols, solve\n",
      "\n",
      "def solve_for_x():\n",
      "    \"\"\"Solve $4+x=4$ for $x$.\"\"\"\n",
      "    x = symbols('x')\n",
      "    equation = 4 + x - 4\n",
      "    solution = solve(equation, x)[0]\n",
      "    return solution\n",
      "\n",
      "result = solve_for_x()\n",
      "print(result)\n",
      "```\n",
      "\n"
     ]
    },
    {
     "name": "stderr",
     "output_type": "stream",
     "text": [
      "Setting `pad_token_id` to `eos_token_id`:100001 for open-end generation.\n"
     ]
    },
    {
     "name": "stdout",
     "output_type": "stream",
     "text": [
      "0\n",
      "\n",
      "CODE RESULTS 0\n"
     ]
    },
    {
     "name": "stderr",
     "output_type": "stream",
     "text": [
      "\n",
      " 29%|██▉       | 5/17 [00:24<00:51,  4.33s/it]\u001b[A"
     ]
    },
    {
     "name": "stdout",
     "output_type": "stream",
     "text": [
      "\n",
      "INTERMEDIATE OUT :\n",
      "```output\n",
      "0\n",
      "```\n",
      "The solution to the equation $4+x=4$ for $x$ is $0$. The answer is: $0$\n",
      "\n",
      "BOXED []\n",
      "BOXED FINAL 0\n",
      "[(0, 4)]\n",
      "GOOD ANSWER UPDATED!\n",
      "code_answers 2 text_answers 2\n",
      "\n",
      "\n",
      "\n",
      "QUESTION 2 - 5 - TIME_SPENT : 370 secs\n",
      "SKIPPING CAUSE ALREADY FOUND BEST\n",
      "\n",
      "\n",
      "\n",
      "QUESTION 2 - 6 - TIME_SPENT : 370 secs\n",
      "SKIPPING CAUSE ALREADY FOUND BEST\n",
      "\n",
      "\n",
      "\n",
      "QUESTION 2 - 7 - TIME_SPENT : 370 secs\n",
      "SKIPPING CAUSE ALREADY FOUND BEST\n",
      "\n",
      "\n",
      "\n",
      "QUESTION 2 - 8 - TIME_SPENT : 370 secs\n",
      "SKIPPING CAUSE ALREADY FOUND BEST\n",
      "\n",
      "\n",
      "\n",
      "QUESTION 2 - 9 - TIME_SPENT : 370 secs\n",
      "SKIPPING CAUSE ALREADY FOUND BEST\n",
      "\n",
      "\n",
      "\n",
      "QUESTION 2 - 10 - TIME_SPENT : 370 secs\n",
      "SKIPPING CAUSE ALREADY FOUND BEST\n",
      "\n",
      "\n",
      "\n",
      "QUESTION 2 - 11 - TIME_SPENT : 370 secs\n",
      "SKIPPING CAUSE ALREADY FOUND BEST\n",
      "\n",
      "\n",
      "\n",
      "QUESTION 2 - 12 - TIME_SPENT : 370 secs\n",
      "SKIPPING CAUSE ALREADY FOUND BEST\n",
      "\n",
      "\n",
      "\n",
      "QUESTION 2 - 13 - TIME_SPENT : 370 secs\n",
      "SKIPPING CAUSE ALREADY FOUND BEST\n",
      "\n",
      "\n",
      "\n",
      "QUESTION 2 - 14 - TIME_SPENT : 370 secs\n",
      "SKIPPING CAUSE ALREADY FOUND BEST\n",
      "\n",
      "\n",
      "\n",
      "QUESTION 2 - 15 - TIME_SPENT : 370 secs\n",
      "SKIPPING CAUSE ALREADY FOUND BEST\n",
      "\n",
      "\n",
      "\n",
      "QUESTION 2 - 16 - TIME_SPENT : 370 secs\n"
     ]
    },
    {
     "name": "stderr",
     "output_type": "stream",
     "text": [
      "Setting `pad_token_id` to `eos_token_id`:100001 for open-end generation.\n"
     ]
    },
    {
     "name": "stdout",
     "output_type": "stream",
     "text": [
      "16_User: Below is a math problem you are to solve (positive numerical answer!):\n",
      "\"Solve $4+x=4$ for $x$.\"\n",
      "Analyze this problem and think step by step to come to a solution with programs. After solving the problem, output the final numerical answer within \\boxed{}.\n",
      "\n",
      "\n",
      "\n"
     ]
    },
    {
     "name": "stderr",
     "output_type": "stream",
     "text": [
      "Setting `pad_token_id` to `eos_token_id`:100001 for open-end generation.\n"
     ]
    },
    {
     "name": "stdout",
     "output_type": "stream",
     "text": [
      "```python\n",
      "\n",
      "\n",
      "INTERMEDIATE OUT :\n",
      "\n",
      "from sympy import symbols, Eq, solve\n",
      "\n",
      "def solve_equation():\n",
      "    \"\"\"Solve $4+x=4$ for $x$.\"\"\"\n",
      "    x = symbols('x')\n",
      "    equation = Eq(4 + x, 4)\n",
      "    solution = solve(equation, x)[0]\n",
      "\n",
      "    return solution\n",
      "\n",
      "result = solve_equation()\n",
      "print(result)\n",
      "```\n",
      "\n"
     ]
    },
    {
     "name": "stderr",
     "output_type": "stream",
     "text": [
      "Setting `pad_token_id` to `eos_token_id`:100001 for open-end generation.\n"
     ]
    },
    {
     "name": "stdout",
     "output_type": "stream",
     "text": [
      "0\n",
      "\n",
      "CODE RESULTS 0\n"
     ]
    },
    {
     "name": "stderr",
     "output_type": "stream",
     "text": [
      " 94%|█████████▍| 16/17 [00:35<00:02,  2.21s/it]\n",
      "3it [04:04, 81.42s/it]"
     ]
    },
    {
     "name": "stdout",
     "output_type": "stream",
     "text": [
      "\n",
      "INTERMEDIATE OUT :\n",
      "```output\n",
      "0\n",
      "```\n",
      "The solution to the equation $4+x=4$ for $x$ is $0$. The answer is: $0$.\n",
      "\n",
      "BOXED []\n",
      "BOXED FINAL 0\n",
      "[(0, 6)]\n",
      "GOOD ANSWER UPDATED!\n",
      "ANSWER FOUND!\n",
      "Predicted best answer: {0: (0, 4), 1: (0, 4), 2: (0, 4)}\n"
     ]
    },
    {
     "name": "stderr",
     "output_type": "stream",
     "text": [
      "\n"
     ]
    }
   ],
   "source": [
    "import re\n",
    "from collections import defaultdict\n",
    "from collections import Counter\n",
    "\n",
    "from numpy.random import choice\n",
    "import numpy as np\n",
    "\n",
    "tool_instruction = '\\n\\nPlease integrate natural language reasoning with programs to solve the above problem, and put your final numerical answer within \\\\boxed{}.\\nNote that the intermediary calculations may be real numbers, but the final numercal answer would always be an integer.'\n",
    "\n",
    "\n",
    "#tool_instruction = \" The answer should be given as a non-negative modulo 1000.\"\n",
    "#tool_instruction += '\\nPlease integrate natural language reasoning with programs to solve the problem above, and put your final answer within \\\\boxed{}.'\n",
    "\n",
    "temperature = 0.9\n",
    "top_p = 1.0\n",
    "\n",
    "temperature_coding = 0.9\n",
    "top_p_coding = 1.0\n",
    "\n",
    "   \n",
    "total_results = {}\n",
    "total_answers = {}\n",
    "best_stats = {}\n",
    "total_outputs = {}\n",
    "question_type_counts = {}\n",
    "starting_counts = (2,3)\n",
    "    \n",
    "# LEWIS: I had to invert the loop order because the new API forbids repeated calls on the same problem\n",
    "for i, (test, sample_submission) in tqdm(enumerate(iter_test)):\n",
    "    print(f\"Solving problem {i} ...\")\n",
    "    TIME_SPENT = time.time() - NOTEBOOK_START_TIME\n",
    "\n",
    "    if TIME_SPENT>TIME_LIMIT:\n",
    "        sample_submission['answer'] = 0\n",
    "        env.predict(sample_submission)\n",
    "        break\n",
    "        \n",
    "    for jj in tqdm(range(n_repetitions)):   \n",
    "#     for i, (test, sample_submission) in tqdm(enumerate(iter_test)):\n",
    "        \n",
    "\n",
    "#         id_ = df['id'].loc[i]\n",
    "#         problem = df['problem'].loc[i]\n",
    "        problem = test['problem'].values[0]\n",
    "        print(f\"\\n\\n\\nQUESTION {i} - {jj} - TIME_SPENT : {TIME_SPENT:.0f} secs\")\n",
    "        \n",
    "        best, best_count = best_stats.get(i,(-1,-1))\n",
    "        if best_count>np.sqrt(jj):\n",
    "            print(\"SKIPPING CAUSE ALREADY FOUND BEST\")\n",
    "            continue\n",
    "            \n",
    "        outputs = total_outputs.get(i,[])\n",
    "        text_answers, code_answers = question_type_counts.get(i,starting_counts)\n",
    "        results = total_results.get(i,[])\n",
    "        answers = total_answers.get(i,[])\n",
    "        \n",
    "        for _ in range(5):\n",
    "            torch.cuda.empty_cache()\n",
    "            gc.collect()\n",
    "            time.sleep(0.2)\n",
    "\n",
    "        try:\n",
    "            ALREADY_GEN = 0\n",
    "            code_error = None\n",
    "            code_error_count = 0\n",
    "            code_output = -1\n",
    "            #initail_message = problem  + tool_instruction \n",
    "            counts = np.array([text_answers,code_answers])\n",
    "\n",
    "            draw = choice(promplt_options, 1,\n",
    "                          p=counts/counts.sum())\n",
    "\n",
    "            initail_message = draw[0].format(problem,\"{}\")            \n",
    "            prompt = f\"User: {initail_message}\"\n",
    "\n",
    "            current_printed = len(prompt)\n",
    "            print(f\"{jj}_{prompt}\\n\")\n",
    "\n",
    "            model_inputs = tokenizer(prompt, return_tensors='pt').to(model.device)\n",
    "            input_len = len(model_inputs['input_ids'][0])\n",
    "\n",
    "            generation_output = model.generate(**model_inputs, \n",
    "                                               max_new_tokens=TOTAL_TOKENS-ALREADY_GEN,\n",
    "                                               return_dict_in_generate=USE_PAST_KEY,\n",
    "                                               do_sample = True,\n",
    "                                               temperature = temperature,\n",
    "                                               top_p = top_p,\n",
    "                                               num_return_sequences=1, stopping_criteria = stopping_criteria)\n",
    "\n",
    "            if USE_PAST_KEY:\n",
    "                output_ids = generation_output.sequences[0]\n",
    "            else:\n",
    "                output_ids = generation_output[0]\n",
    "            decoded_output = tokenizer.decode(output_ids, skip_special_tokens=True)\n",
    "            print(f\"{decoded_output[current_printed:]}\\n\")\n",
    "            current_printed += len(decoded_output[current_printed:])\n",
    "            cummulative_code = \"\"\n",
    "            \n",
    "            \n",
    "            stop_word_cond = False\n",
    "            for stop_word in stop_words:\n",
    "                stop_word_cond = stop_word_cond or (decoded_output[-len(stop_word):]==stop_word)\n",
    "                \n",
    "            \n",
    "            while (stop_word_cond) and (ALREADY_GEN<(TOTAL_TOKENS)):\n",
    "\n",
    "                if (decoded_output[-len(\"```python\"):]==\"```python\"):\n",
    "                    temperature_inner=temperature_coding\n",
    "                    top_p_inner = top_p_coding\n",
    "                    prompt = decoded_output\n",
    "                else:\n",
    "                    temperature_inner=temperature\n",
    "                    top_p_inner = top_p\n",
    "                    try:\n",
    "                        if (decoded_output[-len(\"``````output\"):]==\"``````output\"):\n",
    "                            code_text = decoded_output.split('```python')[-1].split(\"``````\")[0]\n",
    "                        else:\n",
    "                            code_text = decoded_output.split('```python')[-1].split(\"```\")[0]\n",
    "                        \n",
    "\n",
    "                        cummulative_code+=code_text\n",
    "                        code_output, CODE_STATUS = process_code(cummulative_code, return_shell_output=True)\n",
    "                        print('CODE RESULTS', code_output)\n",
    "\n",
    "                        if code_error==code_output:\n",
    "                            code_error_count+=1\n",
    "                        else:\n",
    "                            code_error=code_output\n",
    "                            code_error_count = 0\n",
    "\n",
    "                        if not CODE_STATUS:\n",
    "                            cummulative_code = cummulative_code[:-len(code_text)]\n",
    "\n",
    "                            if code_error_count>=1:\n",
    "                                print(\"REPEATED ERRORS\")\n",
    "                                break\n",
    "\n",
    "                    except Exception as e:\n",
    "                        print(e)\n",
    "                        print('ERROR PARSING CODE')\n",
    "                        code_output = -1\n",
    "\n",
    "                    if code_output!=-1:\n",
    "                        if (decoded_output[-len(\")\\n```\"):]==\")\\n```\"):\n",
    "                            prompt = decoded_output+'```output\\n'+str(code_output)+'\\n```\\n'\n",
    "                        else:\n",
    "                            prompt = decoded_output+'\\n'+str(code_output)+'\\n```\\n'\n",
    "                    else:\n",
    "                        prompt = decoded_output\n",
    "                        cummulative_code=\"\"\n",
    "\n",
    "\n",
    "                model_inputs = tokenizer(prompt, return_tensors='pt').to(model.device)\n",
    "                ALREADY_GEN =  len(model_inputs['input_ids'][0])-input_len\n",
    "\n",
    "                if USE_PAST_KEY:\n",
    "                    old_values = generation_output.past_key_values\n",
    "                else:\n",
    "                    old_values = None\n",
    "\n",
    "                generation_output = model.generate(**model_inputs, \n",
    "                                                   max_new_tokens=TOTAL_TOKENS-ALREADY_GEN, \n",
    "                                                   return_dict_in_generate=USE_PAST_KEY,\n",
    "                                                   past_key_values=old_values,\n",
    "                                                   do_sample = True,\n",
    "                                                   temperature = temperature_inner,\n",
    "                                                   top_p = top_p_inner,\n",
    "                                                   num_return_sequences=1, stopping_criteria = stopping_criteria)\n",
    "\n",
    "                if USE_PAST_KEY:\n",
    "                    output_ids = generation_output.sequences[0]\n",
    "                else:\n",
    "                    output_ids = generation_output[0]\n",
    "                decoded_output = tokenizer.decode(output_ids, skip_special_tokens=True)\n",
    "                print(f\"\\nINTERMEDIATE OUT :\\n{decoded_output[current_printed:]}\\n\")\n",
    "                current_printed+=len(decoded_output[current_printed:])\n",
    "                \n",
    "                stop_word_cond = False\n",
    "                for stop_word in stop_words:\n",
    "                    stop_word_cond = stop_word_cond or (decoded_output[-len(stop_word):]==stop_word)\n",
    "\n",
    "            if USE_PAST_KEY:\n",
    "                output_ids = generation_output.sequences[0]\n",
    "            else:\n",
    "                output_ids = generation_output[0]\n",
    "\n",
    "            raw_output = tokenizer.decode(output_ids[input_len:], skip_special_tokens=True)\n",
    "            #print(f\"\\n\\nOutput :\\n{raw_output}\\n\")                            \n",
    "            result_output = process_text_output(raw_output)\n",
    "            \n",
    "            try:\n",
    "                code_output = round(float(eval(code_output))) % 1000\n",
    "            except Exception as e:\n",
    "                print(e,'final_eval')\n",
    "                code_output = -1\n",
    "\n",
    "        except Exception as e:\n",
    "            print(e,\"5\")\n",
    "            result_output, code_output = -1, -1\n",
    "\n",
    "        if code_output!=-1:\n",
    "            outputs.append(code_output)\n",
    "            code_answers+=1\n",
    "\n",
    "        if result_output!=-1:\n",
    "            outputs.append(result_output)\n",
    "            text_answers+=1\n",
    "\n",
    "        if len(outputs) > 0:\n",
    "            occurances = Counter(outputs).most_common()\n",
    "            print(occurances)\n",
    "            if occurances[0][1] > best_count:\n",
    "                print(\"GOOD ANSWER UPDATED!\")\n",
    "                best = occurances[0][0]\n",
    "                best_count = occurances[0][1]\n",
    "            if occurances[0][1] > 5:\n",
    "                print(\"ANSWER FOUND!\")\n",
    "                break\n",
    "\n",
    "        results.append(result_output)\n",
    "        answers.append(code_output)\n",
    "        \n",
    "        best_stats[i] = (best, best_count) \n",
    "        question_type_counts[i] = (text_answers, code_answers)\n",
    "        total_outputs[i] = outputs\n",
    "        \n",
    "        total_results[i] = results\n",
    "        total_answers[i] = answers\n",
    "\n",
    "        print(\"code_answers\",code_answers-starting_counts[1],\"text_answers\",text_answers-starting_counts[0])\n",
    "        if DEBUG:\n",
    "            break\n",
    "            \n",
    "    print(f\"Predicted best answer: {best_stats}\")\n",
    "    sample_submission['answer'] = best_stats[i][0]\n",
    "    env.predict(sample_submission)"
   ]
  },
  {
   "cell_type": "code",
   "execution_count": 16,
   "id": "c69a939c",
   "metadata": {
    "execution": {
     "iopub.execute_input": "2024-06-27T01:40:45.613526Z",
     "iopub.status.busy": "2024-06-27T01:40:45.613232Z",
     "iopub.status.idle": "2024-06-27T01:40:45.617055Z",
     "shell.execute_reply": "2024-06-27T01:40:45.616227Z"
    },
    "papermill": {
     "duration": 0.03047,
     "end_time": "2024-06-27T01:40:45.619028",
     "exception": false,
     "start_time": "2024-06-27T01:40:45.588558",
     "status": "completed"
    },
    "tags": []
   },
   "outputs": [],
   "source": [
    "# import numpy as np\n",
    "# if PRIVATE:\n",
    "#     for ii in range(len(df)):\n",
    "#         a = total_answers[ii]\n",
    "#         b = total_answers[ii]\n",
    "#         a = np.array(a)\n",
    "#         b = np.array(b)\n",
    "#         print(a,b)\n",
    "#         a[a < 0] = b[a < 0]\n",
    "\n",
    "#         pred = Counter(a.tolist()).most_common(2)\n",
    "#         print(pred)"
   ]
  },
  {
   "cell_type": "code",
   "execution_count": 17,
   "id": "6d570bb6",
   "metadata": {
    "execution": {
     "iopub.execute_input": "2024-06-27T01:40:45.667932Z",
     "iopub.status.busy": "2024-06-27T01:40:45.667616Z",
     "iopub.status.idle": "2024-06-27T01:40:45.671153Z",
     "shell.execute_reply": "2024-06-27T01:40:45.670358Z"
    },
    "papermill": {
     "duration": 0.029992,
     "end_time": "2024-06-27T01:40:45.673186",
     "exception": false,
     "start_time": "2024-06-27T01:40:45.643194",
     "status": "completed"
    },
    "tags": []
   },
   "outputs": [],
   "source": [
    "# if PRIVATE:\n",
    "#     df['answer'] = [best_stats[ii][0] for ii in range(len(df))]\n",
    "# else:\n",
    "#     df['answer'] = 2"
   ]
  },
  {
   "cell_type": "code",
   "execution_count": 18,
   "id": "9e1750d3",
   "metadata": {
    "execution": {
     "iopub.execute_input": "2024-06-27T01:40:45.726303Z",
     "iopub.status.busy": "2024-06-27T01:40:45.725943Z",
     "iopub.status.idle": "2024-06-27T01:40:45.729917Z",
     "shell.execute_reply": "2024-06-27T01:40:45.729027Z"
    },
    "papermill": {
     "duration": 0.035218,
     "end_time": "2024-06-27T01:40:45.731911",
     "exception": false,
     "start_time": "2024-06-27T01:40:45.696693",
     "status": "completed"
    },
    "tags": []
   },
   "outputs": [],
   "source": [
    "# df[['id','answer']].to_csv(\"foo.csv\", header=True, index=False)"
   ]
  },
  {
   "cell_type": "code",
   "execution_count": 19,
   "id": "a1a62c3c",
   "metadata": {
    "execution": {
     "iopub.execute_input": "2024-06-27T01:40:45.793714Z",
     "iopub.status.busy": "2024-06-27T01:40:45.793380Z",
     "iopub.status.idle": "2024-06-27T01:40:45.797597Z",
     "shell.execute_reply": "2024-06-27T01:40:45.796529Z"
    },
    "papermill": {
     "duration": 0.035393,
     "end_time": "2024-06-27T01:40:45.799949",
     "exception": false,
     "start_time": "2024-06-27T01:40:45.764556",
     "status": "completed"
    },
    "tags": []
   },
   "outputs": [],
   "source": [
    "# if not PRIVATE:\n",
    "#     df = pd.read_csv('/kaggle/input/ai-mathematical-olympiad-prize/train.csv')\n",
    "#     if PRIVATE:\n",
    "#         df['model_answer'] = [best_stats[ii][0] for ii in range(len(df))]\n",
    "#         df['match'] = df.answer == df.model_answer\n",
    "#         print(f'{df.match.sum()} matches in {len(df)} examples')"
   ]
  },
  {
   "cell_type": "code",
   "execution_count": 20,
   "id": "e09eac12",
   "metadata": {
    "execution": {
     "iopub.execute_input": "2024-06-27T01:40:45.852878Z",
     "iopub.status.busy": "2024-06-27T01:40:45.852577Z",
     "iopub.status.idle": "2024-06-27T01:40:45.983607Z",
     "shell.execute_reply": "2024-06-27T01:40:45.982486Z"
    },
    "papermill": {
     "duration": 0.158057,
     "end_time": "2024-06-27T01:40:45.985851",
     "exception": false,
     "start_time": "2024-06-27T01:40:45.827794",
     "status": "completed"
    },
    "tags": []
   },
   "outputs": [
    {
     "name": "stdout",
     "output_type": "stream",
     "text": [
      "done\n",
      "\n"
     ]
    }
   ],
   "source": [
    "with open('code.py', 'w') as fout:\n",
    "    fout.write(\"print('done')\")\n",
    "\n",
    "batcmd = 'timeout 7 ' + sys.executable + ' code.py'\n",
    "try:\n",
    "    shell_output = subprocess.check_output(batcmd, shell=True).decode('utf8')\n",
    "    print(shell_output)\n",
    "except:\n",
    "    pass"
   ]
  },
  {
   "cell_type": "code",
   "execution_count": null,
   "id": "8a0393df",
   "metadata": {
    "papermill": {
     "duration": 0.029973,
     "end_time": "2024-06-27T01:40:46.040954",
     "exception": false,
     "start_time": "2024-06-27T01:40:46.010981",
     "status": "completed"
    },
    "tags": []
   },
   "outputs": [],
   "source": []
  }
 ],
 "metadata": {
  "kaggle": {
   "accelerator": "nvidiaTeslaT4",
   "dataSources": [
    {
     "databundleVersionId": 8365361,
     "sourceId": 73231,
     "sourceType": "competition"
    },
    {
     "datasetId": 4281572,
     "sourceId": 7369493,
     "sourceType": "datasetVersion"
    },
    {
     "datasetId": 4720595,
     "sourceId": 8012825,
     "sourceType": "datasetVersion"
    },
    {
     "datasetId": 4728129,
     "sourceId": 8023365,
     "sourceType": "datasetVersion"
    },
    {
     "datasetId": 4748944,
     "sourceId": 8052555,
     "sourceType": "datasetVersion"
    },
    {
     "modelInstanceId": 8332,
     "sourceId": 11261,
     "sourceType": "modelInstanceVersion"
    },
    {
     "modelInstanceId": 8318,
     "sourceId": 11264,
     "sourceType": "modelInstanceVersion"
    }
   ],
   "dockerImageVersionId": 30699,
   "isGpuEnabled": true,
   "isInternetEnabled": false,
   "language": "python",
   "sourceType": "notebook"
  },
  "kernelspec": {
   "display_name": "Python 3",
   "language": "python",
   "name": "python3"
  },
  "language_info": {
   "codemirror_mode": {
    "name": "ipython",
    "version": 3
   },
   "file_extension": ".py",
   "mimetype": "text/x-python",
   "name": "python",
   "nbconvert_exporter": "python",
   "pygments_lexer": "ipython3",
   "version": "3.10.13"
  },
  "papermill": {
   "default_parameters": {},
   "duration": 415.32602,
   "end_time": "2024-06-27T01:40:48.644720",
   "environment_variables": {},
   "exception": null,
   "input_path": "__notebook__.ipynb",
   "output_path": "__notebook__.ipynb",
   "parameters": {},
   "start_time": "2024-06-27T01:33:53.318700",
   "version": "2.5.0"
  },
  "widgets": {
   "application/vnd.jupyter.widget-state+json": {
    "state": {
     "49ea958f6dd24d4c8921ed761979d9a6": {
      "model_module": "@jupyter-widgets/controls",
      "model_module_version": "1.5.0",
      "model_name": "FloatProgressModel",
      "state": {
       "_dom_classes": [],
       "_model_module": "@jupyter-widgets/controls",
       "_model_module_version": "1.5.0",
       "_model_name": "FloatProgressModel",
       "_view_count": null,
       "_view_module": "@jupyter-widgets/controls",
       "_view_module_version": "1.5.0",
       "_view_name": "ProgressView",
       "bar_style": "success",
       "description": "",
       "description_tooltip": null,
       "layout": "IPY_MODEL_e3e4c5fcf0af462daa96fc38a33d86f5",
       "max": 3.0,
       "min": 0.0,
       "orientation": "horizontal",
       "style": "IPY_MODEL_4eeca7266bd044948c07ce66c0600cd6",
       "value": 3.0
      }
     },
     "4cf3367d06f9415cbdf477c645f15fe1": {
      "model_module": "@jupyter-widgets/controls",
      "model_module_version": "1.5.0",
      "model_name": "DescriptionStyleModel",
      "state": {
       "_model_module": "@jupyter-widgets/controls",
       "_model_module_version": "1.5.0",
       "_model_name": "DescriptionStyleModel",
       "_view_count": null,
       "_view_module": "@jupyter-widgets/base",
       "_view_module_version": "1.2.0",
       "_view_name": "StyleView",
       "description_width": ""
      }
     },
     "4eeca7266bd044948c07ce66c0600cd6": {
      "model_module": "@jupyter-widgets/controls",
      "model_module_version": "1.5.0",
      "model_name": "ProgressStyleModel",
      "state": {
       "_model_module": "@jupyter-widgets/controls",
       "_model_module_version": "1.5.0",
       "_model_name": "ProgressStyleModel",
       "_view_count": null,
       "_view_module": "@jupyter-widgets/base",
       "_view_module_version": "1.2.0",
       "_view_name": "StyleView",
       "bar_color": null,
       "description_width": ""
      }
     },
     "6297df1949b94ccb996a55d06c59c2b3": {
      "model_module": "@jupyter-widgets/base",
      "model_module_version": "1.2.0",
      "model_name": "LayoutModel",
      "state": {
       "_model_module": "@jupyter-widgets/base",
       "_model_module_version": "1.2.0",
       "_model_name": "LayoutModel",
       "_view_count": null,
       "_view_module": "@jupyter-widgets/base",
       "_view_module_version": "1.2.0",
       "_view_name": "LayoutView",
       "align_content": null,
       "align_items": null,
       "align_self": null,
       "border": null,
       "bottom": null,
       "display": null,
       "flex": null,
       "flex_flow": null,
       "grid_area": null,
       "grid_auto_columns": null,
       "grid_auto_flow": null,
       "grid_auto_rows": null,
       "grid_column": null,
       "grid_gap": null,
       "grid_row": null,
       "grid_template_areas": null,
       "grid_template_columns": null,
       "grid_template_rows": null,
       "height": null,
       "justify_content": null,
       "justify_items": null,
       "left": null,
       "margin": null,
       "max_height": null,
       "max_width": null,
       "min_height": null,
       "min_width": null,
       "object_fit": null,
       "object_position": null,
       "order": null,
       "overflow": null,
       "overflow_x": null,
       "overflow_y": null,
       "padding": null,
       "right": null,
       "top": null,
       "visibility": null,
       "width": null
      }
     },
     "65a0b3ef447d41cf97b149f7fb0500dc": {
      "model_module": "@jupyter-widgets/controls",
      "model_module_version": "1.5.0",
      "model_name": "HTMLModel",
      "state": {
       "_dom_classes": [],
       "_model_module": "@jupyter-widgets/controls",
       "_model_module_version": "1.5.0",
       "_model_name": "HTMLModel",
       "_view_count": null,
       "_view_module": "@jupyter-widgets/controls",
       "_view_module_version": "1.5.0",
       "_view_name": "HTMLView",
       "description": "",
       "description_tooltip": null,
       "layout": "IPY_MODEL_c7889a9cb52c4d8d8ad0d1c6d506492d",
       "placeholder": "​",
       "style": "IPY_MODEL_e24e567f4ad54b1e8ff44b004b0840de",
       "value": "Loading checkpoint shards: 100%"
      }
     },
     "869480f6f3244ee7a4e2b5c250484cc5": {
      "model_module": "@jupyter-widgets/controls",
      "model_module_version": "1.5.0",
      "model_name": "HBoxModel",
      "state": {
       "_dom_classes": [],
       "_model_module": "@jupyter-widgets/controls",
       "_model_module_version": "1.5.0",
       "_model_name": "HBoxModel",
       "_view_count": null,
       "_view_module": "@jupyter-widgets/controls",
       "_view_module_version": "1.5.0",
       "_view_name": "HBoxView",
       "box_style": "",
       "children": [
        "IPY_MODEL_65a0b3ef447d41cf97b149f7fb0500dc",
        "IPY_MODEL_49ea958f6dd24d4c8921ed761979d9a6",
        "IPY_MODEL_dc9da1bc9351435887215d11a9078942"
       ],
       "layout": "IPY_MODEL_8ad19ab0d4334165b314e076861bd06a"
      }
     },
     "8ad19ab0d4334165b314e076861bd06a": {
      "model_module": "@jupyter-widgets/base",
      "model_module_version": "1.2.0",
      "model_name": "LayoutModel",
      "state": {
       "_model_module": "@jupyter-widgets/base",
       "_model_module_version": "1.2.0",
       "_model_name": "LayoutModel",
       "_view_count": null,
       "_view_module": "@jupyter-widgets/base",
       "_view_module_version": "1.2.0",
       "_view_name": "LayoutView",
       "align_content": null,
       "align_items": null,
       "align_self": null,
       "border": null,
       "bottom": null,
       "display": null,
       "flex": null,
       "flex_flow": null,
       "grid_area": null,
       "grid_auto_columns": null,
       "grid_auto_flow": null,
       "grid_auto_rows": null,
       "grid_column": null,
       "grid_gap": null,
       "grid_row": null,
       "grid_template_areas": null,
       "grid_template_columns": null,
       "grid_template_rows": null,
       "height": null,
       "justify_content": null,
       "justify_items": null,
       "left": null,
       "margin": null,
       "max_height": null,
       "max_width": null,
       "min_height": null,
       "min_width": null,
       "object_fit": null,
       "object_position": null,
       "order": null,
       "overflow": null,
       "overflow_x": null,
       "overflow_y": null,
       "padding": null,
       "right": null,
       "top": null,
       "visibility": null,
       "width": null
      }
     },
     "c7889a9cb52c4d8d8ad0d1c6d506492d": {
      "model_module": "@jupyter-widgets/base",
      "model_module_version": "1.2.0",
      "model_name": "LayoutModel",
      "state": {
       "_model_module": "@jupyter-widgets/base",
       "_model_module_version": "1.2.0",
       "_model_name": "LayoutModel",
       "_view_count": null,
       "_view_module": "@jupyter-widgets/base",
       "_view_module_version": "1.2.0",
       "_view_name": "LayoutView",
       "align_content": null,
       "align_items": null,
       "align_self": null,
       "border": null,
       "bottom": null,
       "display": null,
       "flex": null,
       "flex_flow": null,
       "grid_area": null,
       "grid_auto_columns": null,
       "grid_auto_flow": null,
       "grid_auto_rows": null,
       "grid_column": null,
       "grid_gap": null,
       "grid_row": null,
       "grid_template_areas": null,
       "grid_template_columns": null,
       "grid_template_rows": null,
       "height": null,
       "justify_content": null,
       "justify_items": null,
       "left": null,
       "margin": null,
       "max_height": null,
       "max_width": null,
       "min_height": null,
       "min_width": null,
       "object_fit": null,
       "object_position": null,
       "order": null,
       "overflow": null,
       "overflow_x": null,
       "overflow_y": null,
       "padding": null,
       "right": null,
       "top": null,
       "visibility": null,
       "width": null
      }
     },
     "dc9da1bc9351435887215d11a9078942": {
      "model_module": "@jupyter-widgets/controls",
      "model_module_version": "1.5.0",
      "model_name": "HTMLModel",
      "state": {
       "_dom_classes": [],
       "_model_module": "@jupyter-widgets/controls",
       "_model_module_version": "1.5.0",
       "_model_name": "HTMLModel",
       "_view_count": null,
       "_view_module": "@jupyter-widgets/controls",
       "_view_module_version": "1.5.0",
       "_view_name": "HTMLView",
       "description": "",
       "description_tooltip": null,
       "layout": "IPY_MODEL_6297df1949b94ccb996a55d06c59c2b3",
       "placeholder": "​",
       "style": "IPY_MODEL_4cf3367d06f9415cbdf477c645f15fe1",
       "value": " 3/3 [02:25&lt;00:00, 47.04s/it]"
      }
     },
     "e24e567f4ad54b1e8ff44b004b0840de": {
      "model_module": "@jupyter-widgets/controls",
      "model_module_version": "1.5.0",
      "model_name": "DescriptionStyleModel",
      "state": {
       "_model_module": "@jupyter-widgets/controls",
       "_model_module_version": "1.5.0",
       "_model_name": "DescriptionStyleModel",
       "_view_count": null,
       "_view_module": "@jupyter-widgets/base",
       "_view_module_version": "1.2.0",
       "_view_name": "StyleView",
       "description_width": ""
      }
     },
     "e3e4c5fcf0af462daa96fc38a33d86f5": {
      "model_module": "@jupyter-widgets/base",
      "model_module_version": "1.2.0",
      "model_name": "LayoutModel",
      "state": {
       "_model_module": "@jupyter-widgets/base",
       "_model_module_version": "1.2.0",
       "_model_name": "LayoutModel",
       "_view_count": null,
       "_view_module": "@jupyter-widgets/base",
       "_view_module_version": "1.2.0",
       "_view_name": "LayoutView",
       "align_content": null,
       "align_items": null,
       "align_self": null,
       "border": null,
       "bottom": null,
       "display": null,
       "flex": null,
       "flex_flow": null,
       "grid_area": null,
       "grid_auto_columns": null,
       "grid_auto_flow": null,
       "grid_auto_rows": null,
       "grid_column": null,
       "grid_gap": null,
       "grid_row": null,
       "grid_template_areas": null,
       "grid_template_columns": null,
       "grid_template_rows": null,
       "height": null,
       "justify_content": null,
       "justify_items": null,
       "left": null,
       "margin": null,
       "max_height": null,
       "max_width": null,
       "min_height": null,
       "min_width": null,
       "object_fit": null,
       "object_position": null,
       "order": null,
       "overflow": null,
       "overflow_x": null,
       "overflow_y": null,
       "padding": null,
       "right": null,
       "top": null,
       "visibility": null,
       "width": null
      }
     }
    },
    "version_major": 2,
    "version_minor": 0
   }
  }
 },
 "nbformat": 4,
 "nbformat_minor": 5
}
