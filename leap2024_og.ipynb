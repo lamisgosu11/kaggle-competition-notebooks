{
 "cells": [
  {
   "cell_type": "code",
   "execution_count": 1,
   "id": "7384e6b1",
   "metadata": {
    "_cell_guid": "b1076dfc-b9ad-4769-8c92-a6c4dae69d19",
    "_uuid": "8f2839f25d086af736a60e9eeb907d3b93b6e0e5",
    "execution": {
     "iopub.execute_input": "2024-07-12T10:49:50.747778Z",
     "iopub.status.busy": "2024-07-12T10:49:50.747381Z",
     "iopub.status.idle": "2024-07-12T10:51:10.575697Z",
     "shell.execute_reply": "2024-07-12T10:51:10.574752Z"
    },
    "papermill": {
     "duration": 79.835791,
     "end_time": "2024-07-12T10:51:10.578497",
     "exception": false,
     "start_time": "2024-07-12T10:49:50.742706",
     "status": "completed"
    },
    "tags": []
   },
   "outputs": [
    {
     "name": "stdout",
     "output_type": "stream",
     "text": [
      "/kaggle/input/keras-baseline-seq2seq/submission.csv\n",
      "/kaggle/input/k/konstantinboyko/keras-baseline-seq2seq/submission.csv\n",
      "/kaggle/input/k/bestwater/leap-u-net/submission.csv\n",
      "/kaggle/input/best-single-model-output-leap/submission.csv\n"
     ]
    }
   ],
   "source": [
    "from collections import OrderedDict\n",
    "import numpy as np\n",
    "import polars as pl\n",
    "\n",
    "def ensemble_predictions(file_list):\n",
    "    # Initialize variables\n",
    "    data_all = []\n",
    "    sample_id = None\n",
    "    columns = None\n",
    "    koef_sum = sum(koef for _, koef in file_list)\n",
    "\n",
    "    # Iterate through each file and its corresponding weight\n",
    "    for file, koef in file_list:\n",
    "        print(file)\n",
    "        # Read the data from the file\n",
    "        df_sub = pl.read_csv(file)\n",
    "\n",
    "        # Extract column names and sample IDs\n",
    "        if sample_id is None:\n",
    "            sample_id = df_sub['sample_id'].to_numpy()\n",
    "            columns = [col for col in df_sub.schema]\n",
    "\n",
    "        # Multiply each column (except sample_id) by the weight\n",
    "        data_all.append(df_sub[columns[1:]].to_numpy() * koef)\n",
    "\n",
    "    # Calculate the weighted average\n",
    "    data_all = np.mean(data_all, axis=0) * len(file_list) / koef_sum\n",
    "\n",
    "    # Create a new DataFrame with the combined predictions\n",
    "    data_list = [(columns[0], sample_id)] + [(columns[i+1], data_all[:, i]) for i in range(len(columns) - 1)]\n",
    "    df_sub = pl.DataFrame(dict(data_list))\n",
    "\n",
    "    return df_sub\n",
    "\n",
    "# Example usage:\n",
    "file_list = [\n",
    "    (\"/kaggle/input/keras-baseline-seq2seq/submission.csv\", 0.1),\n",
    "    (\"/kaggle/input/k/konstantinboyko/keras-baseline-seq2seq/submission.csv\", 0.2),\n",
    "    (\"/kaggle/input/k/bestwater/leap-u-net/submission.csv\", 0.25),\n",
    "    (\"/kaggle/input/best-single-model-output-leap/submission.csv\", 0.45),\n",
    "]\n",
    "\n",
    "# Generate the ensemble prediction\n",
    "ensemble_df = ensemble_predictions(file_list)\n",
    "\n",
    "# Write the ensemble prediction to a CSV file\n",
    "ensemble_df.write_csv(\"./submission.csv\")\n"
   ]
  },
  {
   "cell_type": "code",
   "execution_count": 2,
   "id": "3458f575",
   "metadata": {
    "execution": {
     "iopub.execute_input": "2024-07-12T10:51:11.694301Z",
     "iopub.status.busy": "2024-07-12T10:51:11.693745Z",
     "iopub.status.idle": "2024-07-12T10:51:11.732103Z",
     "shell.execute_reply": "2024-07-12T10:51:11.730571Z"
    },
    "papermill": {
     "duration": 0.047846,
     "end_time": "2024-07-12T10:51:11.735010",
     "exception": false,
     "start_time": "2024-07-12T10:51:11.687164",
     "status": "completed"
    },
    "tags": []
   },
   "outputs": [
    {
     "data": {
      "text/html": [
       "<div><style>\n",
       ".dataframe > thead > tr,\n",
       ".dataframe > tbody > tr {\n",
       "  text-align: right;\n",
       "  white-space: pre-wrap;\n",
       "}\n",
       "</style>\n",
       "<small>shape: (625_000, 369)</small><table border=\"1\" class=\"dataframe\"><thead><tr><th>sample_id</th><th>ptend_t_0</th><th>ptend_t_1</th><th>ptend_t_2</th><th>ptend_t_3</th><th>ptend_t_4</th><th>ptend_t_5</th><th>ptend_t_6</th><th>ptend_t_7</th><th>ptend_t_8</th><th>ptend_t_9</th><th>ptend_t_10</th><th>ptend_t_11</th><th>ptend_t_12</th><th>ptend_t_13</th><th>ptend_t_14</th><th>ptend_t_15</th><th>ptend_t_16</th><th>ptend_t_17</th><th>ptend_t_18</th><th>ptend_t_19</th><th>ptend_t_20</th><th>ptend_t_21</th><th>ptend_t_22</th><th>ptend_t_23</th><th>ptend_t_24</th><th>ptend_t_25</th><th>ptend_t_26</th><th>ptend_t_27</th><th>ptend_t_28</th><th>ptend_t_29</th><th>ptend_t_30</th><th>ptend_t_31</th><th>ptend_t_32</th><th>ptend_t_33</th><th>ptend_t_34</th><th>ptend_t_35</th><th>&hellip;</th><th>ptend_v_31</th><th>ptend_v_32</th><th>ptend_v_33</th><th>ptend_v_34</th><th>ptend_v_35</th><th>ptend_v_36</th><th>ptend_v_37</th><th>ptend_v_38</th><th>ptend_v_39</th><th>ptend_v_40</th><th>ptend_v_41</th><th>ptend_v_42</th><th>ptend_v_43</th><th>ptend_v_44</th><th>ptend_v_45</th><th>ptend_v_46</th><th>ptend_v_47</th><th>ptend_v_48</th><th>ptend_v_49</th><th>ptend_v_50</th><th>ptend_v_51</th><th>ptend_v_52</th><th>ptend_v_53</th><th>ptend_v_54</th><th>ptend_v_55</th><th>ptend_v_56</th><th>ptend_v_57</th><th>ptend_v_58</th><th>ptend_v_59</th><th>cam_out_NETSW</th><th>cam_out_FLWDS</th><th>cam_out_PRECSC</th><th>cam_out_PRECC</th><th>cam_out_SOLS</th><th>cam_out_SOLL</th><th>cam_out_SOLSD</th><th>cam_out_SOLLD</th></tr><tr><td>str</td><td>f64</td><td>f64</td><td>f64</td><td>f64</td><td>f64</td><td>f64</td><td>f64</td><td>f64</td><td>f64</td><td>f64</td><td>f64</td><td>f64</td><td>f64</td><td>f64</td><td>f64</td><td>f64</td><td>f64</td><td>f64</td><td>f64</td><td>f64</td><td>f64</td><td>f64</td><td>f64</td><td>f64</td><td>f64</td><td>f64</td><td>f64</td><td>f64</td><td>f64</td><td>f64</td><td>f64</td><td>f64</td><td>f64</td><td>f64</td><td>f64</td><td>f64</td><td>&hellip;</td><td>f64</td><td>f64</td><td>f64</td><td>f64</td><td>f64</td><td>f64</td><td>f64</td><td>f64</td><td>f64</td><td>f64</td><td>f64</td><td>f64</td><td>f64</td><td>f64</td><td>f64</td><td>f64</td><td>f64</td><td>f64</td><td>f64</td><td>f64</td><td>f64</td><td>f64</td><td>f64</td><td>f64</td><td>f64</td><td>f64</td><td>f64</td><td>f64</td><td>f64</td><td>f64</td><td>f64</td><td>f64</td><td>f64</td><td>f64</td><td>f64</td><td>f64</td><td>f64</td></tr></thead><tbody><tr><td>&quot;test_0&quot;</td><td>0.000004</td><td>-0.000062</td><td>-0.000082</td><td>-0.000085</td><td>-0.000095</td><td>-0.000097</td><td>-0.000078</td><td>-0.000062</td><td>-0.000047</td><td>-0.000039</td><td>-0.000028</td><td>-0.000017</td><td>-0.000008</td><td>-0.000004</td><td>-3.9162e-7</td><td>0.000002</td><td>0.000005</td><td>0.000004</td><td>0.000003</td><td>-0.000007</td><td>0.000007</td><td>-0.000002</td><td>-0.000012</td><td>-0.000017</td><td>-0.000014</td><td>-0.000013</td><td>-0.000015</td><td>-0.000017</td><td>-0.000023</td><td>-0.000029</td><td>-0.000035</td><td>-0.000031</td><td>-0.000024</td><td>-0.00002</td><td>-0.000019</td><td>-0.000017</td><td>&hellip;</td><td>0.000002</td><td>0.000003</td><td>-1.7207e-7</td><td>-0.000002</td><td>-0.000001</td><td>-8.0385e-7</td><td>-7.0076e-7</td><td>-0.000004</td><td>-0.000001</td><td>-6.5748e-7</td><td>2.6321e-7</td><td>-0.000001</td><td>0.000004</td><td>0.000002</td><td>8.9752e-8</td><td>-0.000005</td><td>-0.000008</td><td>-0.000026</td><td>-0.000044</td><td>-0.000043</td><td>-0.000021</td><td>0.000035</td><td>0.000042</td><td>0.000043</td><td>0.000023</td><td>0.000013</td><td>0.000009</td><td>0.000007</td><td>5.0342e-8</td><td>-6.621972</td><td>396.91939</td><td>1.3585e-10</td><td>1.2311e-10</td><td>-2.799919</td><td>-3.736818</td><td>-0.810049</td><td>-1.042609</td></tr><tr><td>&quot;test_10&quot;</td><td>-0.000016</td><td>-0.00005</td><td>-0.000034</td><td>-0.000053</td><td>-0.000094</td><td>-0.000133</td><td>-0.000136</td><td>-0.000092</td><td>-0.000045</td><td>-0.000026</td><td>-0.000018</td><td>-0.000014</td><td>-0.000011</td><td>-0.000009</td><td>-0.000006</td><td>-0.000005</td><td>-0.000004</td><td>-0.000003</td><td>-0.000002</td><td>-0.000004</td><td>-0.000004</td><td>-0.000007</td><td>-0.000008</td><td>-0.000008</td><td>-0.000009</td><td>-0.000011</td><td>-0.000014</td><td>-0.000017</td><td>-0.000021</td><td>-0.000023</td><td>-0.000022</td><td>-0.000021</td><td>-0.000014</td><td>-0.000004</td><td>0.000002</td><td>0.000007</td><td>&hellip;</td><td>-8.9079e-7</td><td>-6.2981e-7</td><td>9.4269e-8</td><td>7.2209e-7</td><td>6.5768e-7</td><td>3.3520e-7</td><td>2.8603e-7</td><td>1.5525e-7</td><td>1.7160e-7</td><td>6.7476e-8</td><td>1.2456e-7</td><td>-8.9119e-7</td><td>1.1540e-7</td><td>-2.3549e-7</td><td>0.000002</td><td>-2.1591e-7</td><td>-8.3076e-7</td><td>-0.000002</td><td>-0.000003</td><td>-0.000002</td><td>-0.000002</td><td>-0.000002</td><td>-4.8478e-7</td><td>0.000001</td><td>0.000003</td><td>0.000003</td><td>0.000001</td><td>4.8234e-9</td><td>0.000005</td><td>4.554864</td><td>335.947308</td><td>3.0210e-10</td><td>2.3809e-9</td><td>-2.606503</td><td>-1.805405</td><td>0.703089</td><td>2.066207</td></tr><tr><td>&quot;test_100&quot;</td><td>-0.000006</td><td>-0.000074</td><td>-0.000033</td><td>-0.000026</td><td>-0.000069</td><td>-0.000093</td><td>-0.000077</td><td>-0.000052</td><td>-0.00003</td><td>-0.000021</td><td>-0.000016</td><td>-0.000014</td><td>-0.000012</td><td>-0.000009</td><td>-0.000007</td><td>-0.000005</td><td>-0.000004</td><td>-0.000004</td><td>0.000002</td><td>-0.000007</td><td>-0.000005</td><td>-0.000007</td><td>-0.000006</td><td>-0.000006</td><td>-0.000005</td><td>-0.000005</td><td>-0.000007</td><td>-0.000009</td><td>-0.00001</td><td>-0.000012</td><td>-0.000014</td><td>-0.000017</td><td>-0.000019</td><td>-0.00002</td><td>-0.000021</td><td>-0.000022</td><td>&hellip;</td><td>-0.000002</td><td>-0.000002</td><td>-0.000001</td><td>-2.9406e-7</td><td>2.4069e-7</td><td>4.4812e-7</td><td>7.5337e-7</td><td>9.5564e-7</td><td>9.5605e-7</td><td>6.8991e-7</td><td>3.9313e-7</td><td>-1.9616e-7</td><td>4.0406e-7</td><td>0.000002</td><td>8.8719e-7</td><td>-1.9046e-7</td><td>-3.9685e-7</td><td>-0.000005</td><td>-0.000011</td><td>-0.000021</td><td>-0.000024</td><td>0.000011</td><td>0.00001</td><td>0.000016</td><td>0.000012</td><td>0.000005</td><td>0.000005</td><td>0.000003</td><td>0.000012</td><td>-5.762874</td><td>329.60313</td><td>-1.1461e-10</td><td>6.7594e-10</td><td>-3.40861</td><td>-0.353193</td><td>0.223945</td><td>0.02872</td></tr><tr><td>&quot;test_1000&quot;</td><td>0.000027</td><td>0.000008</td><td>0.000032</td><td>0.000028</td><td>-0.000002</td><td>-0.00005</td><td>-0.000048</td><td>-0.000022</td><td>-0.000007</td><td>-0.000004</td><td>-0.000001</td><td>-0.000001</td><td>-2.1932e-7</td><td>0.000001</td><td>0.000003</td><td>0.000005</td><td>0.000006</td><td>0.000005</td><td>5.2849e-7</td><td>-5.3340e-7</td><td>8.5094e-8</td><td>-6.6687e-7</td><td>-0.00001</td><td>-0.000018</td><td>-0.000017</td><td>-0.000013</td><td>-0.000014</td><td>-0.000017</td><td>-0.000021</td><td>-0.000023</td><td>-0.000021</td><td>-0.000021</td><td>-0.000018</td><td>-0.000016</td><td>-0.000015</td><td>-0.000017</td><td>&hellip;</td><td>1.2958e-7</td><td>-9.6295e-8</td><td>8.0705e-7</td><td>-0.000001</td><td>-1.5428e-10</td><td>0.000002</td><td>-0.000002</td><td>3.9853e-7</td><td>-0.000001</td><td>3.1565e-7</td><td>-0.000005</td><td>0.000008</td><td>0.000006</td><td>0.000006</td><td>0.000008</td><td>0.000006</td><td>0.000006</td><td>0.000008</td><td>0.000006</td><td>0.000004</td><td>0.000003</td><td>7.9901e-7</td><td>-9.9315e-7</td><td>-0.000006</td><td>-0.00001</td><td>-0.000018</td><td>-0.000031</td><td>-0.000043</td><td>0.000027</td><td>1.248324</td><td>356.575322</td><td>9.6003e-11</td><td>-8.4346e-10</td><td>-8.825081</td><td>2.392096</td><td>7.769036</td><td>-0.219942</td></tr><tr><td>&quot;test_10000&quot;</td><td>0.000048</td><td>0.000027</td><td>0.000046</td><td>0.000086</td><td>0.000129</td><td>0.000175</td><td>0.000186</td><td>0.000145</td><td>0.000087</td><td>0.000062</td><td>0.000044</td><td>0.000035</td><td>0.000028</td><td>0.000019</td><td>0.000014</td><td>0.000011</td><td>0.000011</td><td>0.00001</td><td>0.000009</td><td>0.000006</td><td>0.000005</td><td>0.000002</td><td>-0.000003</td><td>-0.000006</td><td>-0.00001</td><td>-0.000011</td><td>-0.000008</td><td>-0.000006</td><td>-0.000005</td><td>-0.000005</td><td>-0.000004</td><td>-0.000003</td><td>-0.000004</td><td>-0.000003</td><td>0.000003</td><td>0.000004</td><td>&hellip;</td><td>-5.8337e-9</td><td>-1.6505e-8</td><td>-6.4229e-8</td><td>-1.8363e-8</td><td>-8.9670e-8</td><td>2.5931e-8</td><td>-1.0496e-7</td><td>9.2858e-8</td><td>-3.8597e-7</td><td>1.0839e-7</td><td>4.3880e-8</td><td>3.5577e-8</td><td>-2.5797e-7</td><td>-8.7102e-8</td><td>1.3787e-7</td><td>1.3857e-7</td><td>2.5416e-8</td><td>1.2677e-7</td><td>-8.5429e-9</td><td>-1.1572e-7</td><td>-1.4367e-7</td><td>8.3335e-8</td><td>-2.7933e-7</td><td>-2.2782e-7</td><td>-4.0073e-7</td><td>0.000002</td><td>-5.2495e-7</td><td>0.000001</td><td>-0.000003</td><td>912.497108</td><td>375.187215</td><td>-1.6031e-10</td><td>-1.5695e-10</td><td>431.9696</td><td>442.681189</td><td>54.848124</td><td>6.96466</td></tr><tr><td>&hellip;</td><td>&hellip;</td><td>&hellip;</td><td>&hellip;</td><td>&hellip;</td><td>&hellip;</td><td>&hellip;</td><td>&hellip;</td><td>&hellip;</td><td>&hellip;</td><td>&hellip;</td><td>&hellip;</td><td>&hellip;</td><td>&hellip;</td><td>&hellip;</td><td>&hellip;</td><td>&hellip;</td><td>&hellip;</td><td>&hellip;</td><td>&hellip;</td><td>&hellip;</td><td>&hellip;</td><td>&hellip;</td><td>&hellip;</td><td>&hellip;</td><td>&hellip;</td><td>&hellip;</td><td>&hellip;</td><td>&hellip;</td><td>&hellip;</td><td>&hellip;</td><td>&hellip;</td><td>&hellip;</td><td>&hellip;</td><td>&hellip;</td><td>&hellip;</td><td>&hellip;</td><td>&hellip;</td><td>&hellip;</td><td>&hellip;</td><td>&hellip;</td><td>&hellip;</td><td>&hellip;</td><td>&hellip;</td><td>&hellip;</td><td>&hellip;</td><td>&hellip;</td><td>&hellip;</td><td>&hellip;</td><td>&hellip;</td><td>&hellip;</td><td>&hellip;</td><td>&hellip;</td><td>&hellip;</td><td>&hellip;</td><td>&hellip;</td><td>&hellip;</td><td>&hellip;</td><td>&hellip;</td><td>&hellip;</td><td>&hellip;</td><td>&hellip;</td><td>&hellip;</td><td>&hellip;</td><td>&hellip;</td><td>&hellip;</td><td>&hellip;</td><td>&hellip;</td><td>&hellip;</td><td>&hellip;</td><td>&hellip;</td><td>&hellip;</td><td>&hellip;</td><td>&hellip;</td><td>&hellip;</td></tr><tr><td>&quot;test_99994&quot;</td><td>0.000051</td><td>-0.000014</td><td>0.000017</td><td>0.000096</td><td>0.000128</td><td>0.000157</td><td>0.000139</td><td>0.000105</td><td>0.000066</td><td>0.000049</td><td>0.000038</td><td>0.000031</td><td>0.000024</td><td>0.000017</td><td>0.000011</td><td>0.00001</td><td>0.000009</td><td>0.000005</td><td>8.8770e-8</td><td>0.000006</td><td>0.000007</td><td>-3.1781e-7</td><td>-0.000003</td><td>3.7519e-7</td><td>-0.000002</td><td>-0.000004</td><td>-0.000008</td><td>-0.000017</td><td>-0.000018</td><td>-0.000016</td><td>-0.000015</td><td>-0.000016</td><td>-0.000009</td><td>-0.000006</td><td>-0.000012</td><td>-0.000007</td><td>&hellip;</td><td>0.000011</td><td>-0.000014</td><td>-0.000016</td><td>-0.00002</td><td>-0.000007</td><td>-0.000002</td><td>-0.000008</td><td>-0.000013</td><td>-0.00002</td><td>-0.000021</td><td>-0.000017</td><td>-0.000012</td><td>-0.000014</td><td>-0.000016</td><td>-0.00002</td><td>-0.000015</td><td>0.000002</td><td>0.000009</td><td>0.000014</td><td>0.000047</td><td>0.000053</td><td>0.000049</td><td>0.000041</td><td>0.000028</td><td>0.000015</td><td>0.000007</td><td>0.000003</td><td>0.000002</td><td>0.000006</td><td>434.215602</td><td>402.842965</td><td>-1.1868e-10</td><td>3.6855e-8</td><td>183.175608</td><td>191.635508</td><td>65.071495</td><td>28.943032</td></tr><tr><td>&quot;test_99995&quot;</td><td>0.000006</td><td>-0.000061</td><td>-0.000142</td><td>-0.000077</td><td>-0.000063</td><td>-0.000055</td><td>-0.000048</td><td>-0.000038</td><td>-0.000028</td><td>-0.000021</td><td>-0.000015</td><td>-0.000011</td><td>-0.00001</td><td>-0.000009</td><td>-0.000008</td><td>-0.000008</td><td>-0.000007</td><td>-0.000007</td><td>-0.000006</td><td>-0.000006</td><td>-0.000005</td><td>-0.000004</td><td>-0.000004</td><td>-0.000004</td><td>-0.000004</td><td>-0.000004</td><td>-0.000004</td><td>-0.000005</td><td>-0.000005</td><td>-0.000005</td><td>-0.000006</td><td>-0.000007</td><td>-0.000007</td><td>-0.000007</td><td>-0.000008</td><td>-0.000008</td><td>&hellip;</td><td>-4.9600e-8</td><td>-2.2213e-8</td><td>-5.2729e-8</td><td>-2.1243e-8</td><td>-2.9495e-8</td><td>-1.6847e-8</td><td>-7.4410e-8</td><td>-7.7994e-8</td><td>-1.4251e-7</td><td>-5.3214e-8</td><td>-1.3127e-7</td><td>1.9973e-8</td><td>5.8328e-8</td><td>1.0260e-7</td><td>5.4453e-8</td><td>5.7285e-8</td><td>-1.3892e-7</td><td>-4.5487e-8</td><td>-8.3921e-8</td><td>3.6239e-8</td><td>-1.7877e-7</td><td>2.1998e-7</td><td>-3.6708e-7</td><td>6.1595e-9</td><td>-8.1189e-7</td><td>0.000001</td><td>0.000002</td><td>0.000004</td><td>-0.000005</td><td>-9.340406</td><td>131.845276</td><td>2.6036e-9</td><td>6.1674e-9</td><td>-4.082799</td><td>1.305104</td><td>0.661074</td><td>-1.026797</td></tr><tr><td>&quot;test_99996&quot;</td><td>0.000031</td><td>0.000006</td><td>0.000014</td><td>0.000023</td><td>0.000038</td><td>0.000059</td><td>0.000055</td><td>0.000038</td><td>0.000022</td><td>0.000014</td><td>0.000009</td><td>0.000006</td><td>0.000005</td><td>0.000005</td><td>0.000004</td><td>0.000003</td><td>0.000003</td><td>8.0132e-7</td><td>0.000001</td><td>1.2253e-7</td><td>-4.9208e-8</td><td>-2.2409e-7</td><td>-2.8962e-7</td><td>-5.4846e-8</td><td>-4.5202e-9</td><td>-9.5995e-8</td><td>-5.7137e-7</td><td>2.3449e-8</td><td>-1.1816e-8</td><td>-3.8908e-7</td><td>-5.4699e-7</td><td>-0.000002</td><td>-0.000001</td><td>-0.000002</td><td>-0.000001</td><td>-0.000003</td><td>&hellip;</td><td>2.7823e-8</td><td>-2.0083e-8</td><td>-2.2846e-8</td><td>-3.2711e-8</td><td>-5.4800e-8</td><td>-1.7259e-8</td><td>-1.2160e-7</td><td>-5.4767e-8</td><td>-1.1772e-7</td><td>-5.6153e-8</td><td>-8.1706e-8</td><td>5.2383e-8</td><td>3.1959e-8</td><td>9.3454e-8</td><td>-1.7646e-9</td><td>5.3177e-8</td><td>-1.1894e-8</td><td>1.9591e-7</td><td>8.9292e-8</td><td>1.8257e-7</td><td>-1.0346e-7</td><td>-3.8662e-8</td><td>-2.9739e-7</td><td>8.6730e-8</td><td>-3.6961e-7</td><td>6.9237e-8</td><td>5.3652e-8</td><td>6.2289e-7</td><td>-0.000001</td><td>77.007706</td><td>180.331985</td><td>6.0149e-9</td><td>9.8584e-9</td><td>110.073946</td><td>152.048762</td><td>66.604781</td><td>25.988103</td></tr><tr><td>&quot;test_99997&quot;</td><td>-0.000018</td><td>-0.000016</td><td>-0.000035</td><td>-0.000052</td><td>-0.00008</td><td>-0.000108</td><td>-0.000098</td><td>-0.000069</td><td>-0.000045</td><td>-0.000037</td><td>-0.000028</td><td>-0.000021</td><td>-0.000014</td><td>-0.000009</td><td>-0.000003</td><td>0.000002</td><td>0.000004</td><td>0.000004</td><td>0.000002</td><td>3.8437e-7</td><td>-0.000005</td><td>-0.000006</td><td>-0.00001</td><td>-0.000015</td><td>-0.000021</td><td>-0.000026</td><td>-0.000032</td><td>-0.000033</td><td>-0.00003</td><td>-0.000026</td><td>-0.000026</td><td>-0.000026</td><td>-0.000025</td><td>-0.000025</td><td>-0.000026</td><td>-0.000026</td><td>&hellip;</td><td>-2.4854e-7</td><td>-8.7931e-7</td><td>-9.1155e-7</td><td>-6.7128e-7</td><td>-2.5860e-7</td><td>-3.1636e-7</td><td>3.3758e-11</td><td>0.000003</td><td>-0.000008</td><td>-0.000008</td><td>-0.000001</td><td>8.4296e-7</td><td>0.000002</td><td>0.000004</td><td>0.000004</td><td>0.000004</td><td>0.000003</td><td>0.000002</td><td>0.000002</td><td>0.000001</td><td>9.9811e-7</td><td>6.5213e-7</td><td>-1.1043e-7</td><td>-1.2256e-7</td><td>-0.000001</td><td>-0.000001</td><td>-0.000002</td><td>-0.000001</td><td>-0.000011</td><td>-2.137045</td><td>372.48339</td><td>1.9105e-10</td><td>1.2225e-9</td><td>-0.573249</td><td>0.827</td><td>-0.432149</td><td>-0.064427</td></tr><tr><td>&quot;test_99998&quot;</td><td>0.000035</td><td>0.000026</td><td>0.000072</td><td>0.000084</td><td>0.000102</td><td>0.000088</td><td>0.000062</td><td>0.000051</td><td>0.000032</td><td>0.000023</td><td>0.000017</td><td>0.000014</td><td>0.000011</td><td>0.000009</td><td>0.000007</td><td>0.000005</td><td>0.000004</td><td>0.000003</td><td>-0.000003</td><td>0.000001</td><td>3.4974e-7</td><td>-0.000001</td><td>-0.000002</td><td>-0.000002</td><td>-0.000003</td><td>-0.000005</td><td>-0.000005</td><td>-0.000004</td><td>-0.000005</td><td>-0.000006</td><td>-0.000008</td><td>-0.000009</td><td>-0.000011</td><td>-0.000011</td><td>-0.000013</td><td>-0.000012</td><td>&hellip;</td><td>-5.0906e-7</td><td>-5.1868e-7</td><td>-3.2353e-7</td><td>-4.4387e-8</td><td>2.0427e-7</td><td>1.7173e-7</td><td>4.0248e-8</td><td>-1.9545e-7</td><td>-2.8556e-7</td><td>-2.5235e-7</td><td>-2.2994e-7</td><td>-3.7203e-7</td><td>-4.7790e-7</td><td>-0.000002</td><td>-0.000005</td><td>-0.000003</td><td>-0.000003</td><td>-0.000003</td><td>-1.4398e-7</td><td>1.9870e-7</td><td>2.5516e-7</td><td>0.000001</td><td>0.000008</td><td>0.000012</td><td>0.000028</td><td>0.000007</td><td>-0.000007</td><td>-0.000003</td><td>-0.000012</td><td>140.999237</td><td>330.346999</td><td>1.8998e-10</td><td>7.2604e-9</td><td>36.476481</td><td>48.990684</td><td>46.074549</td><td>26.019376</td></tr></tbody></table></div>"
      ],
      "text/plain": [
       "shape: (625_000, 369)\n",
       "┌───────────┬───────────┬───────────┬───────────┬───┬───────────┬───────────┬───────────┬──────────┐\n",
       "│ sample_id ┆ ptend_t_0 ┆ ptend_t_1 ┆ ptend_t_2 ┆ … ┆ cam_out_S ┆ cam_out_S ┆ cam_out_S ┆ cam_out_ │\n",
       "│ ---       ┆ ---       ┆ ---       ┆ ---       ┆   ┆ OLS       ┆ OLL       ┆ OLSD      ┆ SOLLD    │\n",
       "│ str       ┆ f64       ┆ f64       ┆ f64       ┆   ┆ ---       ┆ ---       ┆ ---       ┆ ---      │\n",
       "│           ┆           ┆           ┆           ┆   ┆ f64       ┆ f64       ┆ f64       ┆ f64      │\n",
       "╞═══════════╪═══════════╪═══════════╪═══════════╪═══╪═══════════╪═══════════╪═══════════╪══════════╡\n",
       "│ test_0    ┆ 0.000004  ┆ -0.000062 ┆ -0.000082 ┆ … ┆ -2.799919 ┆ -3.736818 ┆ -0.810049 ┆ -1.04260 │\n",
       "│           ┆           ┆           ┆           ┆   ┆           ┆           ┆           ┆ 9        │\n",
       "│ test_10   ┆ -0.000016 ┆ -0.00005  ┆ -0.000034 ┆ … ┆ -2.606503 ┆ -1.805405 ┆ 0.703089  ┆ 2.066207 │\n",
       "│ test_100  ┆ -0.000006 ┆ -0.000074 ┆ -0.000033 ┆ … ┆ -3.40861  ┆ -0.353193 ┆ 0.223945  ┆ 0.02872  │\n",
       "│ test_1000 ┆ 0.000027  ┆ 0.000008  ┆ 0.000032  ┆ … ┆ -8.825081 ┆ 2.392096  ┆ 7.769036  ┆ -0.21994 │\n",
       "│           ┆           ┆           ┆           ┆   ┆           ┆           ┆           ┆ 2        │\n",
       "│ test_1000 ┆ 0.000048  ┆ 0.000027  ┆ 0.000046  ┆ … ┆ 431.9696  ┆ 442.68118 ┆ 54.848124 ┆ 6.96466  │\n",
       "│ 0         ┆           ┆           ┆           ┆   ┆           ┆ 9         ┆           ┆          │\n",
       "│ …         ┆ …         ┆ …         ┆ …         ┆ … ┆ …         ┆ …         ┆ …         ┆ …        │\n",
       "│ test_9999 ┆ 0.000051  ┆ -0.000014 ┆ 0.000017  ┆ … ┆ 183.17560 ┆ 191.63550 ┆ 65.071495 ┆ 28.94303 │\n",
       "│ 4         ┆           ┆           ┆           ┆   ┆ 8         ┆ 8         ┆           ┆ 2        │\n",
       "│ test_9999 ┆ 0.000006  ┆ -0.000061 ┆ -0.000142 ┆ … ┆ -4.082799 ┆ 1.305104  ┆ 0.661074  ┆ -1.02679 │\n",
       "│ 5         ┆           ┆           ┆           ┆   ┆           ┆           ┆           ┆ 7        │\n",
       "│ test_9999 ┆ 0.000031  ┆ 0.000006  ┆ 0.000014  ┆ … ┆ 110.07394 ┆ 152.04876 ┆ 66.604781 ┆ 25.98810 │\n",
       "│ 6         ┆           ┆           ┆           ┆   ┆ 6         ┆ 2         ┆           ┆ 3        │\n",
       "│ test_9999 ┆ -0.000018 ┆ -0.000016 ┆ -0.000035 ┆ … ┆ -0.573249 ┆ 0.827     ┆ -0.432149 ┆ -0.06442 │\n",
       "│ 7         ┆           ┆           ┆           ┆   ┆           ┆           ┆           ┆ 7        │\n",
       "│ test_9999 ┆ 0.000035  ┆ 0.000026  ┆ 0.000072  ┆ … ┆ 36.476481 ┆ 48.990684 ┆ 46.074549 ┆ 26.01937 │\n",
       "│ 8         ┆           ┆           ┆           ┆   ┆           ┆           ┆           ┆ 6        │\n",
       "└───────────┴───────────┴───────────┴───────────┴───┴───────────┴───────────┴───────────┴──────────┘"
      ]
     },
     "execution_count": 2,
     "metadata": {},
     "output_type": "execute_result"
    }
   ],
   "source": [
    "ensemble_df"
   ]
  }
 ],
 "metadata": {
  "kaggle": {
   "accelerator": "none",
   "dataSources": [
    {
     "databundleVersionId": 8877088,
     "sourceId": 56537,
     "sourceType": "competition"
    },
    {
     "datasetId": 5364771,
     "sourceId": 8919969,
     "sourceType": "datasetVersion"
    },
    {
     "sourceId": 180754365,
     "sourceType": "kernelVersion"
    },
    {
     "sourceId": 185433821,
     "sourceType": "kernelVersion"
    },
    {
     "sourceId": 186747898,
     "sourceType": "kernelVersion"
    },
    {
     "sourceId": 187298035,
     "sourceType": "kernelVersion"
    },
    {
     "sourceId": 187559696,
     "sourceType": "kernelVersion"
    }
   ],
   "dockerImageVersionId": 30732,
   "isGpuEnabled": false,
   "isInternetEnabled": true,
   "language": "python",
   "sourceType": "notebook"
  },
  "kernelspec": {
   "display_name": "Python 3",
   "language": "python",
   "name": "python3"
  },
  "language_info": {
   "codemirror_mode": {
    "name": "ipython",
    "version": 3
   },
   "file_extension": ".py",
   "mimetype": "text/x-python",
   "name": "python",
   "nbconvert_exporter": "python",
   "pygments_lexer": "ipython3",
   "version": "3.10.13"
  },
  "papermill": {
   "default_parameters": {},
   "duration": 84.379951,
   "end_time": "2024-07-12T10:51:12.259798",
   "environment_variables": {},
   "exception": null,
   "input_path": "__notebook__.ipynb",
   "output_path": "__notebook__.ipynb",
   "parameters": {},
   "start_time": "2024-07-12T10:49:47.879847",
   "version": "2.5.0"
  }
 },
 "nbformat": 4,
 "nbformat_minor": 5
}
